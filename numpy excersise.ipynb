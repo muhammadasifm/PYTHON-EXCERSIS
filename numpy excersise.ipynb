{
 "cells": [
  {
   "cell_type": "markdown",
   "metadata": {},
   "source": [
    "# Introduction to NumPy"
   ]
  },
  {
   "cell_type": "markdown",
   "metadata": {},
   "source": [
    "## Installing & Updating the Package"
   ]
  },
  {
   "cell_type": "markdown",
   "metadata": {},
   "source": [
    "NumPy comes pre-isntalled if you're using Anaconda. \n",
    "**pip install numpy** \n",
    "\n",
    "To get the latest version:\n",
    "**pip install numpy --upgrade**"
   ]
  },
  {
   "cell_type": "markdown",
   "metadata": {},
   "source": [
    "### Importing NumPy"
   ]
  },
  {
   "cell_type": "code",
   "execution_count": 1,
   "metadata": {},
   "outputs": [],
   "source": [
    "import numpy as np\n",
    "\n",
    "## We import packages libraries with \"import name_of_packagge\".\n",
    "## Using \"as np\" is not mandatory. It's just common practice.\n",
    "##conduct element wise operation"
   ]
  },
  {
   "cell_type": "markdown",
   "metadata": {},
   "source": [
    "### Using NumPy"
   ]
  },
  {
   "cell_type": "code",
   "execution_count": 2,
   "metadata": {},
   "outputs": [],
   "source": [
    "array_a = np.array([1,2,3])\n",
    "\n",
    "## \"np.\" -> Signals this is a NumPy function, since we imported the package as \"np\".\n",
    "## np.array() creates an array with the values we input.\n",
    "##scalar 0-d single value nd no bracket\n",
    "##vector 1-d []\n",
    "##matrix 2-d [[],[]]"
   ]
  },
  {
   "cell_type": "code",
   "execution_count": 3,
   "metadata": {},
   "outputs": [
    {
     "data": {
      "text/plain": [
       "array([1, 2, 3])"
      ]
     },
     "execution_count": 3,
     "metadata": {},
     "output_type": "execute_result"
    }
   ],
   "source": [
    "array_a\n",
    "\n",
    "## Displays the variable (unique to Jupyter)."
   ]
  },
  {
   "cell_type": "code",
   "execution_count": 4,
   "metadata": {},
   "outputs": [
    {
     "data": {
      "text/plain": [
       "array([[1, 2, 3],\n",
       "       [4, 5, 6]])"
      ]
     },
     "execution_count": 4,
     "metadata": {},
     "output_type": "execute_result"
    }
   ],
   "source": [
    "array_b = np.array([[1,2,3],[4,5,6]])\n",
    "array_b"
   ]
  },
  {
   "cell_type": "markdown",
   "metadata": {},
   "source": [
    "### NumPy Documentation"
   ]
  },
  {
   "cell_type": "markdown",
   "metadata": {},
   "source": [
    "https://numpy.org/devdocs/ <- <i> A link to the NumPy documentation"
   ]
  },
  {
   "cell_type": "code",
   "execution_count": 5,
   "metadata": {},
   "outputs": [
    {
     "data": {
      "text/plain": [
       "array([2.5, 3.5, 4.5])"
      ]
     },
     "execution_count": 5,
     "metadata": {},
     "output_type": "execute_result"
    }
   ],
   "source": [
    "np.mean(array_b, axis = 0)\n",
    "\n",
    "## The np.mean() function takes an array and returns its algebraic mean.\n",
    "## Axis 0 -> We're running this function over each column.\n",
    "## shift+tab"
   ]
  },
  {
   "cell_type": "markdown",
   "metadata": {},
   "source": [
    "# Indexing"
   ]
  },
  {
   "cell_type": "code",
   "execution_count": 6,
   "metadata": {},
   "outputs": [
    {
     "data": {
      "text/plain": [
       "array([[1, 2, 3],\n",
       "       [4, 5, 6]])"
      ]
     },
     "execution_count": 6,
     "metadata": {},
     "output_type": "execute_result"
    }
   ],
   "source": [
    "array_a = np.array([[1,2,3],[4,5,6]])\n",
    "array_a"
   ]
  },
  {
   "cell_type": "code",
   "execution_count": 7,
   "metadata": {},
   "outputs": [
    {
     "data": {
      "text/plain": [
       "array([4, 5, 6])"
      ]
     },
     "execution_count": 7,
     "metadata": {},
     "output_type": "execute_result"
    }
   ],
   "source": [
    "array_a[1]\n",
    "\n",
    "## By adding numbers between square brackets, we can reference specific values of the array. \n",
    "## Python uses 0-indexing, so the first position has an index 0, the second position has index 1, and so on."
   ]
  },
  {
   "cell_type": "code",
   "execution_count": 8,
   "metadata": {},
   "outputs": [
    {
     "data": {
      "text/plain": [
       "4"
      ]
     },
     "execution_count": 8,
     "metadata": {},
     "output_type": "execute_result"
    }
   ],
   "source": [
    "array_a[1][0]\n",
    "\n",
    "## We can index every dimension of the array separately."
   ]
  },
  {
   "cell_type": "code",
   "execution_count": 9,
   "metadata": {},
   "outputs": [
    {
     "data": {
      "text/plain": [
       "4"
      ]
     },
     "execution_count": 9,
     "metadata": {},
     "output_type": "execute_result"
    }
   ],
   "source": [
    "array_a[1,0]\n",
    "\n",
    "## [1,0] is equivalent to [1][0] "
   ]
  },
  {
   "cell_type": "code",
   "execution_count": 10,
   "metadata": {},
   "outputs": [
    {
     "data": {
      "text/plain": [
       "array([1, 4])"
      ]
     },
     "execution_count": 10,
     "metadata": {},
     "output_type": "execute_result"
    }
   ],
   "source": [
    "array_a[:,0]\n",
    "\n",
    "## The \":\" is equivalent to \"from start to end\" in this context. \n",
    "## go throught all rows in the first column,interval index"
   ]
  },
  {
   "cell_type": "markdown",
   "metadata": {},
   "source": [
    "# Negative Indices"
   ]
  },
  {
   "cell_type": "code",
   "execution_count": 11,
   "metadata": {},
   "outputs": [
    {
     "data": {
      "text/plain": [
       "3"
      ]
     },
     "execution_count": 11,
     "metadata": {},
     "output_type": "execute_result"
    }
   ],
   "source": [
    "array_b = np.array([1,2,3])\n",
    "array_b[-1]\n",
    "\n",
    "## Negative indices mean traversing from the back. \n",
    "## No such thing as  -0 , so the first negative index is -1\n",
    "##-0 = 0"
   ]
  },
  {
   "cell_type": "code",
   "execution_count": 12,
   "metadata": {},
   "outputs": [
    {
     "data": {
      "text/plain": [
       "array([[1, 2, 3],\n",
       "       [4, 5, 6]])"
      ]
     },
     "execution_count": 12,
     "metadata": {},
     "output_type": "execute_result"
    }
   ],
   "source": [
    "array_a"
   ]
  },
  {
   "cell_type": "code",
   "execution_count": 13,
   "metadata": {},
   "outputs": [
    {
     "data": {
      "text/plain": [
       "array([4, 5, 6])"
      ]
     },
     "execution_count": 13,
     "metadata": {},
     "output_type": "execute_result"
    }
   ],
   "source": [
    "array_a[-1]"
   ]
  },
  {
   "cell_type": "code",
   "execution_count": 15,
   "metadata": {},
   "outputs": [],
   "source": [
    "# array_a[-3] \n",
    "# Goes out of bounds, since -3 implies there are 3 rows. "
   ]
  },
  {
   "cell_type": "code",
   "execution_count": 16,
   "metadata": {},
   "outputs": [
    {
     "data": {
      "text/plain": [
       "array([3, 6])"
      ]
     },
     "execution_count": 16,
     "metadata": {},
     "output_type": "execute_result"
    }
   ],
   "source": [
    "array_a[:,-1]"
   ]
  },
  {
   "cell_type": "markdown",
   "metadata": {},
   "source": [
    "# Assigning Values"
   ]
  },
  {
   "cell_type": "code",
   "execution_count": 17,
   "metadata": {},
   "outputs": [
    {
     "data": {
      "text/plain": [
       "array([[1, 2, 3],\n",
       "       [4, 5, 6]])"
      ]
     },
     "execution_count": 17,
     "metadata": {},
     "output_type": "execute_result"
    }
   ],
   "source": [
    "array_a = np.array([[1,2,3],[4,5,6]])\n",
    "array_a"
   ]
  },
  {
   "cell_type": "code",
   "execution_count": 18,
   "metadata": {},
   "outputs": [
    {
     "data": {
      "text/plain": [
       "array([[1, 2, 9],\n",
       "       [4, 5, 6]])"
      ]
     },
     "execution_count": 18,
     "metadata": {},
     "output_type": "execute_result"
    }
   ],
   "source": [
    "array_a[0,2] = 9\n",
    "array_a \n",
    "\n",
    "## Assign a value to an individual element."
   ]
  },
  {
   "cell_type": "code",
   "execution_count": 19,
   "metadata": {},
   "outputs": [
    {
     "data": {
      "text/plain": [
       "array([[9, 9, 9],\n",
       "       [4, 5, 6]])"
      ]
     },
     "execution_count": 19,
     "metadata": {},
     "output_type": "execute_result"
    }
   ],
   "source": [
    "array_a[0] = 9\n",
    "array_a\n",
    "\n",
    "## Assign a value to an entire row."
   ]
  },
  {
   "cell_type": "code",
   "execution_count": 20,
   "metadata": {},
   "outputs": [
    {
     "data": {
      "text/plain": [
       "array([[9, 9, 9],\n",
       "       [9, 5, 6]])"
      ]
     },
     "execution_count": 20,
     "metadata": {},
     "output_type": "execute_result"
    }
   ],
   "source": [
    "array_a[:,0] = 9\n",
    "array_a\n",
    "\n",
    "## Assign a value to an entire column.frst"
   ]
  },
  {
   "cell_type": "code",
   "execution_count": 21,
   "metadata": {},
   "outputs": [
    {
     "data": {
      "text/plain": [
       "array([[8, 7, 8],\n",
       "       [9, 5, 6]])"
      ]
     },
     "execution_count": 21,
     "metadata": {},
     "output_type": "execute_result"
    }
   ],
   "source": [
    "list_a = [8,7,8] # this is 1 -d array without using array\n",
    "\n",
    "array_a[0] = list_a\n",
    "array_a\n",
    "\n",
    "## Assign different values to an entire row via a list.can pass tuple also"
   ]
  },
  {
   "cell_type": "code",
   "execution_count": 22,
   "metadata": {},
   "outputs": [
    {
     "data": {
      "text/plain": [
       "numpy.ndarray"
      ]
     },
     "execution_count": 22,
     "metadata": {},
     "output_type": "execute_result"
    }
   ],
   "source": [
    "type(array_a[0]) #only take the element ratherthan typr"
   ]
  },
  {
   "cell_type": "code",
   "execution_count": 23,
   "metadata": {},
   "outputs": [
    {
     "data": {
      "text/plain": [
       "array([[9, 9, 9],\n",
       "       [9, 9, 9]])"
      ]
     },
     "execution_count": 23,
     "metadata": {},
     "output_type": "execute_result"
    }
   ],
   "source": [
    "array_a[:] = 9\n",
    "array_a\n",
    "\n",
    "## Assign the same value to all the individual elements in the array."
   ]
  },
  {
   "cell_type": "code",
   "execution_count": 24,
   "metadata": {},
   "outputs": [
    {
     "data": {
      "text/plain": [
       "9"
      ]
     },
     "execution_count": 24,
     "metadata": {},
     "output_type": "execute_result"
    }
   ],
   "source": [
    "array_a = 9\n",
    "array_a\n",
    "\n",
    "## Type assignment in Python is dynamic. Hence, a variable's type can change based on what values we assign to it. \n",
    "## Here, array_a changes from an ndarray to an integer."
   ]
  },
  {
   "cell_type": "code",
   "execution_count": 25,
   "metadata": {},
   "outputs": [
    {
     "data": {
      "text/plain": [
       "int"
      ]
     },
     "execution_count": 25,
     "metadata": {},
     "output_type": "execute_result"
    }
   ],
   "source": [
    "type(array_a)"
   ]
  },
  {
   "cell_type": "code",
   "execution_count": 26,
   "metadata": {},
   "outputs": [
    {
     "data": {
      "text/plain": [
       "array([[1, 2, 3],\n",
       "       [4, 5, 6]])"
      ]
     },
     "execution_count": 26,
     "metadata": {},
     "output_type": "execute_result"
    }
   ],
   "source": [
    "array_a = np.array([[1,2,3],[4,5,6]])\n",
    "array_a"
   ]
  },
  {
   "cell_type": "markdown",
   "metadata": {},
   "source": [
    "# Elementwise Properties"
   ]
  },
  {
   "cell_type": "code",
   "execution_count": 27,
   "metadata": {},
   "outputs": [
    {
     "data": {
      "text/plain": [
       "array([7, 8, 9])"
      ]
     },
     "execution_count": 27,
     "metadata": {},
     "output_type": "execute_result"
    }
   ],
   "source": [
    "array_a = np.array([7,8,9])\n",
    "array_a"
   ]
  },
  {
   "cell_type": "code",
   "execution_count": 28,
   "metadata": {},
   "outputs": [
    {
     "data": {
      "text/plain": [
       "array([[1, 2, 3],\n",
       "       [4, 5, 6]])"
      ]
     },
     "execution_count": 28,
     "metadata": {},
     "output_type": "execute_result"
    }
   ],
   "source": [
    "array_b = np.array([[1,2,3],[4,5,6]])\n",
    "array_b"
   ]
  },
  {
   "cell_type": "code",
   "execution_count": 29,
   "metadata": {},
   "outputs": [
    {
     "data": {
      "text/plain": [
       "array([[ 2,  4,  6],\n",
       "       [ 8, 10, 12]])"
      ]
     },
     "execution_count": 29,
     "metadata": {},
     "output_type": "execute_result"
    }
   ],
   "source": [
    "array_b * 2\n",
    "\n",
    "## Multiplying each element of array_b by 2"
   ]
  },
  {
   "cell_type": "code",
   "execution_count": 30,
   "metadata": {},
   "outputs": [
    {
     "data": {
      "text/plain": [
       "[1, 2, 3, 2]"
      ]
     },
     "execution_count": 30,
     "metadata": {},
     "output_type": "execute_result"
    }
   ],
   "source": [
    "list_a = [1,2,3]\n",
    "list_a + [2]\n",
    "\n",
    "## Since lists don't work elementwise, we're concatenating [2] to list_a."
   ]
  },
  {
   "cell_type": "code",
   "execution_count": 31,
   "metadata": {},
   "outputs": [
    {
     "data": {
      "text/plain": [
       "array([ 9, 10, 11])"
      ]
     },
     "execution_count": 31,
     "metadata": {},
     "output_type": "execute_result"
    }
   ],
   "source": [
    "array_a + 2\n",
    "\n",
    "## Elementwise addition adds 2 to each element of array_a."
   ]
  },
  {
   "cell_type": "code",
   "execution_count": 32,
   "metadata": {},
   "outputs": [
    {
     "data": {
      "text/plain": [
       "array([28, 40, 54])"
      ]
     },
     "execution_count": 32,
     "metadata": {},
     "output_type": "execute_result"
    }
   ],
   "source": [
    "array_a * array_b[1]\n",
    "\n",
    "## Elementwise multiplication. \n",
    "## We multiply each individual element of array_a by its corresponding element in the second row of array_b.not matrix mul"
   ]
  },
  {
   "cell_type": "code",
   "execution_count": 33,
   "metadata": {},
   "outputs": [
    {
     "data": {
      "text/plain": [
       "array([[-6, -6, -6],\n",
       "       [-3, -3, -3]])"
      ]
     },
     "execution_count": 33,
     "metadata": {},
     "output_type": "execute_result"
    }
   ],
   "source": [
    "array_b - array_a\n",
    "\n",
    "## The order of the elements matters for elementwise subtraction, division, as well as other operations. "
   ]
  },
  {
   "cell_type": "code",
   "execution_count": 37,
   "metadata": {},
   "outputs": [
    {
     "data": {
      "text/plain": [
       "array([[ 2.,  4.,  6.],\n",
       "       [ 8., 10., 12.]])"
      ]
     },
     "execution_count": 37,
     "metadata": {},
     "output_type": "execute_result"
    }
   ],
   "source": [
    "array_b + array_a"
   ]
  },
  {
   "cell_type": "markdown",
   "metadata": {},
   "source": [
    "# Types of Data Supported by NumPy"
   ]
  },
  {
   "cell_type": "code",
   "execution_count": 34,
   "metadata": {},
   "outputs": [
    {
     "data": {
      "text/plain": [
       "array([[1, 2, 3],\n",
       "       [4, 5, 6]])"
      ]
     },
     "execution_count": 34,
     "metadata": {},
     "output_type": "execute_result"
    }
   ],
   "source": [
    "array_a = np.array([[1,2,3],[4,5,6]])\n",
    "array_a"
   ]
  },
  {
   "cell_type": "code",
   "execution_count": 35,
   "metadata": {},
   "outputs": [
    {
     "data": {
      "text/plain": [
       "array([[1., 2., 3.],\n",
       "       [4., 5., 6.]], dtype=float16)"
      ]
     },
     "execution_count": 35,
     "metadata": {},
     "output_type": "execute_result"
    }
   ],
   "source": [
    "array_a = np.array([[1,2,3],[4,5,6]], dtype = np.float16)\n",
    "array_a\n",
    "\n",
    "# Defining all the values as floats (decimals)."
   ]
  },
  {
   "cell_type": "code",
   "execution_count": 38,
   "metadata": {},
   "outputs": [
    {
     "data": {
      "text/plain": [
       "array([[1.+0.j, 2.+0.j, 3.+0.j],\n",
       "       [4.+0.j, 5.+0.j, 6.+0.j]], dtype=complex64)"
      ]
     },
     "execution_count": 38,
     "metadata": {},
     "output_type": "execute_result"
    }
   ],
   "source": [
    "array_a = np.array([[1,2,3],[4,5,6]], dtype = np.complex64)\n",
    "array_a\n",
    "\n",
    "# Defining all the values as complex numbers."
   ]
  },
  {
   "cell_type": "code",
   "execution_count": 39,
   "metadata": {},
   "outputs": [
    {
     "name": "stderr",
     "output_type": "stream",
     "text": [
      "<ipython-input-39-d1909a485020>:1: DeprecationWarning: `np.bool` is a deprecated alias for the builtin `bool`. To silence this warning, use `bool` by itself. Doing this will not modify any behavior and is safe. If you specifically wanted the numpy scalar type, use `np.bool_` here.\n",
      "Deprecated in NumPy 1.20; for more details and guidance: https://numpy.org/devdocs/release/1.20.0-notes.html#deprecations\n",
      "  array_a = np.array([[1,2,0],[4,5,6]], dtype = np.bool)\n"
     ]
    },
    {
     "data": {
      "text/plain": [
       "array([[ True,  True, False],\n",
       "       [ True,  True,  True]])"
      ]
     },
     "execution_count": 39,
     "metadata": {},
     "output_type": "execute_result"
    }
   ],
   "source": [
    "array_a = np.array([[1,2,0],[4,5,6]], dtype = np.bool)\n",
    "array_a\n",
    "\n",
    "# Defining all the values as Booleans.\n",
    "# T=rather than zero value"
   ]
  },
  {
   "cell_type": "code",
   "execution_count": 40,
   "metadata": {},
   "outputs": [
    {
     "name": "stderr",
     "output_type": "stream",
     "text": [
      "<ipython-input-40-e95068195692>:1: DeprecationWarning: `np.str` is a deprecated alias for the builtin `str`. To silence this warning, use `str` by itself. Doing this will not modify any behavior and is safe. If you specifically wanted the numpy scalar type, use `np.str_` here.\n",
      "Deprecated in NumPy 1.20; for more details and guidance: https://numpy.org/devdocs/release/1.20.0-notes.html#deprecations\n",
      "  array_a = np.array([[10,2,3],[4,5,6]], dtype = np.str)\n"
     ]
    },
    {
     "data": {
      "text/plain": [
       "array([['10', '2', '3'],\n",
       "       ['4', '5', '6']], dtype='<U2')"
      ]
     },
     "execution_count": 40,
     "metadata": {},
     "output_type": "execute_result"
    }
   ],
   "source": [
    "array_a = np.array([[10,2,3],[4,5,6]], dtype = np.str)\n",
    "array_a\n",
    "\n",
    "# Defining all the values as text.\n",
    "# u2 mean one of the element contain 2 chara"
   ]
  },
  {
   "cell_type": "markdown",
   "metadata": {},
   "source": [
    "https://numpy.org/devdocs/reference/generated/numpy.dtype.kind.html <- A link to the documentation explaining the unicode abbreviation"
   ]
  },
  {
   "cell_type": "markdown",
   "metadata": {},
   "source": [
    "# Characteristics of NumPy Functions"
   ]
  },
  {
   "cell_type": "markdown",
   "metadata": {},
   "source": [
    "# Universal Functions"
   ]
  },
  {
   "cell_type": "markdown",
   "metadata": {},
   "source": [
    "https://numpy.org/devdocs/reference/ufuncs.html <- A link to the documentation page on Universal Functions"
   ]
  },
  {
   "cell_type": "markdown",
   "metadata": {},
   "source": [
    "Broadcasting"
   ]
  },
  {
   "cell_type": "code",
   "execution_count": 41,
   "metadata": {},
   "outputs": [
    {
     "data": {
      "text/plain": [
       "array([1, 2, 3])"
      ]
     },
     "execution_count": 41,
     "metadata": {},
     "output_type": "execute_result"
    }
   ],
   "source": [
    "array_a = np.array([1,2,3])\n",
    "array_a"
   ]
  },
  {
   "cell_type": "code",
   "execution_count": 42,
   "metadata": {},
   "outputs": [
    {
     "data": {
      "text/plain": [
       "array([[1],\n",
       "       [2]])"
      ]
     },
     "execution_count": 42,
     "metadata": {},
     "output_type": "execute_result"
    }
   ],
   "source": [
    "array_b = np.array([[1],[2]])\n",
    "array_b"
   ]
  },
  {
   "cell_type": "code",
   "execution_count": 43,
   "metadata": {},
   "outputs": [
    {
     "data": {
      "text/plain": [
       "array([[1, 2, 3],\n",
       "       [4, 5, 6]])"
      ]
     },
     "execution_count": 43,
     "metadata": {},
     "output_type": "execute_result"
    }
   ],
   "source": [
    "matrix_C = np.array([[1,2,3],[4,5,6]])\n",
    "matrix_C"
   ]
  },
  {
   "cell_type": "code",
   "execution_count": 44,
   "metadata": {},
   "outputs": [
    {
     "data": {
      "text/plain": [
       "array([[2, 3, 4],\n",
       "       [6, 7, 8]])"
      ]
     },
     "execution_count": 44,
     "metadata": {},
     "output_type": "execute_result"
    }
   ],
   "source": [
    "np.add(array_b, matrix_C)\n",
    "\n",
    "## Adding up values, even though the arrays don't have matching shapes.both array have diifrent length and dim \n",
    "## ivide small matrix extend chyth big matrix athra aavum[[1,1,1],[2,2,2]] nd [[1,2,3],[1,2,3]], ippol ith randum c de shap aayi"
   ]
  },
  {
   "cell_type": "markdown",
   "metadata": {},
   "source": [
    "# Type Casting"
   ]
  },
  {
   "cell_type": "code",
   "execution_count": 45,
   "metadata": {},
   "outputs": [
    {
     "data": {
      "text/plain": [
       "array([[2., 3., 4.],\n",
       "       [6., 7., 8.]])"
      ]
     },
     "execution_count": 45,
     "metadata": {},
     "output_type": "execute_result"
    }
   ],
   "source": [
    "np.add(array_b, matrix_C, dtype = np.float64)\n",
    "\n",
    "## We can define the datatyep\n",
    "## ivide str koduthal error kaanikum bcz str cant do maths add operation"
   ]
  },
  {
   "cell_type": "markdown",
   "metadata": {},
   "source": [
    "# Running over an Axis"
   ]
  },
  {
   "cell_type": "code",
   "execution_count": 46,
   "metadata": {},
   "outputs": [
    {
     "data": {
      "text/plain": [
       "array([2., 5.])"
      ]
     },
     "execution_count": 46,
     "metadata": {},
     "output_type": "execute_result"
    }
   ],
   "source": [
    "np.mean(matrix_C, axis = 1)\n",
    "\n",
    "## Axis = 0 runs the function over every column. \n",
    "## Axis = 1 runs the function over every row. \n",
    "## useful when large array have diff catg in diff colmn\n",
    "## creat new array"
   ]
  },
  {
   "cell_type": "code",
   "execution_count": 47,
   "metadata": {},
   "outputs": [
    {
     "data": {
      "text/plain": [
       "array([[1, 2, 3],\n",
       "       [4, 5, 6]])"
      ]
     },
     "execution_count": 47,
     "metadata": {},
     "output_type": "execute_result"
    }
   ],
   "source": [
    "matrix_C "
   ]
  },
  {
   "cell_type": "markdown",
   "metadata": {},
   "source": [
    "# Working with Arrays"
   ]
  },
  {
   "cell_type": "code",
   "execution_count": 48,
   "metadata": {},
   "outputs": [
    {
     "data": {
      "text/plain": [
       "array([[1, 2, 3],\n",
       "       [4, 5, 6]])"
      ]
     },
     "execution_count": 48,
     "metadata": {},
     "output_type": "execute_result"
    }
   ],
   "source": [
    "matrix_A = np.array([[1,2,3],[4,5,6]])\n",
    "matrix_A"
   ]
  },
  {
   "cell_type": "markdown",
   "metadata": {},
   "source": [
    "# Basic Slicing"
   ]
  },
  {
   "cell_type": "code",
   "execution_count": 49,
   "metadata": {},
   "outputs": [
    {
     "data": {
      "text/plain": [
       "array([[1, 2, 3],\n",
       "       [4, 5, 6]])"
      ]
     },
     "execution_count": 49,
     "metadata": {},
     "output_type": "execute_result"
    }
   ],
   "source": [
    "matrix_A[:]\n",
    "\n",
    "## The default start and stop for slicing are the origin and the end of the array. \n",
    "## Hence, [:] includes the entire array.consicutive"
   ]
  },
  {
   "cell_type": "code",
   "execution_count": 52,
   "metadata": {},
   "outputs": [
    {
     "data": {
      "text/plain": [
       "array([[1, 2, 3],\n",
       "       [4, 5, 6]])"
      ]
     },
     "execution_count": 52,
     "metadata": {},
     "output_type": "execute_result"
    }
   ],
   "source": [
    "matrix_A[:,:]"
   ]
  },
  {
   "cell_type": "code",
   "execution_count": 50,
   "metadata": {},
   "outputs": [
    {
     "data": {
      "text/plain": [
       "numpy.ndarray"
      ]
     },
     "execution_count": 50,
     "metadata": {},
     "output_type": "execute_result"
    }
   ],
   "source": [
    "type(matrix_A[:,:])\n",
    "\n",
    "## [:,:] -> All rows, and all columns."
   ]
  },
  {
   "cell_type": "code",
   "execution_count": 51,
   "metadata": {},
   "outputs": [
    {
     "data": {
      "text/plain": [
       "array([[1, 2, 3],\n",
       "       [4, 5, 6]])"
      ]
     },
     "execution_count": 51,
     "metadata": {},
     "output_type": "execute_result"
    }
   ],
   "source": [
    "matrix_A[:2]\n",
    "\n",
    "# [:2] -> All the rows up to the 3rd one (excluding the third one)."
   ]
  },
  {
   "cell_type": "code",
   "execution_count": 53,
   "metadata": {},
   "outputs": [
    {
     "data": {
      "text/plain": [
       "array([4, 5, 6])"
      ]
     },
     "execution_count": 53,
     "metadata": {},
     "output_type": "execute_result"
    }
   ],
   "source": [
    "matrix_A[1]"
   ]
  },
  {
   "cell_type": "code",
   "execution_count": 54,
   "metadata": {},
   "outputs": [
    {
     "data": {
      "text/plain": [
       "array([[1, 2, 3]])"
      ]
     },
     "execution_count": 54,
     "metadata": {},
     "output_type": "execute_result"
    }
   ],
   "source": [
    "matrix_A[:-1]\n",
    "\n",
    "# [:-1] -> All the rows up to the last one."
   ]
  },
  {
   "cell_type": "code",
   "execution_count": 60,
   "metadata": {},
   "outputs": [
    {
     "data": {
      "text/plain": [
       "array([[1, 2, 3],\n",
       "       [4, 5, 6]])"
      ]
     },
     "execution_count": 60,
     "metadata": {},
     "output_type": "execute_result"
    }
   ],
   "source": [
    "matrix_A[:2]"
   ]
  },
  {
   "cell_type": "code",
   "execution_count": 61,
   "metadata": {},
   "outputs": [
    {
     "data": {
      "text/plain": [
       "array([], shape=(0, 3), dtype=int32)"
      ]
     },
     "execution_count": 61,
     "metadata": {},
     "output_type": "execute_result"
    }
   ],
   "source": [
    "matrix_A[2:]\n",
    "## matrix_A[:n] nd matrix_A[n:] are compliment each other\n",
    "## this 0-d\n",
    "## indexing = specific idexing\n",
    "## slicing = indervel indexing"
   ]
  },
  {
   "cell_type": "code",
   "execution_count": 55,
   "metadata": {},
   "outputs": [
    {
     "data": {
      "text/plain": [
       "array([[2, 3],\n",
       "       [5, 6]])"
      ]
     },
     "execution_count": 55,
     "metadata": {},
     "output_type": "execute_result"
    }
   ],
   "source": [
    "matrix_A[:,1:]\n",
    "\n",
    "# All the rows, but only the columns from the one with index 1 (second column) onwards."
   ]
  },
  {
   "cell_type": "code",
   "execution_count": 64,
   "metadata": {},
   "outputs": [
    {
     "data": {
      "text/plain": [
       "array([[1, 2, 3],\n",
       "       [4, 5, 6]])"
      ]
     },
     "execution_count": 64,
     "metadata": {},
     "output_type": "execute_result"
    }
   ],
   "source": [
    "matrix_A"
   ]
  },
  {
   "cell_type": "code",
   "execution_count": 57,
   "metadata": {},
   "outputs": [
    {
     "data": {
      "text/plain": [
       "array([[5, 6]])"
      ]
     },
     "execution_count": 57,
     "metadata": {},
     "output_type": "execute_result"
    }
   ],
   "source": [
    "matrix_A[1:,1:]\n",
    "\n",
    "# All the rows after the first one and all the column after the first one. "
   ]
  },
  {
   "cell_type": "code",
   "execution_count": 62,
   "metadata": {},
   "outputs": [
    {
     "data": {
      "text/plain": [
       "array([1, 2, 3])"
      ]
     },
     "execution_count": 62,
     "metadata": {},
     "output_type": "execute_result"
    }
   ],
   "source": [
    "matrix_A[0]\n",
    "## 1-d slice"
   ]
  },
  {
   "cell_type": "code",
   "execution_count": 63,
   "metadata": {},
   "outputs": [
    {
     "data": {
      "text/plain": [
       "array([[1, 2, 3]])"
      ]
     },
     "execution_count": 63,
     "metadata": {},
     "output_type": "execute_result"
    }
   ],
   "source": [
    "matrix_A[:1]\n",
    "## 2d slicing"
   ]
  },
  {
   "cell_type": "markdown",
   "metadata": {},
   "source": [
    "# Stepwise Slicing"
   ]
  },
  {
   "cell_type": "code",
   "execution_count": 65,
   "metadata": {},
   "outputs": [
    {
     "data": {
      "text/plain": [
       "array([[1, 1, 1, 2, 0],\n",
       "       [3, 6, 6, 7, 4],\n",
       "       [4, 5, 3, 8, 0]])"
      ]
     },
     "execution_count": 65,
     "metadata": {},
     "output_type": "execute_result"
    }
   ],
   "source": [
    "matrix_B = np.array([[1,1,1,2,0], [3,6,6,7,4], [4,5,3,8,0]])\n",
    "matrix_B\n",
    "## dont have consicutive value\n",
    "## step element can be posi or neg ,not zero"
   ]
  },
  {
   "cell_type": "code",
   "execution_count": 66,
   "metadata": {},
   "outputs": [
    {
     "data": {
      "text/plain": [
       "array([[4, 3, 0],\n",
       "       [3, 6, 4],\n",
       "       [1, 1, 0]])"
      ]
     },
     "execution_count": 66,
     "metadata": {},
     "output_type": "execute_result"
    }
   ],
   "source": [
    "matrix_B[-1::-1,::2]\n",
    "\n",
    "# The syntax for each dimension is \"[start : stop : step]\". \n",
    "# A negative step means we're going through the array in reverse."
   ]
  },
  {
   "cell_type": "code",
   "execution_count": 67,
   "metadata": {},
   "outputs": [
    {
     "data": {
      "text/plain": [
       "array([[1, 1, 0],\n",
       "       [3, 6, 4],\n",
       "       [4, 3, 0]])"
      ]
     },
     "execution_count": 67,
     "metadata": {},
     "output_type": "execute_result"
    }
   ],
   "source": [
    "matrix_B[::,::2]"
   ]
  },
  {
   "cell_type": "markdown",
   "metadata": {},
   "source": [
    "# Conditional Slicing"
   ]
  },
  {
   "cell_type": "code",
   "execution_count": 68,
   "metadata": {},
   "outputs": [
    {
     "data": {
      "text/plain": [
       "array([[1, 1, 1, 2, 0],\n",
       "       [3, 6, 6, 7, 4],\n",
       "       [4, 5, 3, 8, 0]])"
      ]
     },
     "execution_count": 68,
     "metadata": {},
     "output_type": "execute_result"
    }
   ],
   "source": [
    "matrix_C = np.array([[1,1,1,2,0], [3,6,6,7,4], [4,5,3,8,0]])\n",
    "matrix_C"
   ]
  },
  {
   "cell_type": "code",
   "execution_count": 69,
   "metadata": {},
   "outputs": [
    {
     "data": {
      "text/plain": [
       "array([1, 3, 4])"
      ]
     },
     "execution_count": 69,
     "metadata": {},
     "output_type": "execute_result"
    }
   ],
   "source": [
    "matrix_C[:,0]"
   ]
  },
  {
   "cell_type": "code",
   "execution_count": 70,
   "metadata": {},
   "outputs": [
    {
     "data": {
      "text/plain": [
       "array([False,  True,  True])"
      ]
     },
     "execution_count": 70,
     "metadata": {},
     "output_type": "execute_result"
    }
   ],
   "source": [
    "matrix_C[:,0] > 2\n",
    "\n",
    "# Returns True/False based on whether the individual element satisfies the condition. "
   ]
  },
  {
   "cell_type": "code",
   "execution_count": 71,
   "metadata": {},
   "outputs": [
    {
     "data": {
      "text/plain": [
       "array([[False, False, False, False, False],\n",
       "       [ True,  True,  True,  True,  True],\n",
       "       [ True,  True,  True,  True, False]])"
      ]
     },
     "execution_count": 71,
     "metadata": {},
     "output_type": "execute_result"
    }
   ],
   "source": [
    "matrix_C[:,:] > 2\n",
    "\n",
    "# Returns True/False based on whether the individual element satisfies the condition. "
   ]
  },
  {
   "cell_type": "code",
   "execution_count": 72,
   "metadata": {},
   "outputs": [
    {
     "data": {
      "text/plain": [
       "array([2, 0, 6, 6, 4, 4, 8, 0])"
      ]
     },
     "execution_count": 72,
     "metadata": {},
     "output_type": "execute_result"
    }
   ],
   "source": [
    "matrix_C[matrix_C[:,:] % 2 == 0]\n",
    "\n",
    "# Returns the actual values which satisfy the condition, not simply True or False."
   ]
  },
  {
   "cell_type": "code",
   "execution_count": 73,
   "metadata": {},
   "outputs": [
    {
     "data": {
      "text/plain": [
       "array([1, 1, 1, 2, 0, 3, 6, 6, 4, 4, 3, 8, 0])"
      ]
     },
     "execution_count": 73,
     "metadata": {},
     "output_type": "execute_result"
    }
   ],
   "source": [
    "matrix_C[(matrix_C[:,:] % 2 == 0) | (matrix_C[:,:] <= 4)]\n",
    "\n",
    "# We can have more complex conditions, which are comprised of several smaller conditions. \n",
    "# & -> Both conditions must be met. \n",
    "# | -> Either condition can be met. "
   ]
  },
  {
   "cell_type": "markdown",
   "metadata": {},
   "source": [
    "# Dimensions and the Squeeze Function"
   ]
  },
  {
   "cell_type": "code",
   "execution_count": 74,
   "metadata": {},
   "outputs": [
    {
     "data": {
      "text/plain": [
       "array([[1, 1, 1, 2, 0],\n",
       "       [3, 6, 6, 7, 4],\n",
       "       [4, 5, 3, 8, 0]])"
      ]
     },
     "execution_count": 74,
     "metadata": {},
     "output_type": "execute_result"
    }
   ],
   "source": [
    "matrix_D = np.array([[1,1,1,2,0], [3,6,6,7,4], [4,5,3,8,0]])\n",
    "matrix_D"
   ]
  },
  {
   "cell_type": "code",
   "execution_count": 75,
   "metadata": {},
   "outputs": [
    {
     "data": {
      "text/plain": [
       "numpy.int32"
      ]
     },
     "execution_count": 75,
     "metadata": {},
     "output_type": "execute_result"
    }
   ],
   "source": [
    "type(matrix_D[0,0])\n",
    "\n",
    "# Fixing both indices. \n",
    "# 0-D array\n",
    "## got int"
   ]
  },
  {
   "cell_type": "code",
   "execution_count": 76,
   "metadata": {},
   "outputs": [
    {
     "name": "stdout",
     "output_type": "stream",
     "text": [
      "1\n"
     ]
    }
   ],
   "source": [
    "print(matrix_D[0,0])"
   ]
  },
  {
   "cell_type": "code",
   "execution_count": 77,
   "metadata": {},
   "outputs": [
    {
     "data": {
      "text/plain": [
       "numpy.ndarray"
      ]
     },
     "execution_count": 77,
     "metadata": {},
     "output_type": "execute_result"
    }
   ],
   "source": [
    "type(matrix_D[0,0:1])\n",
    "\n",
    "# 1 index is fixed, the second one is a slice\n",
    "# 1-D array\n",
    "## got arrayn , have [] , 1-d array"
   ]
  },
  {
   "cell_type": "code",
   "execution_count": 78,
   "metadata": {},
   "outputs": [
    {
     "name": "stdout",
     "output_type": "stream",
     "text": [
      "[1]\n"
     ]
    }
   ],
   "source": [
    "print(matrix_D[0,0:1])"
   ]
  },
  {
   "cell_type": "code",
   "execution_count": 79,
   "metadata": {},
   "outputs": [
    {
     "data": {
      "text/plain": [
       "numpy.ndarray"
      ]
     },
     "execution_count": 79,
     "metadata": {},
     "output_type": "execute_result"
    }
   ],
   "source": [
    "type(matrix_D[0:1,0:1])\n",
    "\n",
    "# Both indices are ranges (slices)\n",
    "# 2-D array"
   ]
  },
  {
   "cell_type": "code",
   "execution_count": 80,
   "metadata": {},
   "outputs": [
    {
     "name": "stdout",
     "output_type": "stream",
     "text": [
      "[[1]]\n"
     ]
    }
   ],
   "source": [
    "print(matrix_D[0:1,0:1])\n",
    "## 2-d array, matrix"
   ]
  },
  {
   "cell_type": "code",
   "execution_count": 81,
   "metadata": {},
   "outputs": [
    {
     "name": "stdout",
     "output_type": "stream",
     "text": [
      "()\n",
      "(1,)\n",
      "(1, 1)\n"
     ]
    }
   ],
   "source": [
    "print(matrix_D[0,0].shape)\n",
    "print(matrix_D[0,0:1].shape)\n",
    "print(matrix_D[0:1,0:1].shape)\n",
    "\n",
    "# Same value stored in 3 different ways -> 0-D, 1-D and 2-D array\n",
    "## ethil store cheyyum?"
   ]
  },
  {
   "cell_type": "code",
   "execution_count": 82,
   "metadata": {},
   "outputs": [
    {
     "name": "stdout",
     "output_type": "stream",
     "text": [
      "1\n"
     ]
    }
   ],
   "source": [
    "print(matrix_D[0:1,0:1].squeeze())\n",
    "\n",
    "## Removes excess dimensions"
   ]
  },
  {
   "cell_type": "code",
   "execution_count": 88,
   "metadata": {},
   "outputs": [
    {
     "data": {
      "text/plain": [
       "array(1)"
      ]
     },
     "execution_count": 88,
     "metadata": {},
     "output_type": "execute_result"
    }
   ],
   "source": [
    "np.squeeze(matrix_D[0:1,0:1])\n",
    "\n",
    "## The function is equivalent to the method. "
   ]
  },
  {
   "cell_type": "code",
   "execution_count": 89,
   "metadata": {},
   "outputs": [
    {
     "name": "stdout",
     "output_type": "stream",
     "text": [
      "()\n",
      "()\n",
      "()\n"
     ]
    }
   ],
   "source": [
    "print(matrix_D[0,0].squeeze().shape)\n",
    "print(matrix_D[0,0:1].squeeze().shape)\n",
    "print(matrix_D[0:1,0:1].squeeze().shape)\n",
    "\n",
    "## All excess dimensions are lost and our outputs are aligned.\n",
    "## squeez alwys use before shape"
   ]
  },
  {
   "cell_type": "code",
   "execution_count": 90,
   "metadata": {},
   "outputs": [
    {
     "data": {
      "text/plain": [
       "array(1)"
      ]
     },
     "execution_count": 90,
     "metadata": {},
     "output_type": "execute_result"
    }
   ],
   "source": [
    "matrix_D[0:1,0:1].squeeze()\n",
    "# both are same, this is methord\n",
    "# apply squeez we can use any slicing variation to get same chunk of data"
   ]
  },
  {
   "cell_type": "markdown",
   "metadata": {},
   "source": [
    "# Generating Data w/ Numpy"
   ]
  },
  {
   "cell_type": "markdown",
   "metadata": {},
   "source": [
    "# np.empty(), np.zeros(), np.ones(), np.full()"
   ]
  },
  {
   "cell_type": "code",
   "execution_count": 2,
   "metadata": {},
   "outputs": [],
   "source": [
    "import numpy as np"
   ]
  },
  {
   "cell_type": "code",
   "execution_count": 4,
   "metadata": {},
   "outputs": [
    {
     "ename": "TypeError",
     "evalue": "empty() missing required argument 'shape' (pos 1)",
     "output_type": "error",
     "traceback": [
      "\u001b[1;31m---------------------------------------------------------------------------\u001b[0m",
      "\u001b[1;31mTypeError\u001b[0m                                 Traceback (most recent call last)",
      "\u001b[1;32m<ipython-input-4-296d53995454>\u001b[0m in \u001b[0;36m<module>\u001b[1;34m\u001b[0m\n\u001b[1;32m----> 1\u001b[1;33m \u001b[0marray_empty\u001b[0m \u001b[1;33m=\u001b[0m \u001b[0mnp\u001b[0m\u001b[1;33m.\u001b[0m\u001b[0mempty\u001b[0m\u001b[1;33m(\u001b[0m\u001b[1;33m)\u001b[0m\u001b[1;33m\u001b[0m\u001b[1;33m\u001b[0m\u001b[0m\n\u001b[0m",
      "\u001b[1;31mTypeError\u001b[0m: empty() missing required argument 'shape' (pos 1)"
     ]
    }
   ],
   "source": [
    "array_empty = np.empty()"
   ]
  },
  {
   "cell_type": "code",
   "execution_count": 5,
   "metadata": {},
   "outputs": [
    {
     "data": {
      "text/plain": [
       "array([[1.235e-321, 0.000e+000, 0.000e+000],\n",
       "       [0.000e+000, 0.000e+000, 0.000e+000]])"
      ]
     },
     "execution_count": 5,
     "metadata": {},
     "output_type": "execute_result"
    }
   ],
   "source": [
    "array_empty = np.empty(shape = (2,3))\n",
    "array_empty\n",
    "## create empty array\n",
    "##return array without initializing entries\n",
    "## fastest way to generate n-d array\n",
    "##usful for testing and filling missing value"
   ]
  },
  {
   "cell_type": "code",
   "execution_count": 6,
   "metadata": {},
   "outputs": [
    {
     "data": {
      "text/plain": [
       "array([[0., 0., 0.],\n",
       "       [0., 0., 0.]])"
      ]
     },
     "execution_count": 6,
     "metadata": {},
     "output_type": "execute_result"
    }
   ],
   "source": [
    "# zeros\n",
    "array_0s = np.zeros(shape  = (2,3))\n",
    "array_0s"
   ]
  },
  {
   "cell_type": "code",
   "execution_count": 7,
   "metadata": {},
   "outputs": [
    {
     "data": {
      "text/plain": [
       "array([[0, 0, 0],\n",
       "       [0, 0, 0]], dtype=int8)"
      ]
     },
     "execution_count": 7,
     "metadata": {},
     "output_type": "execute_result"
    }
   ],
   "source": [
    "array_0s = np.zeros(shape = (2,3), dtype = np.int8) \n",
    "array_0s\n",
    "##specify data type"
   ]
  },
  {
   "cell_type": "code",
   "execution_count": 8,
   "metadata": {},
   "outputs": [
    {
     "data": {
      "text/plain": [
       "array([[1., 1., 1.],\n",
       "       [1., 1., 1.]])"
      ]
     },
     "execution_count": 8,
     "metadata": {},
     "output_type": "execute_result"
    }
   ],
   "source": [
    "# ones\n",
    "array_1s = np.ones(shape  = (2,3))\n",
    "array_1s"
   ]
  },
  {
   "cell_type": "code",
   "execution_count": 9,
   "metadata": {},
   "outputs": [
    {
     "data": {
      "text/plain": [
       "array([[2, 2, 2],\n",
       "       [2, 2, 2]])"
      ]
     },
     "execution_count": 9,
     "metadata": {},
     "output_type": "execute_result"
    }
   ],
   "source": [
    "# full\n",
    "array_full = np.full(shape = (2,3), fill_value = 2) # One additional mandatory argument - fill_value -> scalar,can have both numb and test\n",
    "array_full"
   ]
  },
  {
   "cell_type": "code",
   "execution_count": 10,
   "metadata": {},
   "outputs": [
    {
     "data": {
      "text/plain": [
       "array([['Three-Six-Five', 'Three-Six-Five', 'Three-Six-Five'],\n",
       "       ['Three-Six-Five', 'Three-Six-Five', 'Three-Six-Five']],\n",
       "      dtype='<U14')"
      ]
     },
     "execution_count": 10,
     "metadata": {},
     "output_type": "execute_result"
    }
   ],
   "source": [
    "array_full = np.full(shape = (2,3), fill_value = 'Three-Six-Five')\n",
    "array_full"
   ]
  },
  {
   "cell_type": "markdown",
   "metadata": {},
   "source": [
    "# \"_like\" functions"
   ]
  },
  {
   "cell_type": "code",
   "execution_count": 12,
   "metadata": {},
   "outputs": [
    {
     "data": {
      "text/plain": [
       "array([[ 1,  0,  9,  2,  2],\n",
       "       [ 3, 23,  4,  5,  1],\n",
       "       [ 0,  2,  3,  4,  1]])"
      ]
     },
     "execution_count": 12,
     "metadata": {},
     "output_type": "execute_result"
    }
   ],
   "source": [
    "matrix_A = np.array([[1,0,9,2,2],[3,23,4,5,1],[0,2,3,4,1]])\n",
    "matrix_A\n",
    "##covenient when working with large data base\n",
    "##like array westore a value or each element of orginal one"
   ]
  },
  {
   "cell_type": "code",
   "execution_count": 13,
   "metadata": {},
   "outputs": [
    {
     "data": {
      "text/plain": [
       "array([[    227,       0,       0,       0,       0],\n",
       "       [      0,       0,       0,       0,       0],\n",
       "       [    812,       0,       0, 6029363,       0]])"
      ]
     },
     "execution_count": 13,
     "metadata": {},
     "output_type": "execute_result"
    }
   ],
   "source": [
    "array_empty_like = np.empty_like(matrix_A)    \n",
    "\n",
    "# Shape and type are like the prototype. \n",
    "# If we want to override this, we can define dtype and shape and pass different values (but why even use empty_like then). \n",
    "# dont need to specify the shape or type, take shape od matrix a\n",
    "\n",
    "array_empty_like"
   ]
  },
  {
   "cell_type": "code",
   "execution_count": 14,
   "metadata": {},
   "outputs": [
    {
     "data": {
      "text/plain": [
       "array([[0, 0, 0, 0, 0],\n",
       "       [0, 0, 0, 0, 0],\n",
       "       [0, 0, 0, 0, 0]])"
      ]
     },
     "execution_count": 14,
     "metadata": {},
     "output_type": "execute_result"
    }
   ],
   "source": [
    "array_0s_like = np.zeros_like(matrix_A)    \n",
    "array_0s_like\n",
    "\n",
    "# We have corresponding functions for 1s and full as well.\n",
    "# We have corresponding functions for 1s and full as well. \n",
    "# can use as starting point\n",
    "# can use as switch where values change frome o to 1 and vicversa\n",
    "# useful when working with dummy variable"
   ]
  },
  {
   "cell_type": "code",
   "execution_count": 17,
   "metadata": {},
   "outputs": [
    {
     "ename": "TypeError",
     "evalue": "_full_like_dispatcher() missing 1 required positional argument: 'fill_value'",
     "output_type": "error",
     "traceback": [
      "\u001b[1;31m---------------------------------------------------------------------------\u001b[0m",
      "\u001b[1;31mTypeError\u001b[0m                                 Traceback (most recent call last)",
      "\u001b[1;32m<ipython-input-17-381ee1692e33>\u001b[0m in \u001b[0;36m<module>\u001b[1;34m\u001b[0m\n\u001b[1;32m----> 1\u001b[1;33m \u001b[0marray_1s_like\u001b[0m \u001b[1;33m=\u001b[0m \u001b[0mnp\u001b[0m\u001b[1;33m.\u001b[0m\u001b[0mfull_like\u001b[0m\u001b[1;33m(\u001b[0m\u001b[0mmatrix_A\u001b[0m\u001b[1;33m)\u001b[0m\u001b[1;33m\u001b[0m\u001b[1;33m\u001b[0m\u001b[0m\n\u001b[0m\u001b[0;32m      2\u001b[0m \u001b[0marray_1s_like\u001b[0m\u001b[1;33m\u001b[0m\u001b[1;33m\u001b[0m\u001b[0m\n",
      "\u001b[1;32m<__array_function__ internals>\u001b[0m in \u001b[0;36mfull_like\u001b[1;34m(*args, **kwargs)\u001b[0m\n",
      "\u001b[1;31mTypeError\u001b[0m: _full_like_dispatcher() missing 1 required positional argument: 'fill_value'"
     ]
    }
   ],
   "source": [
    "array_1s_like = np.full_like(matrix_A)    \n",
    "array_1s_like"
   ]
  },
  {
   "cell_type": "markdown",
   "metadata": {},
   "source": [
    "# np.arange()"
   ]
  },
  {
   "cell_type": "code",
   "execution_count": 18,
   "metadata": {},
   "outputs": [
    {
     "data": {
      "text/plain": [
       "[0,\n",
       " 1,\n",
       " 2,\n",
       " 3,\n",
       " 4,\n",
       " 5,\n",
       " 6,\n",
       " 7,\n",
       " 8,\n",
       " 9,\n",
       " 10,\n",
       " 11,\n",
       " 12,\n",
       " 13,\n",
       " 14,\n",
       " 15,\n",
       " 16,\n",
       " 17,\n",
       " 18,\n",
       " 19,\n",
       " 20,\n",
       " 21,\n",
       " 22,\n",
       " 23,\n",
       " 24,\n",
       " 25,\n",
       " 26,\n",
       " 27,\n",
       " 28,\n",
       " 29]"
      ]
     },
     "execution_count": 18,
     "metadata": {},
     "output_type": "execute_result"
    }
   ],
   "source": [
    "#range(30)\n",
    "list(range(30))\n",
    "\n",
    "# range(30) results in a range object.\n",
    "# list(range(30)) creates a list with all the values in this range."
   ]
  },
  {
   "cell_type": "code",
   "execution_count": 19,
   "metadata": {},
   "outputs": [
    {
     "data": {
      "text/plain": [
       "array([ 0,  1,  2,  3,  4,  5,  6,  7,  8,  9, 10, 11, 12, 13, 14, 15, 16,\n",
       "       17, 18, 19, 20, 21, 22, 23, 24, 25, 26, 27, 28, 29])"
      ]
     },
     "execution_count": 19,
     "metadata": {},
     "output_type": "execute_result"
    }
   ],
   "source": [
    "array_rng = np.arange(30)\n",
    "array_rng\n",
    "\n",
    "## Creates an ndarray with the values in this range.non random value\n",
    "## consecutive valur\n",
    "## range give range object\n",
    "## array range give array object"
   ]
  },
  {
   "cell_type": "code",
   "execution_count": 20,
   "metadata": {},
   "outputs": [
    {
     "data": {
      "text/plain": [
       "array([ 0,  1,  2,  3,  4,  5,  6,  7,  8,  9, 10, 11, 12, 13, 14, 15, 16,\n",
       "       17, 18, 19, 20, 21, 22, 23, 24, 25, 26, 27, 28, 29])"
      ]
     },
     "execution_count": 20,
     "metadata": {},
     "output_type": "execute_result"
    }
   ],
   "source": [
    "# array_rng = np.arange(stop =  30)\n",
    "array_rng = np.arange(start =  30)\n",
    "array_rng\n",
    "\n",
    "# The only mandatory argument is \"start\", rather than stop. \n",
    "# If we specify only a start, the function assumes this is the \"stop\" and starts from the origin (0)"
   ]
  },
  {
   "cell_type": "code",
   "execution_count": 21,
   "metadata": {},
   "outputs": [
    {
     "data": {
      "text/plain": [
       "array([ 0,  1,  2,  3,  4,  5,  6,  7,  8,  9, 10, 11, 12, 13, 14, 15, 16,\n",
       "       17, 18, 19, 20, 21, 22, 23, 24, 25, 26, 27, 28, 29])"
      ]
     },
     "execution_count": 21,
     "metadata": {},
     "output_type": "execute_result"
    }
   ],
   "source": [
    "array_rng = np.arange(start = 0, stop =  30)\n",
    "array_rng"
   ]
  },
  {
   "cell_type": "code",
   "execution_count": 22,
   "metadata": {},
   "outputs": [
    {
     "data": {
      "text/plain": [
       "array([ 0. ,  2.5,  5. ,  7.5, 10. , 12.5, 15. , 17.5, 20. , 22.5, 25. ,\n",
       "       27.5])"
      ]
     },
     "execution_count": 22,
     "metadata": {},
     "output_type": "execute_result"
    }
   ],
   "source": [
    "array_rng = np.arange(start = 0, stop =  30, step = 2.5)\n",
    "array_rng\n",
    "\n",
    "# \"Step\" doesn't have to be the same type as the values of the array. "
   ]
  },
  {
   "cell_type": "code",
   "execution_count": 23,
   "metadata": {},
   "outputs": [
    {
     "data": {
      "text/plain": [
       "array([ 0,  2,  4,  6,  8, 10, 12, 14, 16, 18, 20, 22])"
      ]
     },
     "execution_count": 23,
     "metadata": {},
     "output_type": "execute_result"
    }
   ],
   "source": [
    "array_rng = np.arange(start = 0, stop =  30, step = 2.5, dtype = np.float32)\n",
    "array_rng = np.arange(start = 0, stop =  30, step = 2.5, dtype = np.int32)\n",
    "array_rng\n",
    "\n",
    "# The casting happens after all the computations. "
   ]
  },
  {
   "cell_type": "markdown",
   "metadata": {},
   "source": [
    "# Random Generators"
   ]
  },
  {
   "cell_type": "markdown",
   "metadata": {},
   "source": [
    "# Defining Random Generators"
   ]
  },
  {
   "cell_type": "code",
   "execution_count": 24,
   "metadata": {},
   "outputs": [],
   "source": [
    "from numpy.random import Generator as gen\n",
    "from numpy.random import PCG64 as pcg\n",
    "\n",
    "\n",
    "## We load two functions from the numpy.random module.\n",
    "## diif way to generate random variable\n",
    "## generator functin takes a bit generator as an input and create a generator object, those object are instance of numpy generatoe class\n",
    "## numpy .random .generator class\n",
    "##pcg=permutation congruential genertor, function pointer that can produce value of upto 64 bit in size"
   ]
  },
  {
   "cell_type": "code",
   "execution_count": 26,
   "metadata": {},
   "outputs": [
    {
     "data": {
      "text/plain": [
       "array([[-0.80190825,  0.20020152, -0.95099679, -0.30167788,  1.31115589],\n",
       "       [-0.2458983 ,  0.77784115, -0.40306798, -0.1199499 , -0.01880679],\n",
       "       [ 0.0162525 , -0.51997882,  0.75029501,  2.63459716, -0.10913986],\n",
       "       [ 0.14185979,  0.78733914, -0.59984311,  1.88163931, -0.95522804],\n",
       "       [ 2.07915411,  1.15592274,  0.50716451,  1.34728749, -1.250233  ]])"
      ]
     },
     "execution_count": 26,
     "metadata": {},
     "output_type": "execute_result"
    }
   ],
   "source": [
    "array_RG = gen(pcg())\n",
    "\n",
    "#array_RG.normal()\n",
    "#array_RG.normal(size = 5)\n",
    "array_RG.normal(size = (5,5))\n",
    "\n",
    "# RG is short for Random Generator.\n",
    "## norma funtion generate randome variable and from random distribution\n",
    "## can have scalar single value,get diffrent op in each excution"
   ]
  },
  {
   "cell_type": "markdown",
   "metadata": {},
   "source": [
    "We can set a seed, so that our random values don't change everytime we re-run the code. We'll se the seed equal to 365"
   ]
  },
  {
   "cell_type": "code",
   "execution_count": 27,
   "metadata": {},
   "outputs": [
    {
     "data": {
      "text/plain": [
       "array([[-0.13640899,  0.09414431, -0.06300442,  1.05391641, -0.6866818 ],\n",
       "       [-0.50922173, -0.7999526 ,  0.73041825,  0.08825439, -2.1177576 ],\n",
       "       [ 0.65526774, -0.48095012, -0.5519114 , -0.58578662, -0.98257896],\n",
       "       [ 1.12378166, -1.30984316, -0.04703774,  0.955272  ,  0.26071745],\n",
       "       [-0.20023668, -1.50172484, -1.4929163 ,  0.96535084,  1.18694633]])"
      ]
     },
     "execution_count": 27,
     "metadata": {},
     "output_type": "execute_result"
    }
   ],
   "source": [
    "array_RG = gen(pcg(seed = 365)) \n",
    "array_RG.normal(size = (5,5))\n",
    "\n",
    "# Re-running this cell provides a consistent output, since the seed (with fixed starting values) is set."
   ]
  },
  {
   "cell_type": "code",
   "execution_count": 28,
   "metadata": {},
   "outputs": [
    {
     "data": {
      "text/plain": [
       "array([[-0.76065577,  1.48158358,  0.01200258, -0.06846959,  0.25301664],\n",
       "       [-0.52640788,  0.79613109,  0.28203421,  1.80238008,  0.93932117],\n",
       "       [-0.53693283, -0.26317689, -1.77723035,  1.14900013, -2.20733915],\n",
       "       [ 1.54116775, -0.5124932 , -2.14564563,  1.98878673,  0.32208907],\n",
       "       [-1.2651495 ,  3.2714633 ,  1.78650493, -0.20233675,  0.20427467]])"
      ]
     },
     "execution_count": 28,
     "metadata": {},
     "output_type": "execute_result"
    }
   ],
   "source": [
    "array_RG.normal(size = (5,5))\n",
    "\n",
    "# The seed is fixed for a single itteration. \n",
    "## whenvwer want apom seed pinheyum ezhuthanam"
   ]
  },
  {
   "cell_type": "markdown",
   "metadata": {},
   "source": [
    "# Generating Integers, Probabilities and Random Choices"
   ]
  },
  {
   "cell_type": "markdown",
   "metadata": {},
   "source": [
    "other way of generating random variable"
   ]
  },
  {
   "cell_type": "markdown",
   "metadata": {},
   "source": [
    "# nmpy.int"
   ]
  },
  {
   "cell_type": "code",
   "execution_count": 29,
   "metadata": {},
   "outputs": [
    {
     "data": {
      "text/plain": [
       "array([[18, 78, 64, 78, 84],\n",
       "       [66, 67, 28, 10, 69],\n",
       "       [45, 15, 37, 74, 96],\n",
       "       [19, 21, 89, 73, 54],\n",
       "       [53, 84, 66, 51, 92]], dtype=int64)"
      ]
     },
     "execution_count": 29,
     "metadata": {},
     "output_type": "execute_result"
    }
   ],
   "source": [
    "array_RG = gen(pcg(seed = 365)) \n",
    "#array_RG.integers(10, size = (5,5))\n",
    "array_RG.integers(low = 10, high = 100, size = (5,5))\n",
    "\n",
    "# Generates integers within a range\n",
    "# Generates whole integers within a range.\n",
    "## requrd fixed range\n",
    "## if provide single value it assume only want integer from 0 to that range"
   ]
  },
  {
   "cell_type": "code",
   "execution_count": 30,
   "metadata": {},
   "outputs": [
    {
     "data": {
      "text/plain": [
       "array([[0, 7, 6, 7, 8],\n",
       "       [6, 6, 2, 0, 6],\n",
       "       [3, 0, 3, 7, 9],\n",
       "       [1, 1, 8, 7, 4],\n",
       "       [4, 8, 6, 4, 9]], dtype=int64)"
      ]
     },
     "execution_count": 30,
     "metadata": {},
     "output_type": "execute_result"
    }
   ],
   "source": [
    "array_RG = gen(pcg(seed = 365)) \n",
    "#array_RG.integers(10, size = (5,5))\n",
    "array_RG.integers(10, size = (5,5))"
   ]
  },
  {
   "cell_type": "markdown",
   "metadata": {},
   "source": [
    "# prob distrbtion"
   ]
  },
  {
   "cell_type": "code",
   "execution_count": 31,
   "metadata": {},
   "outputs": [
    {
     "data": {
      "text/plain": [
       "array([[0.75915734, 0.7662218 , 0.6291028 , 0.20336599, 0.66501486],\n",
       "       [0.06559111, 0.71326309, 0.10812106, 0.87969046, 0.49405844],\n",
       "       [0.82472673, 0.45652944, 0.07367232, 0.69628564, 0.36690736],\n",
       "       [0.29787156, 0.4996155 , 0.4865245 , 0.62740703, 0.54952637],\n",
       "       [0.64894629, 0.04411757, 0.7206516 , 0.84594003, 0.17159792]])"
      ]
     },
     "execution_count": 31,
     "metadata": {},
     "output_type": "execute_result"
    }
   ],
   "source": [
    "array_RG = gen(pcg(seed = 365)) \n",
    "array_RG.random(size = (5,5))\n",
    "## get value of contines random distribution bw 0 nd 1"
   ]
  },
  {
   "cell_type": "code",
   "execution_count": 35,
   "metadata": {},
   "outputs": [
    {
     "data": {
      "text/plain": [
       "array([[2, 2, 2, 0, 2],\n",
       "       [9, 0, 2, 2, 0],\n",
       "       [0, 0, 1, 9, 9],\n",
       "       [9, 1, 0, 9, 2],\n",
       "       [1, 2, 9, 1, 9]])"
      ]
     },
     "execution_count": 35,
     "metadata": {},
     "output_type": "execute_result"
    }
   ],
   "source": [
    "array_RG.choice(matrix_A[0], size = (5,5))"
   ]
  },
  {
   "cell_type": "code",
   "execution_count": 33,
   "metadata": {},
   "outputs": [
    {
     "data": {
      "text/plain": [
       "array([[1, 4, 4, 4, 5],\n",
       "       [4, 4, 2, 1, 4],\n",
       "       [2, 1, 2, 4, 5],\n",
       "       [1, 1, 5, 4, 3],\n",
       "       [3, 5, 4, 3, 5]])"
      ]
     },
     "execution_count": 33,
     "metadata": {},
     "output_type": "execute_result"
    }
   ],
   "source": [
    "#array_RG.choice(matrix_A[0], size = (5,5))\n",
    "array_RG = gen(pcg(seed = 365)) \n",
    "array_RG.choice([1,2,3,4,5], size = (5,5))\n",
    "# ivide fixed prob nalkiyittilla,so discrete distribution aan ivide ,default"
   ]
  },
  {
   "cell_type": "code",
   "execution_count": 34,
   "metadata": {},
   "outputs": [
    {
     "data": {
      "text/plain": [
       "array([[5, 5, 5, 3, 5],\n",
       "       [1, 5, 2, 5, 5],\n",
       "       [5, 5, 1, 5, 4],\n",
       "       [3, 5, 5, 5, 5],\n",
       "       [5, 1, 5, 5, 2]])"
      ]
     },
     "execution_count": 34,
     "metadata": {},
     "output_type": "execute_result"
    }
   ],
   "source": [
    "#array_RG.choice(matrix_A[0], size = (5,5))\n",
    "array_RG = gen(pcg(seed = 365)) \n",
    "#array_RG.choice([1,2,3,4,5], size = (5,5))\n",
    "array_RG.choice((1,2,3,4,5), p = [0.1,0.1,0.1,0.1,0.6],size = (5,5))\n",
    "\n",
    "# Chooses among a given set (with possible weighted probabilities).\n",
    "## ivide fixed prob nalkiyittund\n",
    "## size same aayirikanam elemewnt in choice= element in p"
   ]
  },
  {
   "cell_type": "markdown",
   "metadata": {},
   "source": [
    "# Generating Arrays From Known Distributions"
   ]
  },
  {
   "cell_type": "code",
   "execution_count": 36,
   "metadata": {},
   "outputs": [
    {
     "data": {
      "text/plain": [
       "array([[2, 0, 1, 1, 2],\n",
       "       [1, 1, 0, 1, 1],\n",
       "       [1, 2, 1, 1, 0],\n",
       "       [0, 1, 0, 2, 1],\n",
       "       [0, 1, 0, 0, 2]], dtype=int64)"
      ]
     },
     "execution_count": 36,
     "metadata": {},
     "output_type": "execute_result"
    }
   ],
   "source": [
    "array_RG = gen(pcg(seed = 365)) \n",
    "array_RG.poisson(size = (5,5))\n",
    "\n",
    "# The default Poisson distribution\n",
    "## pison dist mena o er  afixed ibtervel of tme ,distance or space expect an event occure exact once\n",
    "# here lamda 1, lamda maatiyal get ovr fixed intervel time get exact morthan same same occurance"
   ]
  },
  {
   "cell_type": "code",
   "execution_count": 37,
   "metadata": {},
   "outputs": [
    {
     "data": {
      "text/plain": [
       "array([[11, 12, 12, 14, 13],\n",
       "       [ 9, 10, 11, 11,  8],\n",
       "       [11,  8, 10,  9, 14],\n",
       "       [ 7,  8,  9, 15, 15],\n",
       "       [13,  8,  8,  7,  9]], dtype=int64)"
      ]
     },
     "execution_count": 37,
     "metadata": {},
     "output_type": "execute_result"
    }
   ],
   "source": [
    "array_RG = gen(pcg(seed = 365)) \n",
    "array_RG.poisson(lam = 10,size = (5,5))\n",
    "\n",
    "# Specifying lambda. "
   ]
  },
  {
   "cell_type": "code",
   "execution_count": 38,
   "metadata": {},
   "outputs": [
    {
     "data": {
      "text/plain": [
       "array([[42, 44, 30, 36, 45],\n",
       "       [36, 41, 38, 42, 41],\n",
       "       [35, 31, 35, 46, 29],\n",
       "       [41, 41, 46, 34, 48],\n",
       "       [45, 45, 45, 40, 43]], dtype=int64)"
      ]
     },
     "execution_count": 38,
     "metadata": {},
     "output_type": "execute_result"
    }
   ],
   "source": [
    "array_RG = gen(pcg(seed = 365)) \n",
    "array_RG.binomial(n = 100, p = 0.4, size = (5,5))\n",
    "\n",
    "# A binomial distribution with p = 0.4 and 100 trials. \n",
    "## measure howmany time a certain outcome can appear over a series of trial. where there are only two possible value\n",
    "#ivide kanikkunna number is the number of time out of 100 we have gooten orefred outcome\n",
    "## on avg most outcome bw 38 and 50 so avg is 40, it mean 40 per probalty of getting what we want on each of 100 individual trial"
   ]
  },
  {
   "cell_type": "code",
   "execution_count": 39,
   "metadata": {},
   "outputs": [
    {
     "data": {
      "text/plain": [
       "array([[10.37767822, 10.42451863,  9.63404367,  7.36153427,  9.82286787],\n",
       "       [ 5.81223125, 10.09354231,  6.46790532, 11.38740256,  8.97147918],\n",
       "       [10.85844698,  8.79081317,  5.962079  ,  9.99560681,  8.34539118],\n",
       "       [ 7.97105522,  8.9981544 ,  8.93530194,  9.6253307 ,  9.23850869],\n",
       "       [ 9.73729284,  5.3090678 , 10.13723528, 11.04372782,  7.11078651]])"
      ]
     },
     "execution_count": 39,
     "metadata": {},
     "output_type": "execute_result"
    }
   ],
   "source": [
    "array_RG = gen(pcg(seed = 365)) \n",
    "array_RG.logistic(loc = 9, scale = 1.2, size = (5,5))\n",
    "\n",
    "# A logistic distribution with a location = 9 and scale = 1.2.\n",
    "## each element is the possible outcome of logistic regresion"
   ]
  },
  {
   "cell_type": "markdown",
   "metadata": {},
   "source": [
    "# Applications of Random Generators"
   ]
  },
  {
   "cell_type": "markdown",
   "metadata": {},
   "source": [
    "Creating Tests"
   ]
  },
  {
   "cell_type": "code",
   "execution_count": 40,
   "metadata": {},
   "outputs": [],
   "source": [
    "array_RG = gen(pcg(seed = 365)) \n",
    "\n",
    "array_column_1 = array_RG.normal(loc = 2, scale = 3, size = (1000))\n",
    "array_column_2 = array_RG.normal(loc = 7, scale = 2, size = (1000))\n",
    "array_column_3 = array_RG.logistic(loc = 11, scale = 3, size = (1000))\n",
    "array_column_4  = array_RG.exponential(scale = 4, size = (1000))\n",
    "array_column_5  = array_RG.geometric(p = 0.7, size = (1000))\n",
    "\n",
    "# Create the individual columns of the dataset we're creating. \n",
    "##when real data isnt avialable need psudo random data to test how well the program work\n",
    "## can use any ditbtion or artribute but size shoulld be same"
   ]
  },
  {
   "cell_type": "code",
   "execution_count": 47,
   "metadata": {},
   "outputs": [
    {
     "data": {
      "text/plain": [
       "array([[ 1.59077303,  6.42174295, 10.14698427,  6.91500737,  1.        ],\n",
       "       [ 2.28243293,  8.57902322, 15.93309953,  6.243605  ,  1.        ],\n",
       "       [ 1.81098674,  5.17270135, -0.46878789,  2.44997251,  1.        ],\n",
       "       ...,\n",
       "       [ 0.1973629 ,  4.3465854 ,  2.66485989,  0.80935387,  1.        ],\n",
       "       [-2.21015722,  8.2176402 , 12.69328115,  0.50644607,  2.        ],\n",
       "       [ 2.91161235,  7.90337695, 11.79840961,  4.86816939,  1.        ]])"
      ]
     },
     "execution_count": 47,
     "metadata": {},
     "output_type": "execute_result"
    }
   ],
   "source": [
    "#random_test_data = np.array([array_column_1, array_column_2, array_column_3, array_column_4, array_column_5]).transpose()\n",
    "random_test_data = np.array([array_column_1, array_column_2, array_column_3, array_column_4, array_column_5]).transpose()\n",
    "random_test_data\n",
    "\n",
    "# Use np.array to generate a new array with the 5 arrays we created earlier. \n",
    "# Use the transpose method to make sure our dataset isn't flipped. "
   ]
  },
  {
   "cell_type": "code",
   "execution_count": 42,
   "metadata": {},
   "outputs": [
    {
     "data": {
      "text/plain": [
       "(1000, 5)"
      ]
     },
     "execution_count": 42,
     "metadata": {},
     "output_type": "execute_result"
    }
   ],
   "source": [
    "random_test_data.shape"
   ]
  },
  {
   "cell_type": "code",
   "execution_count": 43,
   "metadata": {},
   "outputs": [],
   "source": [
    "np.savetxt(\"Random-Test-from-NumPy.csv\", random_test_data, fmt = '%s', delimiter = ',')\n",
    "\n",
    "\n",
    "# Saving the arrays to an extrenal file we're creating. \n",
    "\n",
    "# file name -> \"Random-Test-from-NumPy.csv\"\n",
    "# random_test_data -> data we're exporting (saving to an external file)\n",
    "# format -> strings\n",
    "# delimiter \",\"\n",
    "\n",
    "# We'll talk more about these in just a bit. "
   ]
  },
  {
   "cell_type": "code",
   "execution_count": 44,
   "metadata": {},
   "outputs": [
    {
     "data": {
      "text/plain": [
       "array([[ 1.59077303,  6.42174295, 10.14698427,  6.91500737,  1.        ],\n",
       "       [ 2.28243293,  8.57902322, 15.93309953,  6.243605  ,  1.        ],\n",
       "       [ 1.81098674,  5.17270135, -0.46878789,  2.44997251,  1.        ],\n",
       "       ...,\n",
       "       [ 0.1973629 ,  4.3465854 ,  2.66485989,  0.80935387,  1.        ],\n",
       "       [-2.21015722,  8.2176402 , 12.69328115,  0.50644607,  2.        ],\n",
       "       [ 2.91161235,  7.90337695, 11.79840961,  4.86816939,  1.        ]])"
      ]
     },
     "execution_count": 44,
     "metadata": {},
     "output_type": "execute_result"
    }
   ],
   "source": [
    "np.genfromtxt(\"Random-Test-from-NumPy.csv\", delimiter = ',')\n",
    "\n",
    "# Importing the data from the file we just created."
   ]
  },
  {
   "cell_type": "code",
   "execution_count": 45,
   "metadata": {},
   "outputs": [
    {
     "name": "stdout",
     "output_type": "stream",
     "text": [
      "[[ 1.59077303  6.42174295 10.14698427  6.91500737  1.        ]\n",
      " [ 2.28243293  8.57902322 15.93309953  6.243605    1.        ]\n",
      " [ 1.81098674  5.17270135 -0.46878789  2.44997251  1.        ]\n",
      " ...\n",
      " [ 0.1973629   4.3465854   2.66485989  0.80935387  1.        ]\n",
      " [-2.21015722  8.2176402  12.69328115  0.50644607  2.        ]\n",
      " [ 2.91161235  7.90337695 11.79840961  4.86816939  1.        ]]\n"
     ]
    }
   ],
   "source": [
    "rand_test_data = np.genfromtxt(\"Random-Test-from-NumPy.csv\", delimiter = ',')\n",
    "print(rand_test_data)\n",
    "## print or just call variabl use chythum op display cheyyam"
   ]
  },
  {
   "cell_type": "markdown",
   "metadata": {},
   "source": [
    "# Importing Data with NumPy"
   ]
  },
  {
   "cell_type": "markdown",
   "metadata": {},
   "source": [
    "# np.loadtxt() vs np.genfromtxt()"
   ]
  },
  {
   "cell_type": "code",
   "execution_count": 1,
   "metadata": {},
   "outputs": [],
   "source": [
    "import numpy as np"
   ]
  },
  {
   "cell_type": "code",
   "execution_count": 2,
   "metadata": {},
   "outputs": [
    {
     "data": {
      "text/plain": [
       "array([[ 2000.,    40.,   365.,  3121.,  4241., 13621.],\n",
       "       [ 2000.,    40.,   365.,  3061.,  4171., 15041.],\n",
       "       [ 1000.,    40.,   365.,  2160.,  3280., 15340.],\n",
       "       ...,\n",
       "       [ 2000.,    40.,   365.,  4201.,  5001., 16600.],\n",
       "       [ 1000.,    40.,   365.,  2080.,  3320., 15600.],\n",
       "       [ 2000.,    40.,   365.,  4601.,  4601., 16600.]])"
      ]
     },
     "execution_count": 2,
     "metadata": {},
     "output_type": "execute_result"
    }
   ],
   "source": [
    "lending_co_data_numeric_1 = np.loadtxt(\"Lending-Company-Numeric-Data.csv\", delimiter = ',')\n",
    "lending_co_data_numeric_1\n",
    "\n",
    "# We can use Notepad++ to determine delimiters\n",
    "# data raedy for import nd use"
   ]
  },
  {
   "cell_type": "code",
   "execution_count": 3,
   "metadata": {},
   "outputs": [
    {
     "data": {
      "text/plain": [
       "array([[ 2000.,    40.,   365.,  3121.,  4241., 13621.],\n",
       "       [ 2000.,    40.,   365.,  3061.,  4171., 15041.],\n",
       "       [ 1000.,    40.,   365.,  2160.,  3280., 15340.],\n",
       "       ...,\n",
       "       [ 2000.,    40.,   365.,  4201.,  5001., 16600.],\n",
       "       [ 1000.,    40.,   365.,  2080.,  3320., 15600.],\n",
       "       [ 2000.,    40.,   365.,  4601.,  4601., 16600.]])"
      ]
     },
     "execution_count": 3,
     "metadata": {},
     "output_type": "execute_result"
    }
   ],
   "source": [
    "lending_co_data_numeric_2 = np.genfromtxt(\"Lending-Company-Numeric-Data.csv\", delimiter = ',')\n",
    "lending_co_data_numeric_2\n",
    "# creat data set from text file .need constructing aaray as we go throught text file"
   ]
  },
  {
   "cell_type": "code",
   "execution_count": 4,
   "metadata": {},
   "outputs": [
    {
     "data": {
      "text/plain": [
       "True"
      ]
     },
     "execution_count": 4,
     "metadata": {},
     "output_type": "execute_result"
    }
   ],
   "source": [
    "np.array_equal(lending_co_data_numeric_1, lending_co_data_numeric_2)\n",
    "\n",
    "## np.array_equal() compares two (or more) arrays and tells us if whether they're identical"
   ]
  },
  {
   "cell_type": "code",
   "execution_count": 5,
   "metadata": {},
   "outputs": [
    {
     "data": {
      "text/plain": [
       "array([[ 2000.,    40.,   365.,  3121.,  4241., 13621.],\n",
       "       [ 2000.,    40.,   365.,  3061.,  4171., 15041.],\n",
       "       [ 1000.,    40.,   365.,  2160.,  3280., 15340.],\n",
       "       ...,\n",
       "       [   nan,    40.,   365.,  4201.,  5001., 16600.],\n",
       "       [ 1000.,    40.,   365.,  2080.,  3320., 15600.],\n",
       "       [ 2000.,    40.,   365.,  4601.,  4601., 16600.]])"
      ]
     },
     "execution_count": 5,
     "metadata": {},
     "output_type": "execute_result"
    }
   ],
   "source": [
    "lending_co_data_numeric_NAN = np.genfromtxt(\"Lending-Company-Numeric-Data-NAN.csv\", delimiter = ';')\n",
    "lending_co_data_numeric_NAN\n",
    "\n",
    "# np.loadtxt() fails to import incomplete datasets(have missing value) by default"
   ]
  },
  {
   "cell_type": "code",
   "execution_count": 6,
   "metadata": {},
   "outputs": [
    {
     "name": "stderr",
     "output_type": "stream",
     "text": [
      "<ipython-input-6-335682f623db>:3: DeprecationWarning: `np.str` is a deprecated alias for the builtin `str`. To silence this warning, use `str` by itself. Doing this will not modify any behavior and is safe. If you specifically wanted the numpy scalar type, use `np.str_` here.\n",
      "Deprecated in NumPy 1.20; for more details and guidance: https://numpy.org/devdocs/release/1.20.0-notes.html#deprecations\n",
      "  dtype = np.str)\n"
     ]
    },
    {
     "data": {
      "text/plain": [
       "array([['2000', '40', '365', '3121', '4241', '13621'],\n",
       "       ['2000', '40', '365', '3061', '4171', '15041'],\n",
       "       ['1000', '40', '365', '2160', '3280', '15340'],\n",
       "       ...,\n",
       "       ['', '40', '365', '4201', '5001', '16600'],\n",
       "       ['1000', '40', '365', '2080', '3320', '15600'],\n",
       "       ['2000', '40', '365', '4601', '4601', '16600']], dtype='<U5')"
      ]
     },
     "execution_count": 6,
     "metadata": {},
     "output_type": "execute_result"
    }
   ],
   "source": [
    "lending_co_data_numeric_NAN = np.loadtxt(\"Lending-Company-Numeric-Data-NAN.csv\", \n",
    "                                         delimiter = ';',\n",
    "                                         dtype = np.str)\n",
    "lending_co_data_numeric_NAN\n",
    "\n",
    "# If we import all the values as text, then we don't get a type inconcsistency, so we can use np.loadtxt()\n",
    "## ivide eeror kittila bcz convert to str, can use for observe the data value store in it,cant do maths operation"
   ]
  },
  {
   "cell_type": "code",
   "execution_count": 7,
   "metadata": {},
   "outputs": [
    {
     "data": {
      "text/plain": [
       "'200040'"
      ]
     },
     "execution_count": 7,
     "metadata": {},
     "output_type": "execute_result"
    }
   ],
   "source": [
    "lending_co_data_numeric_NAN[0,0] + lending_co_data_numeric_NAN[0,1]\n",
    "\n",
    "# Adding '2000' and '40' results in a concatenated '200040' rather than 2040."
   ]
  },
  {
   "cell_type": "markdown",
   "metadata": {},
   "source": [
    "# Partial Cleaning While Importing"
   ]
  },
  {
   "cell_type": "code",
   "execution_count": 8,
   "metadata": {},
   "outputs": [
    {
     "data": {
      "text/plain": [
       "array([[ 2000.,    40.,   365.,  3121.,  4241., 13621.],\n",
       "       [ 2000.,    40.,   365.,  3061.,  4171., 15041.],\n",
       "       [ 1000.,    40.,   365.,  2160.,  3280., 15340.],\n",
       "       ...,\n",
       "       [   nan,    40.,   365.,  4201.,  5001., 16600.],\n",
       "       [ 1000.,    40.,   365.,  2080.,  3320., 15600.],\n",
       "       [ 2000.,    40.,   365.,  4601.,  4601., 16600.]])"
      ]
     },
     "execution_count": 8,
     "metadata": {},
     "output_type": "execute_result"
    }
   ],
   "source": [
    "lending_co_data_numeric_NAN = np.genfromtxt(\"Lending-Company-Numeric-Data-NAN.csv\", delimiter = ';') \n",
    "lending_co_data_numeric_NAN\n",
    "#beneficial when familiar with data"
   ]
  },
  {
   "cell_type": "code",
   "execution_count": 9,
   "metadata": {},
   "outputs": [
    {
     "data": {
      "text/plain": [
       "array([[ 1000.,    40.,   365.,  2160.,  3280., 15340.],\n",
       "       [ 2000.,    40.,   365.,  3041.,  4241., 15321.],\n",
       "       [ 2000.,    50.,   365.,  3470.,  4820., 13720.],\n",
       "       ...,\n",
       "       [   nan,    40.,   365.,  4201.,  5001., 16600.],\n",
       "       [ 1000.,    40.,   365.,  2080.,  3320., 15600.],\n",
       "       [ 2000.,    40.,   365.,  4601.,  4601., 16600.]])"
      ]
     },
     "execution_count": 9,
     "metadata": {},
     "output_type": "execute_result"
    }
   ],
   "source": [
    "lending_co_data_numeric_NAN = np.genfromtxt(\"Lending-Company-Numeric-Data-NAN.csv\", \n",
    "                                            delimiter = ';',\n",
    "                                            skip_header = 2) \n",
    "lending_co_data_numeric_NAN\n",
    "\n",
    "# skip_header omits lines from the top of the text file\n",
    "#us ful when test file include several lines of comment"
   ]
  },
  {
   "cell_type": "code",
   "execution_count": 10,
   "metadata": {},
   "outputs": [
    {
     "data": {
      "text/plain": [
       "array([[ 2000.,    40.,   365.,  3121.,  4241., 13621.],\n",
       "       [ 2000.,    40.,   365.,  3061.,  4171., 15041.],\n",
       "       [ 1000.,    40.,   365.,  2160.,  3280., 15340.],\n",
       "       ...,\n",
       "       [ 2000.,    40.,   365.,  3401.,    nan, 16600.],\n",
       "       [ 2000.,    40.,   365.,    nan,  5440., 16600.],\n",
       "       [   nan,    40.,   365.,  4201.,  5001., 16600.]])"
      ]
     },
     "execution_count": 10,
     "metadata": {},
     "output_type": "execute_result"
    }
   ],
   "source": [
    "lending_co_data_numeric_NAN = np.genfromtxt(\"Lending-Company-Numeric-Data-NAN.csv\", \n",
    "                                            delimiter = ';',\n",
    "                                            skip_footer = 2) \n",
    "lending_co_data_numeric_NAN\n",
    "\n",
    "# skip_footer omits lines from the bottom of the text file"
   ]
  },
  {
   "cell_type": "code",
   "execution_count": 11,
   "metadata": {},
   "outputs": [
    {
     "data": {
      "text/plain": [
       "array([[15340.,  1000.,    40.],\n",
       "       [15321.,  2000.,    40.],\n",
       "       [13720.,  2000.,    50.],\n",
       "       ...,\n",
       "       [16600.,  2000.,    40.],\n",
       "       [16600.,  2000.,    40.],\n",
       "       [16600.,    nan,    40.]])"
      ]
     },
     "execution_count": 11,
     "metadata": {},
     "output_type": "execute_result"
    }
   ],
   "source": [
    "lending_co_data_numeric_NAN = np.genfromtxt(\"Lending-Company-Numeric-Data-NAN.csv\", \n",
    "                                            delimiter = ';',\n",
    "                                            usecols = (5,0,1), \n",
    "                                            skip_header = 2, \n",
    "                                            skip_footer = 2) \n",
    "lending_co_data_numeric_NAN\n",
    "\n",
    "# We can define all these arguments (and many more) together to only import what we want.wanted column \n",
    "# can change the order of coumn like 5,1,0, convenienmt when want to sort the data accordig to given matrix which is stored in the  farthest colmn"
   ]
  },
  {
   "cell_type": "code",
   "execution_count": 12,
   "metadata": {},
   "outputs": [
    {
     "name": "stdout",
     "output_type": "stream",
     "text": [
      "[15340. 15321. 13720. ... 16600. 16600. 16600.]\n",
      "[1000. 2000. 2000. ... 2000. 2000.   nan]\n",
      "[40. 40. 50. ... 40. 40. 40.]\n"
     ]
    }
   ],
   "source": [
    "lending_co_data_5, lending_co_data_0, lending_co_data_1 = np.genfromtxt(\"Lending-Company-Numeric-Data-NAN.csv\", \n",
    "                                                                        delimiter = ';',\n",
    "                                                                        usecols = (5,0,1), \n",
    "                                                                        skip_header = 2, \n",
    "                                                                        skip_footer = 2, \n",
    "                                                                        unpack = True)\n",
    "print(lending_co_data_5)\n",
    "print(lending_co_data_0)\n",
    "print(lending_co_data_1)\n",
    "\n",
    "# Unpacking allows us to split the output array into smaller 1-D arrays.can see op into diff variable,unpacked according to order in the uscols argument"
   ]
  },
  {
   "cell_type": "markdown",
   "metadata": {},
   "source": [
    "# String vs Object vs Numbers"
   ]
  },
  {
   "cell_type": "code",
   "execution_count": 13,
   "metadata": {},
   "outputs": [
    {
     "name": "stdout",
     "output_type": "stream",
     "text": [
      "[[   -1    -1    -1 ...    -1    -1    -1]\n",
      " [    1    -1    -1 ...    -1    -1 16600]\n",
      " [    2    -1    -1 ...    -1    -1 16600]\n",
      " ...\n",
      " [ 1041    -1    -1 ...    -1    -1 16600]\n",
      " [ 1042    -1    -1 ...    -1    -1 15600]\n",
      " [ 1043    -1    -1 ...    -1    -1 16600]]\n"
     ]
    }
   ],
   "source": [
    "lending_co_lt = np.genfromtxt(\"lending-co-LT.csv\", \n",
    "                              delimiter = ',',\n",
    "                              dtype = np.int32\n",
    "                              #dtype = np.float16\n",
    "                              #dtype = np.str\n",
    "                              #dtype = np.object\n",
    "                              #dtype = (np.int32, np.str, np.str, np.str, np.str, np.str, np.int32)\n",
    "                             )\n",
    "print(lending_co_lt)\n",
    "\n",
    "# The same dataset is imported differently based on the datatype we define. \n",
    "## 1.0660+04=1.660 *10^4\n",
    "## nan=not a number\n",
    "## using genfromtxt is decimal\n",
    "## data type maattumbol missing value diifrent type aayirikum\n",
    "## missing value categarize as integer then math operation cheyyumbol be carful"
   ]
  },
  {
   "cell_type": "code",
   "execution_count": 14,
   "metadata": {},
   "outputs": [
    {
     "data": {
      "text/plain": [
       "-2"
      ]
     },
     "execution_count": 14,
     "metadata": {},
     "output_type": "execute_result"
    }
   ],
   "source": [
    "lending_co_lt[0,0] + lending_co_lt[0,1]"
   ]
  },
  {
   "cell_type": "code",
   "execution_count": 15,
   "metadata": {},
   "outputs": [
    {
     "name": "stdout",
     "output_type": "stream",
     "text": [
      "[['LoanID' 'StringID' 'Product' ... 'Location' 'Region' 'TotalPrice']\n",
      " ['1' 'id_1' 'Product B' ... 'Location 2' 'Region 2' '16600.0']\n",
      " ['2' 'id_2' 'Product B' ... 'Location 3' '' '16600.0']\n",
      " ...\n",
      " ['1041' 'id_1041' 'Product B' ... 'Location 23' 'Region 4' '16600.0']\n",
      " ['1042' 'id_1042' 'Product C' ... 'Location 52' 'Region 6' '15600.0']\n",
      " ['1043' 'id_1043' 'Product B' ... 'Location 142' 'Region 6' '16600.0']]\n"
     ]
    },
    {
     "name": "stderr",
     "output_type": "stream",
     "text": [
      "<ipython-input-15-0c165c35ceb0>:5: DeprecationWarning: `np.str` is a deprecated alias for the builtin `str`. To silence this warning, use `str` by itself. Doing this will not modify any behavior and is safe. If you specifically wanted the numpy scalar type, use `np.str_` here.\n",
      "Deprecated in NumPy 1.20; for more details and guidance: https://numpy.org/devdocs/release/1.20.0-notes.html#deprecations\n",
      "  dtype = np.str\n"
     ]
    }
   ],
   "source": [
    "lending_co_lt = np.genfromtxt(\"lending-co-LT.csv\", \n",
    "                              delimiter = ',',\n",
    "                              #dtype = np.int32\n",
    "                              #dtype = np.float16\n",
    "                              dtype = np.str\n",
    "                              #dtype = np.object\n",
    "                              #dtype = (np.int32, np.str, np.str, np.str, np.str, np.str, np.int32)\n",
    "                             )\n",
    "print(lending_co_lt)\n",
    "#entire data set is str\n",
    "#cant do math operation"
   ]
  },
  {
   "cell_type": "code",
   "execution_count": 16,
   "metadata": {},
   "outputs": [
    {
     "name": "stdout",
     "output_type": "stream",
     "text": [
      "[[b'LoanID' b'StringID' b'Product' ... b'Location' b'Region'\n",
      "  b'TotalPrice']\n",
      " [b'1' b'id_1' b'Product B' ... b'Location 2' b'Region 2' b'16600.0']\n",
      " [b'2' b'id_2' b'Product B' ... b'Location 3' b'' b'16600.0']\n",
      " ...\n",
      " [b'1041' b'id_1041' b'Product B' ... b'Location 23' b'Region 4'\n",
      "  b'16600.0']\n",
      " [b'1042' b'id_1042' b'Product C' ... b'Location 52' b'Region 6'\n",
      "  b'15600.0']\n",
      " [b'1043' b'id_1043' b'Product B' ... b'Location 142' b'Region 6'\n",
      "  b'16600.0']]\n"
     ]
    },
    {
     "name": "stderr",
     "output_type": "stream",
     "text": [
      "<ipython-input-16-213408fed310>:6: DeprecationWarning: `np.object` is a deprecated alias for the builtin `object`. To silence this warning, use `object` by itself. Doing this will not modify any behavior and is safe. \n",
      "Deprecated in NumPy 1.20; for more details and guidance: https://numpy.org/devdocs/release/1.20.0-notes.html#deprecations\n",
      "  dtype = np.object\n"
     ]
    }
   ],
   "source": [
    "lending_co_lt = np.genfromtxt(\"lending-co-LT.csv\", \n",
    "                              delimiter = ',',\n",
    "                              #dtype = np.int32\n",
    "                              #dtype = np.float16\n",
    "                              #dtype = np.str\n",
    "                              dtype = np.object\n",
    "                              #dtype = (np.int32, np.str, np.str, np.str, np.str, np.str, np.int32)\n",
    "                             )\n",
    "print(lending_co_lt)\n",
    "#can see b with every element it shows its object not only test,cant esly manipulate,no longer store as object\n",
    "#importing multipl data set should avoid when working with numpy,array usually consist of single numeric data type"
   ]
  },
  {
   "cell_type": "markdown",
   "metadata": {},
   "source": [
    "# Saving Files with NumPy"
   ]
  },
  {
   "cell_type": "code",
   "execution_count": 24,
   "metadata": {},
   "outputs": [],
   "source": [
    "import numpy as np"
   ]
  },
  {
   "cell_type": "markdown",
   "metadata": {},
   "source": [
    "# np.save()"
   ]
  },
  {
   "cell_type": "code",
   "execution_count": 25,
   "metadata": {},
   "outputs": [
    {
     "name": "stdout",
     "output_type": "stream",
     "text": [
      "[['LoanID' 'StringID' 'Product' ... 'Location' 'Region' 'TotalPrice']\n",
      " ['1' 'id_1' 'Product B' ... 'Location 2' 'Region 2' '16600.0']\n",
      " ['2' 'id_2' 'Product B' ... 'Location 3' '' '16600.0']\n",
      " ...\n",
      " ['1041' 'id_1041' 'Product B' ... 'Location 23' 'Region 4' '16600.0']\n",
      " ['1042' 'id_1042' 'Product C' ... 'Location 52' 'Region 6' '15600.0']\n",
      " ['1043' 'id_1043' 'Product B' ... 'Location 142' 'Region 6' '16600.0']]\n"
     ]
    },
    {
     "name": "stderr",
     "output_type": "stream",
     "text": [
      "<ipython-input-25-498d35d88c5e>:3: DeprecationWarning: `np.str` is a deprecated alias for the builtin `str`. To silence this warning, use `str` by itself. Doing this will not modify any behavior and is safe. If you specifically wanted the numpy scalar type, use `np.str_` here.\n",
      "Deprecated in NumPy 1.20; for more details and guidance: https://numpy.org/devdocs/release/1.20.0-notes.html#deprecations\n",
      "  dtype = np.str)\n"
     ]
    }
   ],
   "source": [
    "lending_co = np.genfromtxt(\"Lending-Company-Saving.csv\", \n",
    "                           delimiter = ',', \n",
    "                           dtype = np.str)\n",
    "\n",
    "print(lending_co)\n",
    "\n",
    "## We're just importing a dataset, so we can save it later. \n",
    "## Usually, we will be working with an array already, so we could skip this."
   ]
  },
  {
   "cell_type": "code",
   "execution_count": 28,
   "metadata": {},
   "outputs": [],
   "source": [
    "np.save(\"Lending-Company-Saving\", lending_co)\n",
    "\n",
    "## Create an .npy file with the data from the lending_co array."
   ]
  },
  {
   "cell_type": "code",
   "execution_count": 30,
   "metadata": {},
   "outputs": [],
   "source": [
    "lending_data_save = np.load(\"Lending-Company-Saving.npy\")\n",
    "\n",
    "## Load the NPY file we just created. (Load =/= Import in this case)"
   ]
  },
  {
   "cell_type": "code",
   "execution_count": 31,
   "metadata": {},
   "outputs": [
    {
     "name": "stdout",
     "output_type": "stream",
     "text": [
      "[['LoanID' 'StringID' 'Product' ... 'Location' 'Region' 'TotalPrice']\n",
      " ['1' 'id_1' 'Product B' ... 'Location 2' 'Region 2' '16600.0']\n",
      " ['2' 'id_2' 'Product B' ... 'Location 3' '' '16600.0']\n",
      " ...\n",
      " ['1041' 'id_1041' 'Product B' ... 'Location 23' 'Region 4' '16600.0']\n",
      " ['1042' 'id_1042' 'Product C' ... 'Location 52' 'Region 6' '15600.0']\n",
      " ['1043' 'id_1043' 'Product B' ... 'Location 142' 'Region 6' '16600.0']]\n"
     ]
    }
   ],
   "source": [
    "print(lending_data_save)"
   ]
  },
  {
   "cell_type": "code",
   "execution_count": 32,
   "metadata": {},
   "outputs": [
    {
     "data": {
      "text/plain": [
       "True"
      ]
     },
     "execution_count": 32,
     "metadata": {},
     "output_type": "execute_result"
    }
   ],
   "source": [
    "np.array_equal(lending_data_save, lending_co)\n",
    "\n",
    "# The original array is identical to the one we saved and then loaded back into Python.\n",
    "#data not alter after we saved it and loaded back in,dnt change data type\n",
    "#load a data set not equel to import a data set\n",
    "#import dosnt keep the track of data type of orginal array.need to specfy the data tupe of value after having brouhght them to python\n",
    "# loading dont need to change or specfy data type when working python object\n",
    "# store certain data set as number in python ,npy store text file ,when load then again to  pthon then t automaticlly considr as number"
   ]
  },
  {
   "cell_type": "markdown",
   "metadata": {},
   "source": [
    "# np.savez()"
   ]
  },
  {
   "cell_type": "code",
   "execution_count": 33,
   "metadata": {},
   "outputs": [
    {
     "name": "stderr",
     "output_type": "stream",
     "text": [
      "<ipython-input-33-0bd8c04fe94d>:3: DeprecationWarning: `np.str` is a deprecated alias for the builtin `str`. To silence this warning, use `str` by itself. Doing this will not modify any behavior and is safe. If you specifically wanted the numpy scalar type, use `np.str_` here.\n",
      "Deprecated in NumPy 1.20; for more details and guidance: https://numpy.org/devdocs/release/1.20.0-notes.html#deprecations\n",
      "  dtype = np.str)\n"
     ]
    }
   ],
   "source": [
    "lending_co = np.genfromtxt(\"Lending-Company-Saving.csv\", \n",
    "                           delimiter = ',',\n",
    "                           dtype = np.str) \n",
    "\n",
    "lending_data_save = np.load('Lending-Company-Saving.npy') \n",
    "\n",
    "# Just getting two arrays we want to store (we import one, and load the other)"
   ]
  },
  {
   "cell_type": "code",
   "execution_count": 34,
   "metadata": {},
   "outputs": [],
   "source": [
    "np.savez(\"Lending-Company-Saving\", lending_co, lending_data_save)\n",
    "\n",
    "# Creates the .npz file, which is an archive of .npy files. can store multiple array.instead of diifrent data set in seperate npy file we can store them into single npz"
   ]
  },
  {
   "cell_type": "code",
   "execution_count": 35,
   "metadata": {},
   "outputs": [],
   "source": [
    "lending_data_savez = np.load('Lending-Company-Saving.npz')\n",
    "\n",
    "# We also load .npz files."
   ]
  },
  {
   "cell_type": "code",
   "execution_count": 37,
   "metadata": {},
   "outputs": [
    {
     "name": "stdout",
     "output_type": "stream",
     "text": [
      "[['LoanID' 'StringID' 'Product' ... 'Location' 'Region' 'TotalPrice']\n",
      " ['1' 'id_1' 'Product B' ... 'Location 2' 'Region 2' '16600.0']\n",
      " ['2' 'id_2' 'Product B' ... 'Location 3' '' '16600.0']\n",
      " ...\n",
      " ['1041' 'id_1041' 'Product B' ... 'Location 23' 'Region 4' '16600.0']\n",
      " ['1042' 'id_1042' 'Product C' ... 'Location 52' 'Region 6' '15600.0']\n",
      " ['1043' 'id_1043' 'Product B' ... 'Location 142' 'Region 6' '16600.0']]\n"
     ]
    }
   ],
   "source": [
    "print(lending_data_savez[\"arr_0\"])\n",
    "\n",
    "# np.savez() assigns default names to each .npy inside the archive.\n",
    "#get array index of 1 or 0"
   ]
  },
  {
   "cell_type": "code",
   "execution_count": 38,
   "metadata": {},
   "outputs": [],
   "source": [
    "np.savez(\"Lending-Company-Saving\", company = lending_co, data_save = lending_data_save) \n",
    "\n",
    "# Assign custom recognizable names to the individual .npy files in the .npz\n",
    "# can set key word argument each array"
   ]
  },
  {
   "cell_type": "code",
   "execution_count": 39,
   "metadata": {},
   "outputs": [],
   "source": [
    "lending_data_savez = np.load(\"Lending-Company-Saving.npz\")"
   ]
  },
  {
   "cell_type": "code",
   "execution_count": 40,
   "metadata": {},
   "outputs": [
    {
     "data": {
      "text/plain": [
       "['company', 'data_save']"
      ]
     },
     "execution_count": 40,
     "metadata": {},
     "output_type": "execute_result"
    }
   ],
   "source": [
    "lending_data_savez.files\n",
    "\n",
    "# Shows the names of all the .npy files stored in the .npz"
   ]
  },
  {
   "cell_type": "code",
   "execution_count": 41,
   "metadata": {},
   "outputs": [
    {
     "name": "stdout",
     "output_type": "stream",
     "text": [
      "[['LoanID' 'StringID' 'Product' ... 'Location' 'Region' 'TotalPrice']\n",
      " ['1' 'id_1' 'Product B' ... 'Location 2' 'Region 2' '16600.0']\n",
      " ['2' 'id_2' 'Product B' ... 'Location 3' '' '16600.0']\n",
      " ...\n",
      " ['1041' 'id_1041' 'Product B' ... 'Location 23' 'Region 4' '16600.0']\n",
      " ['1042' 'id_1042' 'Product C' ... 'Location 52' 'Region 6' '15600.0']\n",
      " ['1043' 'id_1043' 'Product B' ... 'Location 142' 'Region 6' '16600.0']]\n"
     ]
    }
   ],
   "source": [
    "print(lending_data_savez[\"data_save\"])"
   ]
  },
  {
   "cell_type": "code",
   "execution_count": 42,
   "metadata": {},
   "outputs": [
    {
     "data": {
      "text/plain": [
       "True"
      ]
     },
     "execution_count": 42,
     "metadata": {},
     "output_type": "execute_result"
    }
   ],
   "source": [
    "np.array_equal(lending_data_savez[\"company\"],lending_data_savez[\"data_save\"])\n",
    "\n",
    "# Even after saving and loading the datasets back into Python, they are still identical."
   ]
  },
  {
   "cell_type": "markdown",
   "metadata": {},
   "source": [
    "# np.savetxt()"
   ]
  },
  {
   "cell_type": "code",
   "execution_count": 43,
   "metadata": {},
   "outputs": [
    {
     "name": "stderr",
     "output_type": "stream",
     "text": [
      "<ipython-input-43-cfec127f34aa>:3: DeprecationWarning: `np.str` is a deprecated alias for the builtin `str`. To silence this warning, use `str` by itself. Doing this will not modify any behavior and is safe. If you specifically wanted the numpy scalar type, use `np.str_` here.\n",
      "Deprecated in NumPy 1.20; for more details and guidance: https://numpy.org/devdocs/release/1.20.0-notes.html#deprecations\n",
      "  dtype = np.str)\n"
     ]
    }
   ],
   "source": [
    "lending_co = np.genfromtxt(\"Lending-Company-Saving.csv\",\n",
    "                           delimiter = ',',\n",
    "                           dtype = np.str) "
   ]
  },
  {
   "cell_type": "code",
   "execution_count": 44,
   "metadata": {},
   "outputs": [],
   "source": [
    "np.savetxt(\"Lending-Company-Saving.txt\", \n",
    "           lending_co, \n",
    "           fmt = '%s', \n",
    "           delimiter = ',')\n",
    "\n",
    "\n",
    "#store txt or csv file\n",
    "# We must specify the file extension (txt or csv).\n",
    "# We must specify the format (strings in this case).\n",
    "# We must set a delimiter (comma in this case)."
   ]
  },
  {
   "cell_type": "code",
   "execution_count": 45,
   "metadata": {},
   "outputs": [
    {
     "name": "stdout",
     "output_type": "stream",
     "text": [
      "[['LoanID' 'StringID' 'Product' ... 'Location' 'Region' 'TotalPrice']\n",
      " ['1' 'id_1' 'Product B' ... 'Location 2' 'Region 2' '16600.0']\n",
      " ['2' 'id_2' 'Product B' ... 'Location 3' '' '16600.0']\n",
      " ...\n",
      " ['1041' 'id_1041' 'Product B' ... 'Location 23' 'Region 4' '16600.0']\n",
      " ['1042' 'id_1042' 'Product C' ... 'Location 52' 'Region 6' '15600.0']\n",
      " ['1043' 'id_1043' 'Product B' ... 'Location 142' 'Region 6' '16600.0']]\n"
     ]
    },
    {
     "name": "stderr",
     "output_type": "stream",
     "text": [
      "<ipython-input-45-33030ddaacaf>:3: DeprecationWarning: `np.str` is a deprecated alias for the builtin `str`. To silence this warning, use `str` by itself. Doing this will not modify any behavior and is safe. If you specifically wanted the numpy scalar type, use `np.str_` here.\n",
      "Deprecated in NumPy 1.20; for more details and guidance: https://numpy.org/devdocs/release/1.20.0-notes.html#deprecations\n",
      "  dtype = np.str)\n"
     ]
    }
   ],
   "source": [
    "lending_data_savetxt = np.genfromtxt(\"Lending-Company-Saving.txt\", \n",
    "                                     delimiter = ',', \n",
    "                                     dtype = np.str)\n",
    "\n",
    "print(lending_data_savetxt)\n",
    "\n",
    "# We're importing the .txt file we just created."
   ]
  },
  {
   "cell_type": "code",
   "execution_count": 46,
   "metadata": {},
   "outputs": [],
   "source": [
    "lending_data_save = np.load(\"Lending-Company-Saving.npy\")"
   ]
  },
  {
   "cell_type": "code",
   "execution_count": 47,
   "metadata": {},
   "outputs": [
    {
     "data": {
      "text/plain": [
       "True"
      ]
     },
     "execution_count": 47,
     "metadata": {},
     "output_type": "execute_result"
    }
   ],
   "source": [
    "np.array_equal(lending_data_savetxt, lending_data_save)"
   ]
  },
  {
   "cell_type": "markdown",
   "metadata": {},
   "source": [
    "# Statistsics w/ NumPy"
   ]
  },
  {
   "cell_type": "code",
   "execution_count": 48,
   "metadata": {},
   "outputs": [],
   "source": [
    "import numpy as np"
   ]
  },
  {
   "cell_type": "markdown",
   "metadata": {},
   "source": [
    "# np.mean()"
   ]
  },
  {
   "cell_type": "code",
   "execution_count": 49,
   "metadata": {},
   "outputs": [
    {
     "data": {
      "text/plain": [
       "array([[1, 0, 0, 3, 1],\n",
       "       [3, 6, 6, 2, 9],\n",
       "       [4, 5, 3, 8, 0]])"
      ]
     },
     "execution_count": 49,
     "metadata": {},
     "output_type": "execute_result"
    }
   ],
   "source": [
    "matrix_A = np.array([[1,0,0,3,1],[3,6,6,2,9],[4,5,3,8,0]])\n",
    "matrix_A"
   ]
  },
  {
   "cell_type": "code",
   "execution_count": 50,
   "metadata": {},
   "outputs": [
    {
     "data": {
      "text/plain": [
       "array([1. , 5.2, 4. ])"
      ]
     },
     "execution_count": 50,
     "metadata": {},
     "output_type": "execute_result"
    }
   ],
   "source": [
    "np.mean(matrix_A, axis = 1)\n",
    "\n",
    "# We can call the function over a given axis (e.g for every row or column when it comes to 2-D arrays)"
   ]
  },
  {
   "cell_type": "code",
   "execution_count": 51,
   "metadata": {},
   "outputs": [
    {
     "data": {
      "text/plain": [
       "3.4"
      ]
     },
     "execution_count": 51,
     "metadata": {},
     "output_type": "execute_result"
    }
   ],
   "source": [
    "matrix_A.mean()\n",
    "\n",
    "# An equivalent method exists."
   ]
  },
  {
   "cell_type": "code",
   "execution_count": 52,
   "metadata": {},
   "outputs": [],
   "source": [
    "# matrix_A.sqrt() \n",
    "\n",
    "# Results in an attribute error, since not every function has an equivalent method."
   ]
  },
  {
   "cell_type": "code",
   "execution_count": 53,
   "metadata": {},
   "outputs": [
    {
     "data": {
      "text/plain": [
       "array([1, 5, 4], dtype=int64)"
      ]
     },
     "execution_count": 53,
     "metadata": {},
     "output_type": "execute_result"
    }
   ],
   "source": [
    "np.mean(matrix_A, axis = 1, dtype = np.int64)\n",
    "\n",
    "## We can cast the values to a specific type as wel for the op"
   ]
  },
  {
   "cell_type": "code",
   "execution_count": 54,
   "metadata": {},
   "outputs": [
    {
     "data": {
      "text/plain": [
       "array([2.66666667, 3.66666667, 3.        , 4.33333333, 3.33333333])"
      ]
     },
     "execution_count": 54,
     "metadata": {},
     "output_type": "execute_result"
    }
   ],
   "source": [
    "np.mean(matrix_A, axis = 0)"
   ]
  },
  {
   "cell_type": "code",
   "execution_count": 56,
   "metadata": {},
   "outputs": [
    {
     "ename": "SyntaxError",
     "evalue": "invalid syntax (<ipython-input-56-48559c4638d2>, line 1)",
     "output_type": "error",
     "traceback": [
      "\u001b[1;36m  File \u001b[1;32m\"<ipython-input-56-48559c4638d2>\"\u001b[1;36m, line \u001b[1;32m1\u001b[0m\n\u001b[1;33m    np.mean(matrix_A,[:,0])\u001b[0m\n\u001b[1;37m                      ^\u001b[0m\n\u001b[1;31mSyntaxError\u001b[0m\u001b[1;31m:\u001b[0m invalid syntax\n"
     ]
    }
   ],
   "source": [
    "np.mean(matrix_A,[:,0])"
   ]
  },
  {
   "cell_type": "markdown",
   "metadata": {},
   "source": [
    "# methord"
   ]
  },
  {
   "cell_type": "code",
   "execution_count": 57,
   "metadata": {},
   "outputs": [
    {
     "data": {
      "text/plain": [
       "3.4"
      ]
     },
     "execution_count": 57,
     "metadata": {},
     "output_type": "execute_result"
    }
   ],
   "source": [
    "#not every function has an equivalent method.\n",
    "matrix_A.mean()"
   ]
  },
  {
   "cell_type": "code",
   "execution_count": 58,
   "metadata": {},
   "outputs": [
    {
     "ename": "AttributeError",
     "evalue": "'numpy.ndarray' object has no attribute 'sqrt'",
     "output_type": "error",
     "traceback": [
      "\u001b[1;31m---------------------------------------------------------------------------\u001b[0m",
      "\u001b[1;31mAttributeError\u001b[0m                            Traceback (most recent call last)",
      "\u001b[1;32m<ipython-input-58-285fcd55f312>\u001b[0m in \u001b[0;36m<module>\u001b[1;34m\u001b[0m\n\u001b[1;32m----> 1\u001b[1;33m \u001b[0mmatrix_A\u001b[0m\u001b[1;33m.\u001b[0m\u001b[0msqrt\u001b[0m\u001b[1;33m(\u001b[0m\u001b[1;33m)\u001b[0m\u001b[1;33m\u001b[0m\u001b[1;33m\u001b[0m\u001b[0m\n\u001b[0m",
      "\u001b[1;31mAttributeError\u001b[0m: 'numpy.ndarray' object has no attribute 'sqrt'"
     ]
    }
   ],
   "source": [
    "matrix_A.sqrt() "
   ]
  },
  {
   "cell_type": "code",
   "execution_count": 59,
   "metadata": {},
   "outputs": [
    {
     "data": {
      "text/plain": [
       "array([[1.        , 0.        , 0.        , 1.73205081, 1.        ],\n",
       "       [1.73205081, 2.44948974, 2.44948974, 1.41421356, 3.        ],\n",
       "       [2.        , 2.23606798, 1.73205081, 2.82842712, 0.        ]])"
      ]
     },
     "execution_count": 59,
     "metadata": {},
     "output_type": "execute_result"
    }
   ],
   "source": [
    "np.sqrt(matrix_A)\n",
    "#this is statistical function"
   ]
  },
  {
   "cell_type": "markdown",
   "metadata": {},
   "source": [
    "# typecast"
   ]
  },
  {
   "cell_type": "code",
   "execution_count": 60,
   "metadata": {},
   "outputs": [
    {
     "data": {
      "text/plain": [
       "array([2, 3, 3, 4, 3], dtype=int64)"
      ]
     },
     "execution_count": 60,
     "metadata": {},
     "output_type": "execute_result"
    }
   ],
   "source": [
    "#control the op\n",
    "np.mean(matrix_A, axis = 0 ,dtype=np.int64)"
   ]
  },
  {
   "cell_type": "markdown",
   "metadata": {},
   "source": [
    "# Min & Max Values"
   ]
  },
  {
   "cell_type": "code",
   "execution_count": 61,
   "metadata": {},
   "outputs": [],
   "source": [
    "import numpy as np"
   ]
  },
  {
   "cell_type": "code",
   "execution_count": 62,
   "metadata": {},
   "outputs": [
    {
     "data": {
      "text/plain": [
       "array([[1, 0, 0, 3, 1],\n",
       "       [3, 6, 6, 2, 9],\n",
       "       [4, 5, 3, 8, 0]])"
      ]
     },
     "execution_count": 62,
     "metadata": {},
     "output_type": "execute_result"
    }
   ],
   "source": [
    "matrix_A = np.array([[1,0,0,3,1],[3,6,6,2,9],[4,5,3,8,0]])\n",
    "matrix_A"
   ]
  },
  {
   "cell_type": "code",
   "execution_count": 63,
   "metadata": {},
   "outputs": [
    {
     "data": {
      "text/plain": [
       "0"
      ]
     },
     "execution_count": 63,
     "metadata": {},
     "output_type": "execute_result"
    }
   ],
   "source": [
    "np.min(matrix_A)\n",
    "\n",
    "# Returns the minimum value\n",
    "#work on flatten array"
   ]
  },
  {
   "cell_type": "code",
   "execution_count": 64,
   "metadata": {},
   "outputs": [
    {
     "data": {
      "text/plain": [
       "0"
      ]
     },
     "execution_count": 64,
     "metadata": {},
     "output_type": "execute_result"
    }
   ],
   "source": [
    "np.amin(matrix_A)\n",
    "\n",
    "# Equivalent function (literally just a different alias for np.min())"
   ]
  },
  {
   "cell_type": "code",
   "execution_count": 65,
   "metadata": {},
   "outputs": [
    {
     "data": {
      "text/plain": [
       "array([3, 5, 3, 2, 0])"
      ]
     },
     "execution_count": 65,
     "metadata": {},
     "output_type": "execute_result"
    }
   ],
   "source": [
    "np.minimum(matrix_A[1], matrix_A[2])\n",
    "\n",
    "# Elementwise minimum. Returns the lowest value out of a given set.\n",
    "# In this case, np.minimum() returns the lower value every position across the two arrays. (e.g. in 1st position, 2nd, etc)\n",
    "# not same np.min\n",
    "# require atleast  2 input array\n",
    "# generate array which holds element wise mini value\n",
    "# compare the values at the same postion in each of the arry before taking the lowest value "
   ]
  },
  {
   "cell_type": "code",
   "execution_count": 66,
   "metadata": {},
   "outputs": [
    {
     "data": {
      "text/plain": [
       "array([1, 0, 0, 2, 0])"
      ]
     },
     "execution_count": 66,
     "metadata": {},
     "output_type": "execute_result"
    }
   ],
   "source": [
    "np.minimum.reduce(matrix_A)\n",
    "\n",
    "## A way to make minimum() equivalent to min()\n",
    "# get the min valu of all row"
   ]
  },
  {
   "cell_type": "code",
   "execution_count": 67,
   "metadata": {},
   "outputs": [
    {
     "data": {
      "text/plain": [
       "array([1, 0, 0, 2, 0])"
      ]
     },
     "execution_count": 67,
     "metadata": {},
     "output_type": "execute_result"
    }
   ],
   "source": [
    "np.min(matrix_A, axis = 0)\n",
    "#minimum singular\n",
    "#minima plural"
   ]
  },
  {
   "cell_type": "code",
   "execution_count": 68,
   "metadata": {},
   "outputs": [
    {
     "data": {
      "text/plain": [
       "9"
      ]
     },
     "execution_count": 68,
     "metadata": {},
     "output_type": "execute_result"
    }
   ],
   "source": [
    "np.max(matrix_A)\n",
    "\n",
    "## Corresponding max, a max and maximum functions exist. "
   ]
  },
  {
   "cell_type": "code",
   "execution_count": 69,
   "metadata": {},
   "outputs": [
    {
     "data": {
      "text/plain": [
       "9"
      ]
     },
     "execution_count": 69,
     "metadata": {},
     "output_type": "execute_result"
    }
   ],
   "source": [
    "np.amax(matrix_A)"
   ]
  },
  {
   "cell_type": "code",
   "execution_count": 70,
   "metadata": {},
   "outputs": [
    {
     "data": {
      "text/plain": [
       "array([4, 6, 6, 8, 9])"
      ]
     },
     "execution_count": 70,
     "metadata": {},
     "output_type": "execute_result"
    }
   ],
   "source": [
    "np.maximum.reduce(matrix_A)"
   ]
  },
  {
   "cell_type": "markdown",
   "metadata": {},
   "source": [
    "# Statistical Order Functions"
   ]
  },
  {
   "cell_type": "code",
   "execution_count": 71,
   "metadata": {},
   "outputs": [],
   "source": [
    "import numpy as np"
   ]
  },
  {
   "cell_type": "code",
   "execution_count": 72,
   "metadata": {},
   "outputs": [
    {
     "data": {
      "text/plain": [
       "array([[1, 0, 0, 3, 1],\n",
       "       [3, 6, 6, 2, 9],\n",
       "       [4, 5, 3, 8, 0]])"
      ]
     },
     "execution_count": 72,
     "metadata": {},
     "output_type": "execute_result"
    }
   ],
   "source": [
    "matrix_A = np.array([[1,0,0,3,1],[3,6,6,2,9],[4,5,3,8,0]])\n",
    "matrix_A"
   ]
  },
  {
   "cell_type": "code",
   "execution_count": 73,
   "metadata": {},
   "outputs": [
    {
     "data": {
      "text/plain": [
       "9"
      ]
     },
     "execution_count": 73,
     "metadata": {},
     "output_type": "execute_result"
    }
   ],
   "source": [
    "np.ptp(matrix_A)\n",
    "\n",
    "## Returns difference between max and min (peak-to-peak) over the flattened array. "
   ]
  },
  {
   "cell_type": "code",
   "execution_count": 74,
   "metadata": {},
   "outputs": [
    {
     "data": {
      "text/plain": [
       "array([3, 6, 6, 6, 9])"
      ]
     },
     "execution_count": 74,
     "metadata": {},
     "output_type": "execute_result"
    }
   ],
   "source": [
    "np.ptp(matrix_A, axis = 0)\n",
    "\n",
    "## Returns difference between max and min (peak-to-peak) for every column. "
   ]
  },
  {
   "cell_type": "code",
   "execution_count": 75,
   "metadata": {},
   "outputs": [
    {
     "data": {
      "text/plain": [
       "array([3, 7, 8])"
      ]
     },
     "execution_count": 75,
     "metadata": {},
     "output_type": "execute_result"
    }
   ],
   "source": [
    "np.ptp(matrix_A, axis = 1)\n",
    "\n",
    "## Returns difference between max and min (peak-to-peak) for every row."
   ]
  },
  {
   "cell_type": "code",
   "execution_count": 76,
   "metadata": {},
   "outputs": [
    {
     "data": {
      "text/plain": [
       "array([0, 0, 0, 1, 1, 2, 3, 3, 3, 4, 5, 6, 6, 8, 9])"
      ]
     },
     "execution_count": 76,
     "metadata": {},
     "output_type": "execute_result"
    }
   ],
   "source": [
    "np.sort(matrix_A, axis = None)\n",
    "\n",
    "# A sorted version of the flattened matrix_A"
   ]
  },
  {
   "cell_type": "code",
   "execution_count": 79,
   "metadata": {},
   "outputs": [
    {
     "data": {
      "text/plain": [
       "4.799999999999999"
      ]
     },
     "execution_count": 79,
     "metadata": {},
     "output_type": "execute_result"
    }
   ],
   "source": [
    "np.percentile(matrix_A, 70)\n",
    "#have 15 value so 70 percentile > 10 position value\n",
    "#default flot aan\n",
    "#to get round value  use interpolation"
   ]
  },
  {
   "cell_type": "code",
   "execution_count": 80,
   "metadata": {},
   "outputs": [
    {
     "data": {
      "text/plain": [
       "4.5"
      ]
     },
     "execution_count": 80,
     "metadata": {},
     "output_type": "execute_result"
    }
   ],
   "source": [
    "np.percentile(matrix_A, 70,interpolation='midpoint')"
   ]
  },
  {
   "cell_type": "code",
   "execution_count": 77,
   "metadata": {},
   "outputs": [
    {
     "data": {
      "text/plain": [
       "numpy.float64"
      ]
     },
     "execution_count": 77,
     "metadata": {},
     "output_type": "execute_result"
    }
   ],
   "source": [
    "type(np.percentile(matrix_A, 70))\n",
    "# N-th Percentile = A value which is greater than n% of the dataset."
   ]
  },
  {
   "cell_type": "code",
   "execution_count": 78,
   "metadata": {},
   "outputs": [
    {
     "data": {
      "text/plain": [
       "9.0"
      ]
     },
     "execution_count": 78,
     "metadata": {},
     "output_type": "execute_result"
    }
   ],
   "source": [
    "np.percentile(matrix_A, 100)\n",
    "\n",
    "# 100-th percentile = max\n",
    "# 50-th percentile = median\n",
    "# 0-th percentile = min"
   ]
  },
  {
   "cell_type": "markdown",
   "metadata": {},
   "source": [
    "# Quantile"
   ]
  },
  {
   "cell_type": "code",
   "execution_count": 83,
   "metadata": {},
   "outputs": [
    {
     "data": {
      "text/plain": [
       "4.799999999999999"
      ]
     },
     "execution_count": 83,
     "metadata": {},
     "output_type": "execute_result"
    }
   ],
   "source": [
    "np.quantile(matrix_A, 0.70)\n",
    "# value greater than correspondig data set"
   ]
  },
  {
   "cell_type": "code",
   "execution_count": 81,
   "metadata": {},
   "outputs": [
    {
     "data": {
      "text/plain": [
       "5"
      ]
     },
     "execution_count": 81,
     "metadata": {},
     "output_type": "execute_result"
    }
   ],
   "source": [
    "np.quantile(matrix_A, 0.70, interpolation = \"nearest\")\n",
    "\n",
    "# Quantile -> Similar to percentile, but works with parts of the dataset, rather than percentages. \n",
    "# Hence, the N-th Quantile = 100*N-th Percentile of the same dataset.\n",
    "#70 percentile=.7 quantile\n",
    "# quantile function bw 0 nd 1"
   ]
  },
  {
   "cell_type": "markdown",
   "metadata": {},
   "source": [
    "# Averages and Variances"
   ]
  },
  {
   "cell_type": "code",
   "execution_count": 84,
   "metadata": {},
   "outputs": [],
   "source": [
    "import numpy as np"
   ]
  },
  {
   "cell_type": "code",
   "execution_count": 85,
   "metadata": {},
   "outputs": [
    {
     "data": {
      "text/plain": [
       "array([[1, 0, 0, 3, 1],\n",
       "       [3, 6, 6, 2, 9],\n",
       "       [4, 5, 3, 8, 0]])"
      ]
     },
     "execution_count": 85,
     "metadata": {},
     "output_type": "execute_result"
    }
   ],
   "source": [
    "matrix_A = np.array([[1,0,0,3,1],[3,6,6,2,9],[4,5,3,8,0]])\n",
    "matrix_A"
   ]
  },
  {
   "cell_type": "code",
   "execution_count": 86,
   "metadata": {},
   "outputs": [
    {
     "data": {
      "text/plain": [
       "3.0"
      ]
     },
     "execution_count": 86,
     "metadata": {},
     "output_type": "execute_result"
    }
   ],
   "source": [
    "np.median(matrix_A)\n",
    "\n",
    "# Returns the median for the flattened array. \n",
    "# Median -> The middle value of a sorted version of the dataset. "
   ]
  },
  {
   "cell_type": "code",
   "execution_count": 87,
   "metadata": {},
   "outputs": [
    {
     "data": {
      "text/plain": [
       "array([0, 0, 0, 1, 1, 2, 3, 3, 3, 4, 5, 6, 6, 8, 9])"
      ]
     },
     "execution_count": 87,
     "metadata": {},
     "output_type": "execute_result"
    }
   ],
   "source": [
    "np.sort(matrix_A, axis = None)"
   ]
  },
  {
   "cell_type": "code",
   "execution_count": 88,
   "metadata": {},
   "outputs": [
    {
     "data": {
      "text/plain": [
       "3.4"
      ]
     },
     "execution_count": 88,
     "metadata": {},
     "output_type": "execute_result"
    }
   ],
   "source": [
    "np.mean(matrix_A)\n",
    "\n",
    "# The arithmetic average of the flattened array. "
   ]
  },
  {
   "cell_type": "code",
   "execution_count": 89,
   "metadata": {},
   "outputs": [
    {
     "data": {
      "text/plain": [
       "3.4"
      ]
     },
     "execution_count": 89,
     "metadata": {},
     "output_type": "execute_result"
    }
   ],
   "source": [
    "np.average(matrix_A)\n",
    "\n",
    "# The average of the flattened array.\n",
    "#weitghed avg"
   ]
  },
  {
   "cell_type": "code",
   "execution_count": 90,
   "metadata": {},
   "outputs": [
    {
     "data": {
      "text/plain": [
       "array([[0.75915734, 0.7662218 , 0.6291028 , 0.20336599, 0.66501486],\n",
       "       [0.06559111, 0.71326309, 0.10812106, 0.87969046, 0.49405844],\n",
       "       [0.82472673, 0.45652944, 0.07367232, 0.69628564, 0.36690736]])"
      ]
     },
     "execution_count": 90,
     "metadata": {},
     "output_type": "execute_result"
    }
   ],
   "source": [
    "from numpy.random import Generator as gen\n",
    "from numpy.random import PCG64 as pcg\n",
    "\n",
    "array_RG = gen(pcg(365))\n",
    "\n",
    "array_weights = array_RG.random(size = (3,5))\n",
    "array_weights\n",
    "\n",
    "# Generating some random weights for each entry of matrix_A (for the sake of the example)\n",
    "# compare mean nd avg"
   ]
  },
  {
   "cell_type": "code",
   "execution_count": 91,
   "metadata": {},
   "outputs": [
    {
     "data": {
      "text/plain": [
       "3.2120290871899306"
      ]
     },
     "execution_count": 91,
     "metadata": {},
     "output_type": "execute_result"
    }
   ],
   "source": [
    "np.average(matrix_A, weights = array_weights)\n",
    "\n",
    "# The weighted average of the flattened array. "
   ]
  },
  {
   "cell_type": "code",
   "execution_count": 92,
   "metadata": {},
   "outputs": [
    {
     "data": {
      "text/plain": [
       "7.84"
      ]
     },
     "execution_count": 92,
     "metadata": {},
     "output_type": "execute_result"
    }
   ],
   "source": [
    "np.var(matrix_A)\n",
    "\n",
    "# The variance of the array."
   ]
  },
  {
   "cell_type": "code",
   "execution_count": 93,
   "metadata": {},
   "outputs": [
    {
     "data": {
      "text/plain": [
       "2.8"
      ]
     },
     "execution_count": 93,
     "metadata": {},
     "output_type": "execute_result"
    }
   ],
   "source": [
    "np.std(matrix_A)\n",
    "\n",
    "# The standard deviation of the array"
   ]
  },
  {
   "cell_type": "code",
   "execution_count": 94,
   "metadata": {},
   "outputs": [
    {
     "data": {
      "text/plain": [
       "7.839999999999999"
      ]
     },
     "execution_count": 94,
     "metadata": {},
     "output_type": "execute_result"
    }
   ],
   "source": [
    "2.8**2"
   ]
  },
  {
   "cell_type": "markdown",
   "metadata": {},
   "source": [
    "# Correlation"
   ]
  },
  {
   "cell_type": "code",
   "execution_count": 95,
   "metadata": {},
   "outputs": [],
   "source": [
    "import numpy as np"
   ]
  },
  {
   "cell_type": "code",
   "execution_count": 96,
   "metadata": {},
   "outputs": [
    {
     "data": {
      "text/plain": [
       "array([[1, 0, 0, 3, 1],\n",
       "       [3, 6, 6, 2, 9],\n",
       "       [4, 5, 3, 8, 0]])"
      ]
     },
     "execution_count": 96,
     "metadata": {},
     "output_type": "execute_result"
    }
   ],
   "source": [
    "matrix_A = np.array([[1,0,0,3,1],[3,6,6,2,9],[4,5,3,8,0]])\n",
    "matrix_A"
   ]
  },
  {
   "cell_type": "code",
   "execution_count": 97,
   "metadata": {},
   "outputs": [
    {
     "data": {
      "text/plain": [
       "array([[ 1.5, -2. ,  2. ],\n",
       "       [-2. ,  7.7, -7. ],\n",
       "       [ 2. , -7. ,  8.5]])"
      ]
     },
     "execution_count": 97,
     "metadata": {},
     "output_type": "execute_result"
    }
   ],
   "source": [
    "np.cov(matrix_A)\n",
    "\n",
    "# The covariance of every row (array) of matrix_A and every other row of the variable\n",
    "# diagnal matrix\n",
    "# cov(x,x)=var(x)\n",
    "#cov(a,b)=cov(b,a)\n",
    "#all value in the row represent the covarience that row"
   ]
  },
  {
   "cell_type": "markdown",
   "metadata": {},
   "source": [
    "# correlation"
   ]
  },
  {
   "cell_type": "code",
   "execution_count": 98,
   "metadata": {},
   "outputs": [
    {
     "data": {
      "text/plain": [
       "array([[ 1.        , -0.58848989,  0.56011203],\n",
       "       [-0.58848989,  1.        , -0.8652532 ],\n",
       "       [ 0.56011203, -0.8652532 ,  1.        ]])"
      ]
     },
     "execution_count": 98,
     "metadata": {},
     "output_type": "execute_result"
    }
   ],
   "source": [
    "np.corrcoef(matrix_A)\n",
    "\n",
    "# The correlation coefficient of every row (array) of matrix_A and every other row of the variable.\n",
    "#corr = cov(x,y)|std s std y\n",
    "#corr(x,x)=1\n",
    "#get  symmytrical matrix"
   ]
  },
  {
   "cell_type": "markdown",
   "metadata": {},
   "source": [
    "# Histograms"
   ]
  },
  {
   "cell_type": "code",
   "execution_count": 99,
   "metadata": {},
   "outputs": [],
   "source": [
    "import numpy as np"
   ]
  },
  {
   "cell_type": "code",
   "execution_count": 100,
   "metadata": {},
   "outputs": [
    {
     "data": {
      "text/plain": [
       "array([[1, 0, 0, 3, 1],\n",
       "       [3, 6, 6, 2, 9],\n",
       "       [4, 5, 3, 8, 0]])"
      ]
     },
     "execution_count": 100,
     "metadata": {},
     "output_type": "execute_result"
    }
   ],
   "source": [
    "matrix_A = np.array([[1,0,0,3,1],[3,6,6,2,9],[4,5,3,8,0]])\n",
    "matrix_A"
   ]
  },
  {
   "cell_type": "code",
   "execution_count": 101,
   "metadata": {},
   "outputs": [
    {
     "data": {
      "text/plain": [
       "array([0, 0, 0, 1, 1, 2, 3, 3, 3, 4, 5, 6, 6, 8, 9])"
      ]
     },
     "execution_count": 101,
     "metadata": {},
     "output_type": "execute_result"
    }
   ],
   "source": [
    "np.sort(matrix_A, axis = None)"
   ]
  },
  {
   "cell_type": "code",
   "execution_count": 107,
   "metadata": {},
   "outputs": [
    {
     "data": {
      "text/plain": [
       "(array([3, 2, 1, 3, 1, 1, 2, 0, 1, 1], dtype=int64),\n",
       " array([0. , 0.9, 1.8, 2.7, 3.6, 4.5, 5.4, 6.3, 7.2, 8.1, 9. ]))"
      ]
     },
     "execution_count": 107,
     "metadata": {},
     "output_type": "execute_result"
    }
   ],
   "source": [
    "np.histogram(matrix_A)"
   ]
  },
  {
   "cell_type": "code",
   "execution_count": 109,
   "metadata": {},
   "outputs": [
    {
     "data": {
      "text/plain": [
       "array([3, 2, 1, 3, 1, 1, 2, 0, 1, 1], dtype=int64)"
      ]
     },
     "execution_count": 109,
     "metadata": {},
     "output_type": "execute_result"
    }
   ],
   "source": [
    "np.histogram(matrix_A)[0] #get value\n",
    "#np.histogram(matrix_A)[1] # get bins"
   ]
  },
  {
   "cell_type": "code",
   "execution_count": 102,
   "metadata": {},
   "outputs": [
    {
     "data": {
      "text/plain": [
       "(array([3, 3, 2, 2], dtype=int64), array([1. , 2.5, 4. , 5.5, 7. ]))"
      ]
     },
     "execution_count": 102,
     "metadata": {},
     "output_type": "execute_result"
    }
   ],
   "source": [
    "np.histogram(matrix_A, bins = 4, range = (1,7))\n",
    "\n",
    "# Computes the bin edges and how many points fall in each bin. \n",
    "# The 1-st array contains the number of points. The 2-nd array contains the bin edges.\n",
    "# Computes the bin edges and how many points fall in each bin. \n",
    "# The 1-st array contains the number of points. The 2-nd array contains the bin edges. \n",
    "# range fix the inetrval and set values\n",
    "# easy to ignor oulier ivide remove 000 nd 8 9\n",
    "# range value not incorporated"
   ]
  },
  {
   "cell_type": "code",
   "execution_count": 103,
   "metadata": {},
   "outputs": [],
   "source": [
    "#histogram way to examin a data set by its density (how populated given area)\n",
    "#howmany data values from data set fall within some predtermined range(each iontervel)\n",
    "#bins give consicutive bins\n",
    "# first sort to understand where to fall\n",
    "# get two array 1=no of pt fall in each interval,2=edge of each bin\n",
    "# op is tuple"
   ]
  },
  {
   "cell_type": "code",
   "execution_count": 104,
   "metadata": {},
   "outputs": [
    {
     "data": {
      "image/png": "[encoded data removed]",
      "text/plain": [
       "<Figure size 432x288 with 1 Axes>"
      ]
     },
     "metadata": {
      "needs_background": "light"
     },
     "output_type": "display_data"
    }
   ],
   "source": [
    "import matplotlib.pyplot as plt\n",
    "plt.hist(matrix_A.flat, bins = np.histogram(matrix_A)[1])\n",
    "plt.show()\n",
    "\n",
    "# NumPy has no plotting capabilities, so we're using matplotlib's help. \n",
    "# .flat -> The flattened version of the array"
   ]
  },
  {
   "cell_type": "code",
   "execution_count": 105,
   "metadata": {},
   "outputs": [
    {
     "data": {
      "text/plain": [
       "array([[1, 0, 0, 3, 1],\n",
       "       [3, 6, 6, 2, 9],\n",
       "       [4, 5, 3, 8, 0]])"
      ]
     },
     "execution_count": 105,
     "metadata": {},
     "output_type": "execute_result"
    }
   ],
   "source": [
    "matrix_A"
   ]
  },
  {
   "cell_type": "markdown",
   "metadata": {},
   "source": [
    "# 2-d"
   ]
  },
  {
   "cell_type": "code",
   "execution_count": 106,
   "metadata": {},
   "outputs": [
    {
     "data": {
      "text/plain": [
       "(array([[0., 0., 2., 0.],\n",
       "        [1., 0., 0., 1.],\n",
       "        [0., 0., 0., 0.],\n",
       "        [1., 0., 0., 0.]]),\n",
       " array([0.  , 0.75, 1.5 , 2.25, 3.  ]),\n",
       " array([2.  , 3.75, 5.5 , 7.25, 9.  ]))"
      ]
     },
     "execution_count": 106,
     "metadata": {},
     "output_type": "execute_result"
    }
   ],
   "source": [
    "np.histogram2d(matrix_A[0], matrix_A[1], bins = 4)\n",
    "\n",
    "# We pass two datasets for the 2-D histogram.\n",
    "# bins are open interval, if the value equal lowe edge it counts ,if equal upper not count in that bin\n",
    "# deafult number of bins 10\n",
    "# lower bins lead higher avh number o element\n",
    "# get a 2-d array(density array) and two 1-d aary(bin array for x nd y cordinates)\n",
    "# row equal x bin\n",
    "# clomn equel y bin\n",
    "# density array of first row =all point whose x value falls within first bin"
   ]
  },
  {
   "cell_type": "markdown",
   "metadata": {},
   "source": [
    "# higher dimension histogram"
   ]
  },
  {
   "cell_type": "code",
   "execution_count": 110,
   "metadata": {},
   "outputs": [
    {
     "data": {
      "text/plain": [
       "(array([[[0., 0., 0., 0.],\n",
       "         [0., 0., 0., 0.],\n",
       "         [0., 1., 1., 0.],\n",
       "         [0., 0., 0., 0.]],\n",
       " \n",
       "        [[0., 0., 1., 0.],\n",
       "         [0., 0., 0., 0.],\n",
       "         [0., 0., 0., 0.],\n",
       "         [1., 0., 0., 0.]],\n",
       " \n",
       "        [[0., 0., 0., 0.],\n",
       "         [0., 0., 0., 0.],\n",
       "         [0., 0., 0., 0.],\n",
       "         [0., 0., 0., 0.]],\n",
       " \n",
       "        [[0., 0., 0., 1.],\n",
       "         [0., 0., 0., 0.],\n",
       "         [0., 0., 0., 0.],\n",
       "         [0., 0., 0., 0.]]]),\n",
       " [array([0.  , 0.75, 1.5 , 2.25, 3.  ]),\n",
       "  array([2.  , 3.75, 5.5 , 7.25, 9.  ]),\n",
       "  array([0., 2., 4., 6., 8.])])"
      ]
     },
     "execution_count": 110,
     "metadata": {},
     "output_type": "execute_result"
    }
   ],
   "source": [
    "np.histogramdd(matrix_A.transpose(), bins = 4)\n",
    "# get 2-d density array for each bin of the z cordinate array\n",
    "# get x y z cordinate\n",
    "# get 4 density matrix= density tensor(3-d)"
   ]
  },
  {
   "cell_type": "markdown",
   "metadata": {},
   "source": [
    "# NaN-Equivalents"
   ]
  },
  {
   "cell_type": "code",
   "execution_count": 111,
   "metadata": {},
   "outputs": [],
   "source": [
    "import numpy as np"
   ]
  },
  {
   "cell_type": "code",
   "execution_count": 112,
   "metadata": {},
   "outputs": [
    {
     "data": {
      "text/plain": [
       "array([[1, 0, 0, 3, 1],\n",
       "       [3, 6, 6, 2, 9],\n",
       "       [4, 5, 3, 8, 0]])"
      ]
     },
     "execution_count": 112,
     "metadata": {},
     "output_type": "execute_result"
    }
   ],
   "source": [
    "matrix_A = np.array([[1,0,0,3,1],[3,6,6,2,9],[4,5,3,8,0]])\n",
    "matrix_A"
   ]
  },
  {
   "cell_type": "code",
   "execution_count": 113,
   "metadata": {},
   "outputs": [
    {
     "data": {
      "text/plain": [
       "3.4"
      ]
     },
     "execution_count": 113,
     "metadata": {},
     "output_type": "execute_result"
    }
   ],
   "source": [
    "np.nanmean(matrix_A)\n",
    "# its same if not have missing value"
   ]
  },
  {
   "cell_type": "code",
   "execution_count": 114,
   "metadata": {},
   "outputs": [
    {
     "data": {
      "text/plain": [
       "3.4"
      ]
     },
     "execution_count": 114,
     "metadata": {},
     "output_type": "execute_result"
    }
   ],
   "source": [
    "np.mean(matrix_A)\n",
    "\n",
    "# NAN functions work the same way as non-NAN functions for non-NAN datasets"
   ]
  },
  {
   "cell_type": "code",
   "execution_count": 115,
   "metadata": {},
   "outputs": [
    {
     "data": {
      "text/plain": [
       "array([[ 1.,  0.,  0.,  3.,  1.],\n",
       "       [ 3.,  6., nan,  2.,  9.],\n",
       "       [ 4.,  5.,  3.,  8.,  0.]])"
      ]
     },
     "execution_count": 115,
     "metadata": {},
     "output_type": "execute_result"
    }
   ],
   "source": [
    "matrix_B = np.array([[1,0,0,3,1],[3,6,np.nan,2,9],[4,5,3,8,0]])\n",
    "matrix_B\n",
    "# have mising value , how to fill and find mean"
   ]
  },
  {
   "cell_type": "code",
   "execution_count": 116,
   "metadata": {},
   "outputs": [
    {
     "data": {
      "text/plain": [
       "3.2142857142857144"
      ]
     },
     "execution_count": 116,
     "metadata": {},
     "output_type": "execute_result"
    }
   ],
   "source": [
    "np.nanmean(matrix_B)\n",
    "\n",
    "# NAN functions ignore \"nan\" values and compute the mean."
   ]
  },
  {
   "cell_type": "code",
   "execution_count": 117,
   "metadata": {},
   "outputs": [
    {
     "data": {
      "text/plain": [
       "nan"
      ]
     },
     "execution_count": 117,
     "metadata": {},
     "output_type": "execute_result"
    }
   ],
   "source": [
    "np.mean(matrix_B)\n",
    "\n",
    "# Non-NAN functions return \"nan\" when missing values are present."
   ]
  },
  {
   "cell_type": "code",
   "execution_count": 118,
   "metadata": {},
   "outputs": [
    {
     "data": {
      "text/plain": [
       "4.1"
      ]
     },
     "execution_count": 118,
     "metadata": {},
     "output_type": "execute_result"
    }
   ],
   "source": [
    "np.nanquantile(matrix_B, 0.7)"
   ]
  },
  {
   "cell_type": "code",
   "execution_count": 119,
   "metadata": {},
   "outputs": [
    {
     "data": {
      "text/plain": [
       "7.882653061224489"
      ]
     },
     "execution_count": 119,
     "metadata": {},
     "output_type": "execute_result"
    }
   ],
   "source": [
    "np.nanvar(matrix_B)"
   ]
  },
  {
   "cell_type": "markdown",
   "metadata": {},
   "source": [
    "# Preprocessing with NumPy"
   ]
  },
  {
   "cell_type": "code",
   "execution_count": 120,
   "metadata": {},
   "outputs": [],
   "source": [
    "import numpy as np"
   ]
  },
  {
   "cell_type": "markdown",
   "metadata": {},
   "source": [
    "# Checking for Missing Values"
   ]
  },
  {
   "cell_type": "code",
   "execution_count": 121,
   "metadata": {},
   "outputs": [],
   "source": [
    "lending_co_data_numeric = np.loadtxt(\"Lending-company-Numeric.csv\", delimiter = ',')\n",
    "\n",
    "## If np.loadtxt() compiles first time, the dataset consists of only numeric values and has no missing data."
   ]
  },
  {
   "cell_type": "code",
   "execution_count": 122,
   "metadata": {},
   "outputs": [
    {
     "data": {
      "text/plain": [
       "0"
      ]
     },
     "execution_count": 122,
     "metadata": {},
     "output_type": "execute_result"
    }
   ],
   "source": [
    "np.isnan(lending_co_data_numeric).sum()\n",
    "\n",
    "## isnan() determines whether data is missing data for the individual elements in an array (True -> Missing 1, False -> Not missing 0)\n",
    "## By adding .sum(), we get the total number of missing elements in the data.\n",
    "# here no missing value\n",
    "# sum take input od isnan"
   ]
  },
  {
   "cell_type": "code",
   "execution_count": 124,
   "metadata": {},
   "outputs": [],
   "source": [
    "ending_co_data_numeric_NAN = np.genfromtxt(\"Lending-company-Numeric-NAN.csv\", delimiter = ';')\n",
    "# no way to see nan value only\n",
    "# genfrom use chythal crash avilla"
   ]
  },
  {
   "cell_type": "code",
   "execution_count": 125,
   "metadata": {},
   "outputs": [
    {
     "data": {
      "text/plain": [
       "108"
      ]
     },
     "execution_count": 125,
     "metadata": {},
     "output_type": "execute_result"
    }
   ],
   "source": [
    "np.isnan(lending_co_data_numeric_NAN).sum()\n",
    "# have missing value"
   ]
  },
  {
   "cell_type": "markdown",
   "metadata": {},
   "source": [
    "# Fill the nan value"
   ]
  },
  {
   "cell_type": "code",
   "execution_count": 126,
   "metadata": {},
   "outputs": [],
   "source": [
    "lending_co_data_numeric_NAN = np.genfromtxt(\"Lending-company-Numeric-NAN.csv\", \n",
    "                                            delimiter = ';',\n",
    "                                            filling_values = 0)\n",
    "\n",
    "## Filling_values substitutes every nan with the value we're passing (0 in this case) while impoting\n",
    "# adding zero not alwys good idea, zero could use to some meanigful data set"
   ]
  },
  {
   "cell_type": "code",
   "execution_count": 127,
   "metadata": {},
   "outputs": [
    {
     "data": {
      "text/plain": [
       "0"
      ]
     },
     "execution_count": 127,
     "metadata": {},
     "output_type": "execute_result"
    }
   ],
   "source": [
    "np.isnan(lending_co_data_numeric_NAN).sum()\n",
    "\n",
    "## All the previously missing values are now 0s."
   ]
  },
  {
   "cell_type": "code",
   "execution_count": 128,
   "metadata": {},
   "outputs": [],
   "source": [
    "lending_co_data_numeric_NAN = np.genfromtxt(\"Lending-company-Numeric-NAN.csv\", \n",
    "                                            delimiter = ';') \n",
    "\n",
    "# We need to reimport the dataset since all the missing values are filled up."
   ]
  },
  {
   "cell_type": "markdown",
   "metadata": {},
   "source": [
    "# 2"
   ]
  },
  {
   "cell_type": "code",
   "execution_count": 129,
   "metadata": {},
   "outputs": [],
   "source": [
    "temporary_fill = np.nanmax(lending_co_data_numeric_NAN).round(2) + 1\n",
    "\n",
    "# We use nanmax(), since max() returns nan. \n",
    "# We want a value greater than the max, since we have be certain it's unique to the dataset.\n",
    "# when working with decimal then use round\n",
    "# plus mean tem fill outside of max value"
   ]
  },
  {
   "cell_type": "code",
   "execution_count": 130,
   "metadata": {},
   "outputs": [
    {
     "data": {
      "text/plain": [
       "64002.0"
      ]
     },
     "execution_count": 130,
     "metadata": {},
     "output_type": "execute_result"
    }
   ],
   "source": [
    "temporary_fill\n",
    "# this the value going to fill"
   ]
  },
  {
   "cell_type": "code",
   "execution_count": 131,
   "metadata": {},
   "outputs": [],
   "source": [
    "lending_co_data_numeric_NAN = np.genfromtxt(\"Lending-company-Numeric-NAN.csv\", \n",
    "                                            delimiter = ';',\n",
    "                                            filling_values = temporary_fill) \n",
    "\n",
    "# Filling up all the missing values with the temporary filler. "
   ]
  },
  {
   "cell_type": "code",
   "execution_count": 132,
   "metadata": {},
   "outputs": [
    {
     "data": {
      "text/plain": [
       "array([[False, False, False, False, False, False],\n",
       "       [False, False, False, False, False, False],\n",
       "       [False, False, False, False, False, False],\n",
       "       ...,\n",
       "       [False, False, False, False, False, False],\n",
       "       [False, False, False, False, False, False],\n",
       "       [False, False, False, False, False, False]])"
      ]
     },
     "execution_count": 132,
     "metadata": {},
     "output_type": "execute_result"
    }
   ],
   "source": [
    "np.isnan(lending_co_data_numeric_NAN)"
   ]
  },
  {
   "cell_type": "code",
   "execution_count": 133,
   "metadata": {},
   "outputs": [
    {
     "data": {
      "text/plain": [
       "0"
      ]
     },
     "execution_count": 133,
     "metadata": {},
     "output_type": "execute_result"
    }
   ],
   "source": [
    "np.isnan(lending_co_data_numeric_NAN).sum()"
   ]
  },
  {
   "cell_type": "markdown",
   "metadata": {},
   "source": [
    "# Substituting Missing Values"
   ]
  },
  {
   "cell_type": "code",
   "execution_count": 134,
   "metadata": {},
   "outputs": [
    {
     "data": {
      "text/plain": [
       "array([[ 2000.,    40.,   365.,  3121.,  4241., 13621.],\n",
       "       [ 2000.,    40.,   365.,  3061.,  4171., 15041.],\n",
       "       [ 1000.,    40.,   365.,  2160.,  3280., 15340.],\n",
       "       ...,\n",
       "       [   nan,    40.,   365.,  4201.,  5001., 16600.],\n",
       "       [ 1000.,    40.,   365.,  2080.,  3320., 15600.],\n",
       "       [ 2000.,    40.,   365.,  4601.,  4601., 16600.]])"
      ]
     },
     "execution_count": 134,
     "metadata": {},
     "output_type": "execute_result"
    }
   ],
   "source": [
    "lending_co_data_numeric_NAN = np.genfromtxt(\"Lending-company-Numeric-NAN.csv\", delimiter = ';')\n",
    "lending_co_data_numeric_NAN"
   ]
  },
  {
   "cell_type": "code",
   "execution_count": 135,
   "metadata": {},
   "outputs": [],
   "source": [
    "temporary_mean = np.nanmean(lending_co_data_numeric_NAN, axis = 0).round(2)\n",
    "\n",
    "## Storing the means of every column. "
   ]
  },
  {
   "cell_type": "code",
   "execution_count": 136,
   "metadata": {},
   "outputs": [
    {
     "data": {
      "text/plain": [
       "2250.25"
      ]
     },
     "execution_count": 136,
     "metadata": {},
     "output_type": "execute_result"
    }
   ],
   "source": [
    "temporary_mean[0]"
   ]
  },
  {
   "cell_type": "code",
   "execution_count": 137,
   "metadata": {},
   "outputs": [],
   "source": [
    "temporary_fill = np.nanmax(lending_co_data_numeric_NAN).round(2) + 1\n",
    "\n",
    "lending_co_data_numeric_NAN = np.genfromtxt(\"Lending-company-Numeric-NAN.csv\",\n",
    "                                            delimiter = ';',\n",
    "                                            filling_values = temporary_fill)\n",
    "\n",
    "## Creating a unique filler and using it to take care of all the missing values."
   ]
  },
  {
   "cell_type": "code",
   "execution_count": 138,
   "metadata": {},
   "outputs": [
    {
     "data": {
      "text/plain": [
       "64002.0"
      ]
     },
     "execution_count": 138,
     "metadata": {},
     "output_type": "execute_result"
    }
   ],
   "source": [
    "temporary_fill"
   ]
  },
  {
   "cell_type": "code",
   "execution_count": 139,
   "metadata": {},
   "outputs": [
    {
     "data": {
      "text/plain": [
       "4263.25"
      ]
     },
     "execution_count": 139,
     "metadata": {},
     "output_type": "execute_result"
    }
   ],
   "source": [
    "np.mean(lending_co_data_numeric_NAN[:,0]).round(2) \n",
    "\n",
    "# Supposed mean (w/ fillers)"
   ]
  },
  {
   "cell_type": "code",
   "execution_count": 140,
   "metadata": {},
   "outputs": [
    {
     "data": {
      "text/plain": [
       "2250.25"
      ]
     },
     "execution_count": 140,
     "metadata": {},
     "output_type": "execute_result"
    }
   ],
   "source": [
    "temporary_mean[0]\n",
    "\n",
    "# Actual mean (w/0 fillers)"
   ]
  },
  {
   "cell_type": "markdown",
   "metadata": {},
   "source": [
    "# np.where"
   ]
  },
  {
   "cell_type": "code",
   "execution_count": 141,
   "metadata": {},
   "outputs": [],
   "source": [
    "lending_co_data_numeric_NAN[:,0] = np.where(lending_co_data_numeric_NAN[:,0] == temporary_fill,\n",
    "                                            temporary_mean[0], \n",
    "                                            lending_co_data_numeric_NAN[:,0])\n",
    "\n",
    "# Going through the first column and substituting any temporary fillers (previously missing) with the mean for that column."
   ]
  },
  {
   "cell_type": "code",
   "execution_count": 142,
   "metadata": {},
   "outputs": [
    {
     "data": {
      "text/plain": [
       "2250.25"
      ]
     },
     "execution_count": 142,
     "metadata": {},
     "output_type": "execute_result"
    }
   ],
   "source": [
    "np.mean(lending_co_data_numeric_NAN[:,0]).round(2)\n",
    "\n",
    "# New mean equals old mean. "
   ]
  },
  {
   "cell_type": "code",
   "execution_count": 144,
   "metadata": {},
   "outputs": [],
   "source": [
    "for i in range(lending_co_data_numeric_NAN.shape[1]):        \n",
    "    lending_co_data_numeric_NAN[:,i] = np.where(lending_co_data_numeric_NAN[:,i] == temporary_fill, \n",
    "                                                temporary_mean[i], \n",
    "                                                lending_co_data_numeric_NAN[:,i])\n",
    "    \n",
    "# We're generalizing the filling from earlier and going through all the columns. \n",
    "# can use mode insted of mean"
   ]
  },
  {
   "cell_type": "code",
   "execution_count": 145,
   "metadata": {},
   "outputs": [
    {
     "data": {
      "text/plain": [
       "' nrathe miising value maatiyath using maximumu value vechayirunnu. actually its also missing, have diffnce between mean of both value add chytha data set and missing value ulla data set\\nso fill missing value with mean.wont change the overall meaning bcz mean oru series add chythal athinte mean marilla,not alwys valid,\\nadhyam mean of each colmn kanunu,then oro colum nte meanum corespnding colmn missing valun pakaram kodikkunnu\\n\\nwant to keep track of diff mean bcz they can cahnge after filling missing value element.store mean of each clomn before filling\\nwhere conditio vech mean of first colmn add missing value in first colmn, then apply for each colmn'"
      ]
     },
     "execution_count": 145,
     "metadata": {},
     "output_type": "execute_result"
    }
   ],
   "source": [
    "''' nrathe miising value maatiyath using maximumu value vechayirunnu. actually its also missing, have diffnce between mean of both value add chytha data set and missing value ulla data set\n",
    "so fill missing value with mean.wont change the overall meaning bcz mean oru series add chythal athinte mean marilla,not alwys valid,\n",
    "adhyam mean of each colmn kanunu,then oro colum nte meanum corespnding colmn missing valun pakaram kodikkunnu\n",
    "\n",
    "want to keep track of diff mean bcz they can cahnge after filling missing value element.store mean of each clomn before filling\n",
    "where conditio vech mean of first colmn add missing value in first colmn, then apply for each colmn'''\n"
   ]
  },
  {
   "cell_type": "code",
   "execution_count": 146,
   "metadata": {},
   "outputs": [],
   "source": [
    "# another aplication\n",
    "for i in range(lending_co_data_numeric_NAN.shape[1]):        \n",
    "    lending_co_data_numeric_NAN[:,i] = np.where(lending_co_data_numeric_NAN[:, i] < 0,\n",
    "                                                0, \n",
    "                                                lending_co_data_numeric_NAN[:,i])\n",
    "    \n",
    "# We can use this approach for other applications as well (e.g. remove all negative values and set them to 0)"
   ]
  },
  {
   "cell_type": "markdown",
   "metadata": {},
   "source": [
    "# Reshaping"
   ]
  },
  {
   "cell_type": "code",
   "execution_count": 147,
   "metadata": {},
   "outputs": [],
   "source": [
    "lending_co_data_numeric = np.loadtxt(\"Lending-company-Numeric.csv\", delimiter = ',')"
   ]
  },
  {
   "cell_type": "code",
   "execution_count": 148,
   "metadata": {},
   "outputs": [
    {
     "data": {
      "text/plain": [
       "array([[ 2000.,    40.,   365.,  3121.,  4241., 13621.],\n",
       "       [ 2000.,    40.,   365.,  3061.,  4171., 15041.],\n",
       "       [ 1000.,    40.,   365.,  2160.,  3280., 15340.],\n",
       "       ...,\n",
       "       [ 2000.,    40.,   365.,  4201.,  5001., 16600.],\n",
       "       [ 1000.,    40.,   365.,  2080.,  3320., 15600.],\n",
       "       [ 2000.,    40.,   365.,  4601.,  4601., 16600.]])"
      ]
     },
     "execution_count": 148,
     "metadata": {},
     "output_type": "execute_result"
    }
   ],
   "source": [
    "lending_co_data_numeric"
   ]
  },
  {
   "cell_type": "code",
   "execution_count": 149,
   "metadata": {},
   "outputs": [
    {
     "data": {
      "text/plain": [
       "(1043, 6)"
      ]
     },
     "execution_count": 149,
     "metadata": {},
     "output_type": "execute_result"
    }
   ],
   "source": [
    "lending_co_data_numeric.shape"
   ]
  },
  {
   "cell_type": "code",
   "execution_count": 150,
   "metadata": {},
   "outputs": [
    {
     "data": {
      "text/plain": [
       "array([[ 2000.,    40.,   365., ...,   365.,  1581.,  3041.],\n",
       "       [12277.,  2000.,    40., ...,    50.,   365.,  5350.],\n",
       "       [ 6850., 15150.,  1000., ...,  2000.,    40.,   365.],\n",
       "       [ 3101.,  4351., 16600., ..., 16600.,  2000.,    40.],\n",
       "       [  365.,  3441.,  4661., ...,  8450., 22250.,  2000.],\n",
       "       [   40.,   365.,  3701., ...,  4601.,  4601., 16600.]])"
      ]
     },
     "execution_count": 150,
     "metadata": {},
     "output_type": "execute_result"
    }
   ],
   "source": [
    "np.reshape(lending_co_data_numeric, (6,1043))\n",
    "\n",
    "# Reshaping (1043,6) to (6,1043) is not the same as transposing.\n",
    "#take first 1043 values of flattened aray then palced initial rows and left ullath baki ulla rows\n",
    "#not side wise slip\n",
    "# why reshap ?\n",
    "# methord have ip nd op limitation we cant alwys play in what array we want\n",
    "#reshaping op not alwys possible to store the op a function as part of existing array soreshaping may be a problrm\n",
    "#they are certain restriction we can give to array.sice have fixed amunt of data available"
   ]
  },
  {
   "cell_type": "code",
   "execution_count": 151,
   "metadata": {},
   "outputs": [
    {
     "data": {
      "text/plain": [
       "array([[ 2000.,  2000.,  1000., ...,  2000.,  1000.,  2000.],\n",
       "       [   40.,    40.,    40., ...,    40.,    40.,    40.],\n",
       "       [  365.,   365.,   365., ...,   365.,   365.,   365.],\n",
       "       [ 3121.,  3061.,  2160., ...,  4201.,  2080.,  4601.],\n",
       "       [ 4241.,  4171.,  3280., ...,  5001.,  3320.,  4601.],\n",
       "       [13621., 15041., 15340., ..., 16600., 15600., 16600.]])"
      ]
     },
     "execution_count": 151,
     "metadata": {},
     "output_type": "execute_result"
    }
   ],
   "source": [
    "np.transpose(lending_co_data_numeric)"
   ]
  },
  {
   "cell_type": "code",
   "execution_count": 154,
   "metadata": {},
   "outputs": [
    {
     "data": {
      "text/plain": [
       "array([[ 2000.,    40.,   365., ...,    50.,   365.,  5350.],\n",
       "       [ 6850., 15150.,  1000., ..., 16600.,  2000.,    40.],\n",
       "       [  365.,  3441.,  4661., ...,  4601.,  4601., 16600.]])"
      ]
     },
     "execution_count": 154,
     "metadata": {},
     "output_type": "execute_result"
    }
   ],
   "source": [
    "np.reshape(lending_co_data_numeric, (3,2086))"
   ]
  },
  {
   "cell_type": "code",
   "execution_count": 155,
   "metadata": {},
   "outputs": [
    {
     "data": {
      "text/plain": [
       "array([[[ 2000.,    40.,   365., ...,   365.,  1581.,  3041.],\n",
       "        [12277.,  2000.,    40., ...,    50.,   365.,  5350.],\n",
       "        [ 6850., 15150.,  1000., ...,  2000.,    40.,   365.]],\n",
       "\n",
       "       [[ 3101.,  4351., 16600., ..., 16600.,  2000.,    40.],\n",
       "        [  365.,  3441.,  4661., ...,  8450., 22250.,  2000.],\n",
       "        [   40.,   365.,  3701., ...,  4601.,  4601., 16600.]]])"
      ]
     },
     "execution_count": 155,
     "metadata": {},
     "output_type": "execute_result"
    }
   ],
   "source": [
    "np.reshape(lending_co_data_numeric, (2,3,1043))"
   ]
  },
  {
   "cell_type": "code",
   "execution_count": 152,
   "metadata": {},
   "outputs": [
    {
     "data": {
      "text/plain": [
       "array([[[[[ 2000.,    40.,   365., ...,   365.,  1581.,  3041.],\n",
       "          [12277.,  2000.,    40., ...,    50.,   365.,  5350.],\n",
       "          [ 6850., 15150.,  1000., ...,  2000.,    40.,   365.]],\n",
       "\n",
       "         [[ 3101.,  4351., 16600., ..., 16600.,  2000.,    40.],\n",
       "          [  365.,  3441.,  4661., ...,  8450., 22250.,  2000.],\n",
       "          [   40.,   365.,  3701., ...,  4601.,  4601., 16600.]]]]])"
      ]
     },
     "execution_count": 152,
     "metadata": {},
     "output_type": "execute_result"
    }
   ],
   "source": [
    "np.reshape(lending_co_data_numeric, (1,1,2,3,1043))\n",
    "\n",
    "# We can choose whatever shape we wish as long as the product of the dimensions matches the total number of elements in the array.\n",
    "# number dimension not have to be same ,must equel to same elemrnt of old array\n",
    "# look to [] see the dimension\n",
    "# highter dimension is usful when methord or function only takes ip with a highter number of dimension than array want to ply in"
   ]
  },
  {
   "cell_type": "code",
   "execution_count": 153,
   "metadata": {},
   "outputs": [
    {
     "data": {
      "text/plain": [
       "array([[ 2000.,    40.,   365.,  3121.,  4241., 13621.],\n",
       "       [ 2000.,    40.,   365.,  3061.,  4171., 15041.],\n",
       "       [ 1000.,    40.,   365.,  2160.,  3280., 15340.],\n",
       "       ...,\n",
       "       [ 2000.,    40.,   365.,  4201.,  5001., 16600.],\n",
       "       [ 1000.,    40.,   365.,  2080.,  3320., 15600.],\n",
       "       [ 2000.,    40.,   365.,  4601.,  4601., 16600.]])"
      ]
     },
     "execution_count": 153,
     "metadata": {},
     "output_type": "execute_result"
    }
   ],
   "source": [
    "lending_co_data_numeric\n",
    "\n",
    "# Reshaping doesn't alter the original array. "
   ]
  },
  {
   "cell_type": "code",
   "execution_count": 156,
   "metadata": {},
   "outputs": [
    {
     "data": {
      "text/plain": [
       "array([[ 2000.,    40.,   365., ...,   365.,  1581.,  3041.],\n",
       "       [12277.,  2000.,    40., ...,    50.,   365.,  5350.],\n",
       "       [ 6850., 15150.,  1000., ...,  2000.,    40.,   365.],\n",
       "       [ 3101.,  4351., 16600., ..., 16600.,  2000.,    40.],\n",
       "       [  365.,  3441.,  4661., ...,  8450., 22250.,  2000.],\n",
       "       [   40.,   365.,  3701., ...,  4601.,  4601., 16600.]])"
      ]
     },
     "execution_count": 156,
     "metadata": {},
     "output_type": "execute_result"
    }
   ],
   "source": [
    "lending_co_data_numeric_2 = np.reshape(lending_co_data_numeric, (6,1043))\n",
    "lending_co_data_numeric_2\n",
    "# rershap chytha array veendum use cheyyan have to store it"
   ]
  },
  {
   "cell_type": "code",
   "execution_count": 157,
   "metadata": {},
   "outputs": [
    {
     "data": {
      "text/plain": [
       "array([[ 2000.,    40.,   365., ...,   365.,  1581.,  3041.],\n",
       "       [12277.,  2000.,    40., ...,    50.,   365.,  5350.],\n",
       "       [ 6850., 15150.,  1000., ...,  2000.,    40.,   365.],\n",
       "       [ 3101.,  4351., 16600., ..., 16600.,  2000.,    40.],\n",
       "       [  365.,  3441.,  4661., ...,  8450., 22250.,  2000.],\n",
       "       [   40.,   365.,  3701., ...,  4601.,  4601., 16600.]])"
      ]
     },
     "execution_count": 157,
     "metadata": {},
     "output_type": "execute_result"
    }
   ],
   "source": [
    "lending_co_data_numeric.reshape(6,1043)\n",
    "\n",
    "# Equivalent method. "
   ]
  },
  {
   "cell_type": "code",
   "execution_count": 158,
   "metadata": {},
   "outputs": [
    {
     "data": {
      "text/plain": [
       "array([[ 2000.,    40.,   365.,  3121.,  4241., 13621.],\n",
       "       [ 2000.,    40.,   365.,  3061.,  4171., 15041.],\n",
       "       [ 1000.,    40.,   365.,  2160.,  3280., 15340.],\n",
       "       ...,\n",
       "       [ 2000.,    40.,   365.,  4201.,  5001., 16600.],\n",
       "       [ 1000.,    40.,   365.,  2080.,  3320., 15600.],\n",
       "       [ 2000.,    40.,   365.,  4601.,  4601., 16600.]])"
      ]
     },
     "execution_count": 158,
     "metadata": {},
     "output_type": "execute_result"
    }
   ],
   "source": [
    "lending_co_data_numeric"
   ]
  },
  {
   "cell_type": "markdown",
   "metadata": {},
   "source": [
    "# Removing Values"
   ]
  },
  {
   "cell_type": "code",
   "execution_count": 159,
   "metadata": {},
   "outputs": [],
   "source": [
    "lending_co_data_numeric = np.loadtxt(\"Lending-company-Numeric.csv\", delimiter = ',') "
   ]
  },
  {
   "cell_type": "code",
   "execution_count": 160,
   "metadata": {},
   "outputs": [
    {
     "data": {
      "text/plain": [
       "array([[ 2000.,    40.,   365.,  3121.,  4241., 13621.],\n",
       "       [ 2000.,    40.,   365.,  3061.,  4171., 15041.],\n",
       "       [ 1000.,    40.,   365.,  2160.,  3280., 15340.],\n",
       "       ...,\n",
       "       [ 2000.,    40.,   365.,  4201.,  5001., 16600.],\n",
       "       [ 1000.,    40.,   365.,  2080.,  3320., 15600.],\n",
       "       [ 2000.,    40.,   365.,  4601.,  4601., 16600.]])"
      ]
     },
     "execution_count": 160,
     "metadata": {},
     "output_type": "execute_result"
    }
   ],
   "source": [
    "lending_co_data_numeric"
   ]
  },
  {
   "cell_type": "code",
   "execution_count": 161,
   "metadata": {},
   "outputs": [
    {
     "data": {
      "text/plain": [
       "(6257,)"
      ]
     },
     "execution_count": 161,
     "metadata": {},
     "output_type": "execute_result"
    }
   ],
   "source": [
    "np.delete(lending_co_data_numeric, 0).shape\n",
    "\n",
    "# Removes the first value of the flattened array. get 1-d array"
   ]
  },
  {
   "cell_type": "code",
   "execution_count": 162,
   "metadata": {},
   "outputs": [
    {
     "data": {
      "text/plain": [
       "6258"
      ]
     },
     "execution_count": 162,
     "metadata": {},
     "output_type": "execute_result"
    }
   ],
   "source": [
    "lending_co_data_numeric.size\n",
    "#og array"
   ]
  },
  {
   "cell_type": "code",
   "execution_count": 163,
   "metadata": {},
   "outputs": [
    {
     "data": {
      "text/plain": [
       "array([[ 2000.,    40.,   365.,  3121.,  4241., 13621.],\n",
       "       [ 2000.,    40.,   365.,  3061.,  4171., 15041.],\n",
       "       [ 1000.,    40.,   365.,  2160.,  3280., 15340.],\n",
       "       ...,\n",
       "       [ 2000.,    40.,   365.,  4201.,  5001., 16600.],\n",
       "       [ 1000.,    40.,   365.,  2080.,  3320., 15600.],\n",
       "       [ 2000.,    40.,   365.,  4601.,  4601., 16600.]])"
      ]
     },
     "execution_count": 163,
     "metadata": {},
     "output_type": "execute_result"
    }
   ],
   "source": [
    "lending_co_data_numeric\n",
    "# dont affect og dataset\n",
    "#veendum use chyanamemkil delete chytha data set store cheyyanm"
   ]
  },
  {
   "cell_type": "code",
   "execution_count": 164,
   "metadata": {},
   "outputs": [
    {
     "data": {
      "text/plain": [
       "array([[   40.,  3121., 13621.],\n",
       "       [   40.,  3061., 15041.],\n",
       "       [   40.,  2160., 15340.],\n",
       "       ...,\n",
       "       [   40.,  4201., 16600.],\n",
       "       [   40.,  2080., 15600.],\n",
       "       [   40.,  4601., 16600.]])"
      ]
     },
     "execution_count": 164,
     "metadata": {},
     "output_type": "execute_result"
    }
   ],
   "source": [
    "np.delete(lending_co_data_numeric, [0,2,4] , axis = 1)\n",
    "\n",
    "# By setting an axis, we can simultaneously delete entire rows or columns. "
   ]
  },
  {
   "cell_type": "code",
   "execution_count": 165,
   "metadata": {},
   "outputs": [
    {
     "data": {
      "text/plain": [
       "array([[   40.,  3061., 15041.],\n",
       "       [   40.,  3041., 15321.],\n",
       "       [   50.,  3470., 13720.],\n",
       "       ...,\n",
       "       [   40.,  4240., 16600.],\n",
       "       [   40.,  4201., 16600.],\n",
       "       [   40.,  2080., 15600.]])"
      ]
     },
     "execution_count": 165,
     "metadata": {},
     "output_type": "execute_result"
    }
   ],
   "source": [
    "np.delete(np.delete(lending_co_data_numeric, [0,2,4] , axis = 1), [0,2,-1] , axis = 0)\n",
    "\n",
    "# We can simultaneously delete rows AND columns."
   ]
  },
  {
   "cell_type": "code",
   "execution_count": 166,
   "metadata": {},
   "outputs": [
    {
     "data": {
      "text/plain": [
       "array([[ 2000.,    40.,   365.,  3061.,  4171., 15041.],\n",
       "       [ 1000.,    40.,   365.,  2160.,  3280., 15340.],\n",
       "       [ 2000.,    40.,   365.,  3041.,  4241., 15321.],\n",
       "       ...,\n",
       "       [ 2000.,    40.,   365.,  4201.,  5001., 16600.],\n",
       "       [ 1000.,    40.,   365.,  2080.,  3320., 15600.],\n",
       "       [ 2000.,    40.,   365.,  4601.,  4601., 16600.]])"
      ]
     },
     "execution_count": 166,
     "metadata": {},
     "output_type": "execute_result"
    }
   ],
   "source": [
    "np.delete(lending_co_data_numeric, 0 , axis = 0)"
   ]
  },
  {
   "cell_type": "markdown",
   "metadata": {},
   "source": [
    "# Sorting Data"
   ]
  },
  {
   "cell_type": "code",
   "execution_count": 167,
   "metadata": {},
   "outputs": [
    {
     "data": {
      "text/plain": [
       "array([[ 2000.,    40.,   365.,  3121.,  4241., 13621.],\n",
       "       [ 2000.,    40.,   365.,  3061.,  4171., 15041.],\n",
       "       [ 1000.,    40.,   365.,  2160.,  3280., 15340.],\n",
       "       ...,\n",
       "       [ 2000.,    40.,   365.,  4201.,  5001., 16600.],\n",
       "       [ 1000.,    40.,   365.,  2080.,  3320., 15600.],\n",
       "       [ 2000.,    40.,   365.,  4601.,  4601., 16600.]])"
      ]
     },
     "execution_count": 167,
     "metadata": {},
     "output_type": "execute_result"
    }
   ],
   "source": [
    "lending_co_data_numeric = np.loadtxt(\"Lending-company-Numeric.csv\", delimiter = ',') \n",
    "lending_co_data_numeric"
   ]
  },
  {
   "cell_type": "code",
   "execution_count": 168,
   "metadata": {},
   "outputs": [
    {
     "data": {
      "text/plain": [
       "array([[   40.,   365.,  2000.,  3121.,  4241., 13621.],\n",
       "       [   40.,   365.,  2000.,  3061.,  4171., 15041.],\n",
       "       [   40.,   365.,  1000.,  2160.,  3280., 15340.],\n",
       "       ...,\n",
       "       [   40.,   365.,  2000.,  4201.,  5001., 16600.],\n",
       "       [   40.,   365.,  1000.,  2080.,  3320., 15600.],\n",
       "       [   40.,   365.,  2000.,  4601.,  4601., 16600.]])"
      ]
     },
     "execution_count": 168,
     "metadata": {},
     "output_type": "execute_result"
    }
   ],
   "source": [
    "np.sort(lending_co_data_numeric)\n",
    "# axis=1 default aaan\n",
    "# re arranging diffrent colmn in every row"
   ]
  },
  {
   "cell_type": "code",
   "execution_count": 169,
   "metadata": {},
   "outputs": [
    {
     "data": {
      "text/plain": [
       "(1043, 6)"
      ]
     },
     "execution_count": 169,
     "metadata": {},
     "output_type": "execute_result"
    }
   ],
   "source": [
    "np.sort(lending_co_data_numeric).shape"
   ]
  },
  {
   "cell_type": "code",
   "execution_count": 170,
   "metadata": {},
   "outputs": [
    {
     "data": {
      "text/plain": [
       "(1043, 6)"
      ]
     },
     "execution_count": 170,
     "metadata": {},
     "output_type": "execute_result"
    }
   ],
   "source": [
    "lending_co_data_numeric.shape\n",
    "#og"
   ]
  },
  {
   "cell_type": "code",
   "execution_count": 171,
   "metadata": {},
   "outputs": [
    {
     "data": {
      "text/plain": [
       "array([-2870., -2870., -2550., ..., 54625., 54625., 64001.])"
      ]
     },
     "execution_count": 171,
     "metadata": {},
     "output_type": "execute_result"
    }
   ],
   "source": [
    "np.sort(lending_co_data_numeric, axis = None)"
   ]
  },
  {
   "cell_type": "code",
   "execution_count": 172,
   "metadata": {},
   "outputs": [],
   "source": [
    "np.set_printoptions(suppress = True)\n",
    "\n",
    "# Supresses scientific notatoin when printing. avoid e^"
   ]
  },
  {
   "cell_type": "code",
   "execution_count": 173,
   "metadata": {},
   "outputs": [
    {
     "data": {
      "text/plain": [
       "array([[   40.,   365.,  2000.,  3121.,  4241., 13621.],\n",
       "       [   40.,   365.,  2000.,  3061.,  4171., 15041.],\n",
       "       [   40.,   365.,  1000.,  2160.,  3280., 15340.],\n",
       "       ...,\n",
       "       [   40.,   365.,  2000.,  4201.,  5001., 16600.],\n",
       "       [   40.,   365.,  1000.,  2080.,  3320., 15600.],\n",
       "       [   40.,   365.,  2000.,  4601.,  4601., 16600.]])"
      ]
     },
     "execution_count": 173,
     "metadata": {},
     "output_type": "execute_result"
    }
   ],
   "source": [
    "np.sort(lending_co_data_numeric)"
   ]
  },
  {
   "cell_type": "markdown",
   "metadata": {},
   "source": [
    "# descending"
   ]
  },
  {
   "cell_type": "code",
   "execution_count": 174,
   "metadata": {},
   "outputs": [
    {
     "data": {
      "text/plain": [
       "array([[-13621.,  -4241.,  -3121.,  -2000.,   -365.,    -40.],\n",
       "       [-15041.,  -4171.,  -3061.,  -2000.,   -365.,    -40.],\n",
       "       [-15340.,  -3280.,  -2160.,  -1000.,   -365.,    -40.],\n",
       "       ...,\n",
       "       [-16600.,  -5001.,  -4201.,  -2000.,   -365.,    -40.],\n",
       "       [-15600.,  -3320.,  -2080.,  -1000.,   -365.,    -40.],\n",
       "       [-16600.,  -4601.,  -4601.,  -2000.,   -365.,    -40.]])"
      ]
     },
     "execution_count": 174,
     "metadata": {},
     "output_type": "execute_result"
    }
   ],
   "source": [
    "np.sort(-lending_co_data_numeric)\n",
    "\n",
    "## Adding two minus signs sorts the array in descending order"
   ]
  },
  {
   "cell_type": "code",
   "execution_count": 175,
   "metadata": {},
   "outputs": [
    {
     "data": {
      "text/plain": [
       "array([[13621.,  4241.,  3121.,  2000.,   365.,    40.],\n",
       "       [15041.,  4171.,  3061.,  2000.,   365.,    40.],\n",
       "       [15340.,  3280.,  2160.,  1000.,   365.,    40.],\n",
       "       ...,\n",
       "       [16600.,  5001.,  4201.,  2000.,   365.,    40.],\n",
       "       [15600.,  3320.,  2080.,  1000.,   365.,    40.],\n",
       "       [16600.,  4601.,  4601.,  2000.,   365.,    40.]])"
      ]
     },
     "execution_count": 175,
     "metadata": {},
     "output_type": "execute_result"
    }
   ],
   "source": [
    "-np.sort(-lending_co_data_numeric)\n",
    "\n",
    "## Adding two minus signs sorts the array in descending order"
   ]
  },
  {
   "cell_type": "code",
   "execution_count": 176,
   "metadata": {},
   "outputs": [
    {
     "data": {
      "text/plain": [
       "array([[ 2000.,    40.,   365.,  3121.,  4241., 13621.],\n",
       "       [ 2000.,    40.,   365.,  3061.,  4171., 15041.],\n",
       "       [ 1000.,    40.,   365.,  2160.,  3280., 15340.],\n",
       "       ...,\n",
       "       [ 2000.,    40.,   365.,  4201.,  5001., 16600.],\n",
       "       [ 1000.,    40.,   365.,  2080.,  3320., 15600.],\n",
       "       [ 2000.,    40.,   365.,  4601.,  4601., 16600.]])"
      ]
     },
     "execution_count": 176,
     "metadata": {},
     "output_type": "execute_result"
    }
   ],
   "source": [
    "lending_co_data_numeric\n",
    "# dont affect og"
   ]
  },
  {
   "cell_type": "code",
   "execution_count": 177,
   "metadata": {},
   "outputs": [
    {
     "data": {
      "text/plain": [
       "array([[ 1000.,    35.,   365., -2870., -2870.,  -350.],\n",
       "       [ 1000.,    35.,   365., -2550., -2100.,   150.],\n",
       "       [ 1000.,    35.,   365., -2450., -2000.,  1100.],\n",
       "       ...,\n",
       "       [ 9000.,   125.,   365., 16751., 18751., 54625.],\n",
       "       [ 9000.,   165.,   365., 17650., 20001., 54625.],\n",
       "       [ 9000.,   165.,   365., 19001., 22001., 64001.]])"
      ]
     },
     "execution_count": 177,
     "metadata": {},
     "output_type": "execute_result"
    }
   ],
   "source": [
    "lending_co_data_numeric.sort(axis = 0)\n",
    "lending_co_data_numeric\n",
    "\n",
    "# The equivalent method stores the values in place."
   ]
  },
  {
   "cell_type": "code",
   "execution_count": 178,
   "metadata": {},
   "outputs": [
    {
     "data": {
      "text/plain": [
       "array([-2870., -2550., -2450., ..., 16751., 17650., 19001.])"
      ]
     },
     "execution_count": 178,
     "metadata": {},
     "output_type": "execute_result"
    }
   ],
   "source": [
    "np.sort(lending_co_data_numeric[:,3])\n",
    "# sort individual colmn"
   ]
  },
  {
   "cell_type": "markdown",
   "metadata": {},
   "source": [
    "# Argument Functions"
   ]
  },
  {
   "cell_type": "markdown",
   "metadata": {},
   "source": [
    "# np.argsort()"
   ]
  },
  {
   "cell_type": "code",
   "execution_count": 179,
   "metadata": {},
   "outputs": [
    {
     "data": {
      "text/plain": [
       "array([[ 2000.,    40.,   365.,  3121.,  4241., 13621.],\n",
       "       [ 2000.,    40.,   365.,  3061.,  4171., 15041.],\n",
       "       [ 1000.,    40.,   365.,  2160.,  3280., 15340.],\n",
       "       ...,\n",
       "       [ 2000.,    40.,   365.,  4201.,  5001., 16600.],\n",
       "       [ 1000.,    40.,   365.,  2080.,  3320., 15600.],\n",
       "       [ 2000.,    40.,   365.,  4601.,  4601., 16600.]])"
      ]
     },
     "execution_count": 179,
     "metadata": {},
     "output_type": "execute_result"
    }
   ],
   "source": [
    "lending_co_data_numeric = np.loadtxt(\"Lending-company-Numeric.csv\", delimiter = ',') \n",
    "lending_co_data_numeric"
   ]
  },
  {
   "cell_type": "code",
   "execution_count": 180,
   "metadata": {},
   "outputs": [
    {
     "data": {
      "text/plain": [
       "array([[1, 2, 0, 3, 4, 5],\n",
       "       [1, 2, 0, 3, 4, 5],\n",
       "       [1, 2, 0, 3, 4, 5],\n",
       "       ...,\n",
       "       [1, 2, 0, 3, 4, 5],\n",
       "       [1, 2, 0, 3, 4, 5],\n",
       "       [1, 2, 0, 3, 4, 5]], dtype=int64)"
      ]
     },
     "execution_count": 180,
     "metadata": {},
     "output_type": "execute_result"
    }
   ],
   "source": [
    "np.argsort(lending_co_data_numeric)\n",
    "\n",
    "# Returns the order which will sort the array. \n",
    "#get the index value"
   ]
  },
  {
   "cell_type": "code",
   "execution_count": 181,
   "metadata": {},
   "outputs": [
    {
     "data": {
      "text/plain": [
       "array([[ 1000.,    35.,   365., -2870., -2870.,  -350.],\n",
       "       [ 1000.,    35.,   365., -2550., -2100.,   150.],\n",
       "       [ 1000.,    35.,   365., -2450., -2000.,  1100.],\n",
       "       ...,\n",
       "       [ 9000.,   125.,   365., 16751., 18751., 54625.],\n",
       "       [ 9000.,   165.,   365., 17650., 20001., 54625.],\n",
       "       [ 9000.,   165.,   365., 19001., 22001., 64001.]])"
      ]
     },
     "execution_count": 181,
     "metadata": {},
     "output_type": "execute_result"
    }
   ],
   "source": [
    "np.sort(lending_co_data_numeric, axis = 0)"
   ]
  },
  {
   "cell_type": "code",
   "execution_count": 182,
   "metadata": {},
   "outputs": [
    {
     "data": {
      "text/plain": [
       "array([[ 537,  443,    0,   32,   32,  482],\n",
       "       [ 639,  327,  687,  166,  166,  493],\n",
       "       [ 849,  432,  688,   85,   85,  166],\n",
       "       ...,\n",
       "       [  27,  326,  355,  568, 1019,  568],\n",
       "       [ 277,   27,  357,  718, 1033,  534],\n",
       "       [ 420,  408, 1042,  912,  912,   27]], dtype=int64)"
      ]
     },
     "execution_count": 182,
     "metadata": {},
     "output_type": "execute_result"
    }
   ],
   "source": [
    "np.argsort(lending_co_data_numeric, axis = 0)\n",
    "#index"
   ]
  },
  {
   "cell_type": "code",
   "execution_count": 183,
   "metadata": {},
   "outputs": [
    {
     "data": {
      "text/plain": [
       "-350.0"
      ]
     },
     "execution_count": 183,
     "metadata": {},
     "output_type": "execute_result"
    }
   ],
   "source": [
    "lending_co_data_numeric[482,5]\n",
    "# to get the element"
   ]
  },
  {
   "cell_type": "code",
   "execution_count": 184,
   "metadata": {},
   "outputs": [
    {
     "data": {
      "text/plain": [
       "array([[ 1000.,    40.,   365.,  2200.,  3400., 15600.],\n",
       "       [ 1000.,    40.,   365.,  2200.,  3800., 15600.],\n",
       "       [ 1000.,    40.,   365.,  2000.,  3950., 15600.],\n",
       "       ...,\n",
       "       [ 9000.,   165.,   365., 14501., 16846., 64001.],\n",
       "       [ 9000.,   125.,   365., 12001., 15751., 38626.],\n",
       "       [ 9000.,   125.,   365., 12251., 14251., 25626.]])"
      ]
     },
     "execution_count": 184,
     "metadata": {},
     "output_type": "execute_result"
    }
   ],
   "source": [
    "lending_co_data_numeric = lending_co_data_numeric[np.argsort(lending_co_data_numeric[:,0])]\n",
    "lending_co_data_numeric\n",
    "\n",
    "# Sorts the array based on the values in the 1st column.\n",
    "# usful when each row of data set contain information about specific client or data"
   ]
  },
  {
   "cell_type": "code",
   "execution_count": 185,
   "metadata": {},
   "outputs": [
    {
     "data": {
      "text/plain": [
       "array([[   0,   22,    0,  199,  199,  172],\n",
       "       [ 155,   62,  687,   53,   53,  160],\n",
       "       [ 156,   38,  688,  169,  169,   53],\n",
       "       ...,\n",
       "       [1022, 1042,  355, 1024, 1037, 1023],\n",
       "       [1031, 1039,  357,  941, 1029, 1024],\n",
       "       [1042, 1040, 1042, 1027, 1027, 1040]], dtype=int64)"
      ]
     },
     "execution_count": 185,
     "metadata": {},
     "output_type": "execute_result"
    }
   ],
   "source": [
    "lending_co_data_numeric.argsort(axis = 0)\n",
    "\n",
    "# The method doesn't sort in place. \n",
    "# only work on index, return new set\n",
    "#np.argsort()=ndarray.argsort()\n",
    "#np.sort() not equel ndarray.sort()"
   ]
  },
  {
   "cell_type": "code",
   "execution_count": 186,
   "metadata": {},
   "outputs": [
    {
     "data": {
      "text/plain": [
       "array([[ 1000.,    40.,   365.,  2200.,  3400., 15600.],\n",
       "       [ 1000.,    40.,   365.,  2200.,  3800., 15600.],\n",
       "       [ 1000.,    40.,   365.,  2000.,  3950., 15600.],\n",
       "       ...,\n",
       "       [ 9000.,   165.,   365., 14501., 16846., 64001.],\n",
       "       [ 9000.,   125.,   365., 12001., 15751., 38626.],\n",
       "       [ 9000.,   125.,   365., 12251., 14251., 25626.]])"
      ]
     },
     "execution_count": 186,
     "metadata": {},
     "output_type": "execute_result"
    }
   ],
   "source": [
    "lending_co_data_numeric"
   ]
  },
  {
   "cell_type": "markdown",
   "metadata": {},
   "source": [
    "# np.argwhere()"
   ]
  },
  {
   "cell_type": "code",
   "execution_count": 187,
   "metadata": {},
   "outputs": [
    {
     "data": {
      "text/plain": [
       "array([[ 2000.,    40.,   365.,  3121.,  4241., 13621.],\n",
       "       [ 2000.,    40.,   365.,  3061.,  4171., 15041.],\n",
       "       [ 1000.,    40.,   365.,  2160.,  3280., 15340.],\n",
       "       ...,\n",
       "       [ 2000.,    40.,   365.,  4201.,  5001., 16600.],\n",
       "       [ 1000.,    40.,   365.,  2080.,  3320., 15600.],\n",
       "       [ 2000.,    40.,   365.,  4601.,  4601., 16600.]])"
      ]
     },
     "execution_count": 187,
     "metadata": {},
     "output_type": "execute_result"
    }
   ],
   "source": [
    "lending_co_data_numeric = np.loadtxt(\"Lending-company-Numeric.csv\", delimiter = ',') \n",
    "lending_co_data_numeric"
   ]
  },
  {
   "cell_type": "code",
   "execution_count": 188,
   "metadata": {},
   "outputs": [
    {
     "data": {
      "text/plain": [
       "array([[116,   4],\n",
       "       [430,   3]], dtype=int64)"
      ]
     },
     "execution_count": 188,
     "metadata": {},
     "output_type": "execute_result"
    }
   ],
   "source": [
    "np.argwhere(lending_co_data_numeric == False)\n",
    "\n",
    "# Default condition is to return values different from 0.\n",
    "# argument=cordinate in space, indices in n-d aray\\\n",
    "# function that return coordinates within array called argument function\n",
    "#goes throught entire nd array check wether the individual element satsfy the given condition\n",
    "#op are the indices for all individiual element where the condition met"
   ]
  },
  {
   "cell_type": "code",
   "execution_count": 189,
   "metadata": {},
   "outputs": [
    {
     "data": {
      "text/plain": [
       "array([1000.,   50.,  365.,    0.,  550., 5650.])"
      ]
     },
     "execution_count": 189,
     "metadata": {},
     "output_type": "execute_result"
    }
   ],
   "source": [
    "lending_co_data_numeric[430]\n",
    "#get the elent"
   ]
  },
  {
   "cell_type": "code",
   "execution_count": 190,
   "metadata": {},
   "outputs": [
    {
     "data": {
      "text/plain": [
       "array([[ 2000.,    40.,   365.,  3121.,  4241., 13621.],\n",
       "       [ 2000.,    40.,   365.,  3061.,  4171., 15041.],\n",
       "       [ 1000.,    40.,   365.,  2160.,  3280., 15340.],\n",
       "       ...,\n",
       "       [ 2000.,    40.,   365.,  4201.,  5001., 16600.],\n",
       "       [ 1000.,    40.,   365.,  2080.,  3320., 15600.],\n",
       "       [ 2000.,    40.,   365.,  4601.,  4601., 16600.]])"
      ]
     },
     "execution_count": 190,
     "metadata": {},
     "output_type": "execute_result"
    }
   ],
   "source": [
    "lending_co_data_numeric\n",
    "# dont affect"
   ]
  },
  {
   "cell_type": "code",
   "execution_count": 191,
   "metadata": {},
   "outputs": [
    {
     "data": {
      "text/plain": [
       "array([[   0,    0],\n",
       "       [   0,    1],\n",
       "       [   1,    0],\n",
       "       ...,\n",
       "       [1042,    0],\n",
       "       [1042,    1],\n",
       "       [1042,    5]], dtype=int64)"
      ]
     },
     "execution_count": 191,
     "metadata": {},
     "output_type": "execute_result"
    }
   ],
   "source": [
    "np.argwhere(lending_co_data_numeric %2 == 0)\n",
    "\n",
    "# The condition can be more complex \n",
    "# its eqvalent to conditional slicing\n",
    "#slicing give actual value\n",
    "# arg where return cordinate within array\n",
    "# can combine with other function"
   ]
  },
  {
   "cell_type": "code",
   "execution_count": 192,
   "metadata": {},
   "outputs": [
    {
     "data": {
      "text/plain": [
       "0"
      ]
     },
     "execution_count": 192,
     "metadata": {},
     "output_type": "execute_result"
    }
   ],
   "source": [
    "np.isnan(lending_co_data_numeric).sum()"
   ]
  },
  {
   "cell_type": "markdown",
   "metadata": {},
   "source": [
    "# check missing value"
   ]
  },
  {
   "cell_type": "code",
   "execution_count": 193,
   "metadata": {},
   "outputs": [
    {
     "data": {
      "text/plain": [
       "array([[ 2000.,    40.,   365.,  3121.,  4241., 13621.],\n",
       "       [ 2000.,    40.,   365.,  3061.,  4171., 15041.],\n",
       "       [ 1000.,    40.,   365.,  2160.,  3280., 15340.],\n",
       "       ...,\n",
       "       [   nan,    40.,   365.,  4201.,  5001., 16600.],\n",
       "       [ 1000.,    40.,   365.,  2080.,  3320., 15600.],\n",
       "       [ 2000.,    40.,   365.,  4601.,  4601., 16600.]])"
      ]
     },
     "execution_count": 193,
     "metadata": {},
     "output_type": "execute_result"
    }
   ],
   "source": [
    "lending_co_data_numeric_NAN = np.genfromtxt(\"Lending-company-Numeric-NAN.csv\", delimiter = ';') \n",
    "lending_co_data_numeric_NAN"
   ]
  },
  {
   "cell_type": "code",
   "execution_count": 194,
   "metadata": {},
   "outputs": [
    {
     "data": {
      "text/plain": [
       "260"
      ]
     },
     "execution_count": 194,
     "metadata": {},
     "output_type": "execute_result"
    }
   ],
   "source": [
    "np.isnan(lending_co_data_numeric_NAN).sum()"
   ]
  },
  {
   "cell_type": "code",
   "execution_count": 195,
   "metadata": {},
   "outputs": [
    {
     "data": {
      "text/plain": [
       "array([[  11,    3],\n",
       "       [  15,    3],\n",
       "       [  27,    3],\n",
       "       [  58,    3],\n",
       "       [  60,    4],\n",
       "       [  85,    4],\n",
       "       [ 117,    5],\n",
       "       [ 152,    1],\n",
       "       [ 152,    2],\n",
       "       [ 152,    4],\n",
       "       [ 172,    1],\n",
       "       [ 175,    1],\n",
       "       [ 175,    2],\n",
       "       [ 176,    3],\n",
       "       [ 177,    4],\n",
       "       [ 178,    5],\n",
       "       [ 211,    3],\n",
       "       [ 229,    0],\n",
       "       [ 230,    1],\n",
       "       [ 237,    1],\n",
       "       [ 247,    3],\n",
       "       [ 251,    5],\n",
       "       [ 252,    4],\n",
       "       [ 258,    1],\n",
       "       [ 260,    3],\n",
       "       [ 262,    4],\n",
       "       [ 271,    5],\n",
       "       [ 272,    4],\n",
       "       [ 284,    2],\n",
       "       [ 284,    3],\n",
       "       [ 297,    1],\n",
       "       [ 297,    2],\n",
       "       [ 300,    3],\n",
       "       [ 315,    3],\n",
       "       [ 315,    5],\n",
       "       [ 327,    4],\n",
       "       [ 336,    4],\n",
       "       [ 343,    0],\n",
       "       [ 344,    2],\n",
       "       [ 346,    2],\n",
       "       [ 363,    3],\n",
       "       [ 375,    3],\n",
       "       [ 377,    2],\n",
       "       [ 398,    5],\n",
       "       [ 416,    4],\n",
       "       [ 428,    0],\n",
       "       [ 432,    1],\n",
       "       [ 433,    3],\n",
       "       [ 434,    2],\n",
       "       [ 440,    3],\n",
       "       [ 441,    1],\n",
       "       [ 446,    2],\n",
       "       [ 455,    1],\n",
       "       [ 456,    2],\n",
       "       [ 458,    2],\n",
       "       [ 461,    3],\n",
       "       [ 467,    4],\n",
       "       [ 468,    0],\n",
       "       [ 469,    3],\n",
       "       [ 470,    0],\n",
       "       [ 481,    1],\n",
       "       [ 482,    3],\n",
       "       [ 484,    4],\n",
       "       [ 489,    0],\n",
       "       [ 493,    5],\n",
       "       [ 499,    0],\n",
       "       [ 504,    3],\n",
       "       [ 506,    1],\n",
       "       [ 517,    4],\n",
       "       [ 518,    0],\n",
       "       [ 521,    2],\n",
       "       [ 530,    5],\n",
       "       [ 532,    3],\n",
       "       [ 534,    5],\n",
       "       [ 547,    3],\n",
       "       [ 549,    5],\n",
       "       [ 553,    5],\n",
       "       [ 554,    5],\n",
       "       [ 559,    3],\n",
       "       [ 566,    0],\n",
       "       [ 566,    1],\n",
       "       [ 566,    2],\n",
       "       [ 567,    0],\n",
       "       [ 567,    1],\n",
       "       [ 567,    2],\n",
       "       [ 581,    1],\n",
       "       [ 581,    2],\n",
       "       [ 582,    1],\n",
       "       [ 582,    2],\n",
       "       [ 583,    1],\n",
       "       [ 583,    2],\n",
       "       [ 593,    3],\n",
       "       [ 594,    3],\n",
       "       [ 595,    3],\n",
       "       [ 596,    3],\n",
       "       [ 609,    4],\n",
       "       [ 609,    5],\n",
       "       [ 610,    4],\n",
       "       [ 610,    5],\n",
       "       [ 611,    4],\n",
       "       [ 611,    5],\n",
       "       [ 612,    4],\n",
       "       [ 612,    5],\n",
       "       [ 623,    2],\n",
       "       [ 623,    3],\n",
       "       [ 624,    2],\n",
       "       [ 624,    3],\n",
       "       [ 625,    2],\n",
       "       [ 625,    3],\n",
       "       [ 626,    2],\n",
       "       [ 626,    3],\n",
       "       [ 627,    2],\n",
       "       [ 627,    3],\n",
       "       [ 636,    0],\n",
       "       [ 637,    0],\n",
       "       [ 637,    4],\n",
       "       [ 637,    5],\n",
       "       [ 638,    0],\n",
       "       [ 638,    4],\n",
       "       [ 638,    5],\n",
       "       [ 639,    4],\n",
       "       [ 639,    5],\n",
       "       [ 640,    4],\n",
       "       [ 640,    5],\n",
       "       [ 641,    4],\n",
       "       [ 641,    5],\n",
       "       [ 653,    1],\n",
       "       [ 653,    2],\n",
       "       [ 653,    3],\n",
       "       [ 653,    4],\n",
       "       [ 654,    1],\n",
       "       [ 654,    2],\n",
       "       [ 654,    3],\n",
       "       [ 654,    4],\n",
       "       [ 655,    1],\n",
       "       [ 655,    2],\n",
       "       [ 655,    3],\n",
       "       [ 655,    4],\n",
       "       [ 685,    2],\n",
       "       [ 686,    0],\n",
       "       [ 701,    4],\n",
       "       [ 704,    2],\n",
       "       [ 724,    1],\n",
       "       [ 724,    2],\n",
       "       [ 730,    1],\n",
       "       [ 730,    2],\n",
       "       [ 730,    3],\n",
       "       [ 731,    1],\n",
       "       [ 731,    2],\n",
       "       [ 731,    3],\n",
       "       [ 732,    1],\n",
       "       [ 732,    2],\n",
       "       [ 732,    3],\n",
       "       [ 733,    1],\n",
       "       [ 733,    2],\n",
       "       [ 733,    3],\n",
       "       [ 742,    4],\n",
       "       [ 747,    3],\n",
       "       [ 755,    1],\n",
       "       [ 758,    1],\n",
       "       [ 760,    1],\n",
       "       [ 764,    0],\n",
       "       [ 764,    1],\n",
       "       [ 764,    2],\n",
       "       [ 764,    3],\n",
       "       [ 764,    4],\n",
       "       [ 764,    5],\n",
       "       [ 765,    3],\n",
       "       [ 775,    1],\n",
       "       [ 775,    2],\n",
       "       [ 775,    3],\n",
       "       [ 776,    1],\n",
       "       [ 776,    2],\n",
       "       [ 776,    3],\n",
       "       [ 777,    1],\n",
       "       [ 777,    2],\n",
       "       [ 777,    3],\n",
       "       [ 778,    1],\n",
       "       [ 778,    2],\n",
       "       [ 778,    3],\n",
       "       [ 787,    4],\n",
       "       [ 788,    1],\n",
       "       [ 790,    2],\n",
       "       [ 794,    3],\n",
       "       [ 795,    5],\n",
       "       [ 796,    1],\n",
       "       [ 796,    4],\n",
       "       [ 800,    0],\n",
       "       [ 801,    1],\n",
       "       [ 802,    1],\n",
       "       [ 803,    2],\n",
       "       [ 805,    0],\n",
       "       [ 809,    0],\n",
       "       [ 810,    0],\n",
       "       [ 811,    0],\n",
       "       [ 812,    1],\n",
       "       [ 820,    0],\n",
       "       [ 820,    3],\n",
       "       [ 820,    4],\n",
       "       [ 822,    2],\n",
       "       [ 823,    2],\n",
       "       [ 825,    0],\n",
       "       [ 830,    1],\n",
       "       [ 830,    2],\n",
       "       [ 836,    3],\n",
       "       [ 837,    3],\n",
       "       [ 838,    3],\n",
       "       [ 839,    4],\n",
       "       [ 843,    2],\n",
       "       [ 856,    0],\n",
       "       [ 856,    1],\n",
       "       [ 856,    3],\n",
       "       [ 856,    4],\n",
       "       [ 856,    5],\n",
       "       [ 857,    0],\n",
       "       [ 858,    1],\n",
       "       [ 870,    0],\n",
       "       [ 870,    2],\n",
       "       [ 870,    3],\n",
       "       [ 872,    0],\n",
       "       [ 873,    0],\n",
       "       [ 874,    1],\n",
       "       [ 890,    1],\n",
       "       [ 890,    2],\n",
       "       [ 890,    3],\n",
       "       [ 909,    1],\n",
       "       [ 910,    0],\n",
       "       [ 912,    0],\n",
       "       [ 912,    2],\n",
       "       [ 912,    3],\n",
       "       [ 912,    4],\n",
       "       [ 928,    1],\n",
       "       [ 928,    2],\n",
       "       [ 928,    3],\n",
       "       [ 929,    1],\n",
       "       [ 929,    2],\n",
       "       [ 929,    3],\n",
       "       [ 930,    3],\n",
       "       [ 958,    2],\n",
       "       [ 959,    3],\n",
       "       [ 960,    3],\n",
       "       [1024,    0],\n",
       "       [1024,    2],\n",
       "       [1026,    2],\n",
       "       [1026,    4],\n",
       "       [1028,    0],\n",
       "       [1028,    3],\n",
       "       [1028,    4],\n",
       "       [1029,    0],\n",
       "       [1030,    1],\n",
       "       [1030,    5],\n",
       "       [1032,    0],\n",
       "       [1032,    5],\n",
       "       [1034,    3],\n",
       "       [1035,    4],\n",
       "       [1036,    2],\n",
       "       [1037,    1],\n",
       "       [1038,    4],\n",
       "       [1039,    3],\n",
       "       [1040,    0]], dtype=int64)"
      ]
     },
     "execution_count": 195,
     "metadata": {},
     "output_type": "execute_result"
    }
   ],
   "source": [
    "np.argwhere(np.isnan(lending_co_data_numeric_NAN))\n",
    "\n",
    "# Returns the coordinates of all the missing values within the array. \n",
    "# f=o the cordinate for all the missing element of the array\n",
    "#get 2d array with all the cordinate of missing value"
   ]
  },
  {
   "cell_type": "code",
   "execution_count": 196,
   "metadata": {},
   "outputs": [
    {
     "data": {
      "text/plain": [
       "array([ 2000.,    nan,    nan,  1851.,  3051., 13561.])"
      ]
     },
     "execution_count": 196,
     "metadata": {},
     "output_type": "execute_result"
    }
   ],
   "source": [
    "lending_co_data_numeric_NAN[175]\n",
    "#return row"
   ]
  },
  {
   "cell_type": "code",
   "execution_count": 197,
   "metadata": {},
   "outputs": [],
   "source": [
    "for array_index in np.argwhere(np.isnan(lending_co_data_numeric_NAN)):\n",
    "    lending_co_data_numeric_NAN[array_index[0], array_index[1]] = 0\n",
    "\n",
    "## By going through the coordinates of all the mising values of the array, we can fill them up. \n",
    "# the indices for individual element that satisfy the condition have setup\n",
    "# throught out iteration array index contain cordinate for single point"
   ]
  },
  {
   "cell_type": "code",
   "execution_count": 198,
   "metadata": {},
   "outputs": [
    {
     "data": {
      "text/plain": [
       "array([ 2000.,     0.,     0.,  1851.,  3051., 13561.])"
      ]
     },
     "execution_count": 198,
     "metadata": {},
     "output_type": "execute_result"
    }
   ],
   "source": [
    "lending_co_data_numeric_NAN[175]"
   ]
  },
  {
   "cell_type": "code",
   "execution_count": 199,
   "metadata": {},
   "outputs": [
    {
     "data": {
      "text/plain": [
       "0"
      ]
     },
     "execution_count": 199,
     "metadata": {},
     "output_type": "execute_result"
    }
   ],
   "source": [
    "np.isnan(lending_co_data_numeric_NAN).sum()"
   ]
  },
  {
   "cell_type": "markdown",
   "metadata": {},
   "source": [
    "# Shuffling Data"
   ]
  },
  {
   "cell_type": "code",
   "execution_count": 200,
   "metadata": {},
   "outputs": [
    {
     "data": {
      "text/plain": [
       "array([[ 2000.,    40.,   365.,  3121.,  4241., 13621.],\n",
       "       [ 2000.,    40.,   365.,  3061.,  4171., 15041.],\n",
       "       [ 1000.,    40.,   365.,  2160.,  3280., 15340.],\n",
       "       [ 2000.,    40.,   365.,  3041.,  4241., 15321.],\n",
       "       [ 2000.,    50.,   365.,  3470.,  4820., 13720.],\n",
       "       [ 2000.,    40.,   365.,  3201.,  4141., 14141.],\n",
       "       [ 2000.,    50.,   365.,  1851.,  3251., 17701.],\n",
       "       [ 2000.,    40.,   365.,  3971.,  4131., 15351.]])"
      ]
     },
     "execution_count": 200,
     "metadata": {},
     "output_type": "execute_result"
    }
   ],
   "source": [
    "lending_co_data_numeric = np.loadtxt(\"Lending-company-Numeric.csv\", delimiter = ',')[:8]\n",
    "lending_co_data_numeric\n",
    "\n",
    "# We can directly index the output of the np.loadtxt() function to only take certain parts of the dataset. "
   ]
  },
  {
   "cell_type": "code",
   "execution_count": 201,
   "metadata": {},
   "outputs": [],
   "source": [
    "np.random.shuffle(lending_co_data_numeric)\n",
    "\n",
    "# Shuffles the array (and automatically overwrites it).\n",
    "#re arranging the part of data set,without a fixed pattern\n",
    "# random sample representive of entire data set\n",
    "#nly save shuffled array\n",
    "#with each additional shufffle ,the input data set is the shuffled data set from previous time shufled"
   ]
  },
  {
   "cell_type": "code",
   "execution_count": 202,
   "metadata": {},
   "outputs": [
    {
     "data": {
      "text/plain": [
       "array([[ 2000.,    40.,   365.,  3041.,  4241., 15321.],\n",
       "       [ 2000.,    50.,   365.,  1851.,  3251., 17701.],\n",
       "       [ 2000.,    40.,   365.,  3121.,  4241., 13621.],\n",
       "       [ 2000.,    40.,   365.,  3061.,  4171., 15041.],\n",
       "       [ 1000.,    40.,   365.,  2160.,  3280., 15340.],\n",
       "       [ 2000.,    50.,   365.,  3470.,  4820., 13720.],\n",
       "       [ 2000.,    40.,   365.,  3201.,  4141., 14141.],\n",
       "       [ 2000.,    40.,   365.,  3971.,  4131., 15351.]])"
      ]
     },
     "execution_count": 202,
     "metadata": {},
     "output_type": "execute_result"
    }
   ],
   "source": [
    "lending_co_data_numeric"
   ]
  },
  {
   "cell_type": "code",
   "execution_count": 203,
   "metadata": {},
   "outputs": [
    {
     "data": {
      "text/plain": [
       "array([[ 2000.,    40.,   365.,  3201.,  4141., 14141.],\n",
       "       [ 2000.,    40.,   365.,  3061.,  4171., 15041.],\n",
       "       [ 2000.,    40.,   365.,  3971.,  4131., 15351.],\n",
       "       [ 2000.,    50.,   365.,  3470.,  4820., 13720.],\n",
       "       [ 1000.,    40.,   365.,  2160.,  3280., 15340.],\n",
       "       [ 2000.,    40.,   365.,  3121.,  4241., 13621.],\n",
       "       [ 2000.,    40.,   365.,  3041.,  4241., 15321.],\n",
       "       [ 2000.,    50.,   365.,  1851.,  3251., 17701.]])"
      ]
     },
     "execution_count": 203,
     "metadata": {},
     "output_type": "execute_result"
    }
   ],
   "source": [
    "np.random.shuffle(lending_co_data_numeric)\n",
    "lending_co_data_numeric\n",
    "\n",
    "# We can shuffle the array as many times as we wish (although 1 usually suffices)."
   ]
  },
  {
   "cell_type": "code",
   "execution_count": 204,
   "metadata": {},
   "outputs": [
    {
     "data": {
      "text/plain": [
       "array([[ 2000.,    40.,   365.,  3121.,  4241., 13621.],\n",
       "       [ 2000.,    40.,   365.,  3061.,  4171., 15041.],\n",
       "       [ 1000.,    40.,   365.,  2160.,  3280., 15340.],\n",
       "       ...,\n",
       "       [ 2000.,    40.,   365.,  4201.,  5001., 16600.],\n",
       "       [ 1000.,    40.,   365.,  2080.,  3320., 15600.],\n",
       "       [ 2000.,    40.,   365.,  4601.,  4601., 16600.]])"
      ]
     },
     "execution_count": 204,
     "metadata": {},
     "output_type": "execute_result"
    }
   ],
   "source": [
    "lending_co_data_numeric = np.loadtxt(\"Lending-company-Numeric.csv\", delimiter = ',')\n",
    "lending_co_data_numeric\n",
    "\n",
    "# We can now use the entire dataset.\n",
    "# whnever using same function or methord many times in analysis good idea directly import it"
   ]
  },
  {
   "cell_type": "code",
   "execution_count": 205,
   "metadata": {},
   "outputs": [],
   "source": [
    "from numpy.random import shuffle\n",
    "\n",
    "# We can import functions we use multiple times for convenience. "
   ]
  },
  {
   "cell_type": "code",
   "execution_count": 207,
   "metadata": {},
   "outputs": [
    {
     "data": {
      "text/plain": [
       "array([[ 2000.,    40.,   365.,  5221.,  6221., 16600.],\n",
       "       [ 1000.,    40.,   365.,  2200.,  3770., 15600.],\n",
       "       [ 4000.,    50.,   365.,  5230.,  6510., 14520.],\n",
       "       ...,\n",
       "       [ 4000.,    50.,   365.,  5300.,  7050., 22250.],\n",
       "       [ 1000.,    40.,   365.,  3000.,  3950., 14900.],\n",
       "       [ 2000.,    40.,   365.,  3360.,  4240., 12290.]])"
      ]
     },
     "execution_count": 207,
     "metadata": {},
     "output_type": "execute_result"
    }
   ],
   "source": [
    "shuffle(lending_co_data_numeric)\n",
    "lending_co_data_numeric\n",
    "\n",
    "# We write shuffle() instead of numpy.random.shuffle() since we imported the function earlier. "
   ]
  },
  {
   "cell_type": "code",
   "execution_count": 208,
   "metadata": {},
   "outputs": [],
   "source": [
    "from numpy.random import Generator as gen\n",
    "from numpy.random import PCG64 as pcg\n",
    "\n",
    "# Random generators can be used for shuffling. "
   ]
  },
  {
   "cell_type": "code",
   "execution_count": 210,
   "metadata": {},
   "outputs": [
    {
     "data": {
      "text/plain": [
       "array([[ 2000.,    40.,   365.,  4420.,  5680., 16600.],\n",
       "       [ 2000.,    50.,   365.,  3951.,  4951., 14251.],\n",
       "       [ 2000.,    50.,   365.,  3451.,  4501., 16846.],\n",
       "       ...,\n",
       "       [ 2000.,    40.,   365.,  3401.,  5831., 16600.],\n",
       "       [ 1000.,    50.,   365.,   350.,  1000.,  5500.],\n",
       "       [ 1000.,    40.,   365.,  2240.,  3360., 15160.]])"
      ]
     },
     "execution_count": 210,
     "metadata": {},
     "output_type": "execute_result"
    }
   ],
   "source": [
    "array_RG = gen(pcg(seed = 365))\n",
    "array_RG.shuffle(lending_co_data_numeric)\n",
    "lending_co_data_numeric\n",
    "\n",
    "# Seeds don't work for shuffling (and it's intended)."
   ]
  },
  {
   "cell_type": "markdown",
   "metadata": {},
   "source": [
    "# Casting"
   ]
  },
  {
   "cell_type": "code",
   "execution_count": 211,
   "metadata": {},
   "outputs": [
    {
     "data": {
      "text/plain": [
       "array([[ 2000.,    40.,   365.,  3121.,  4241., 13621.],\n",
       "       [ 2000.,    40.,   365.,  3061.,  4171., 15041.],\n",
       "       [ 1000.,    40.,   365.,  2160.,  3280., 15340.],\n",
       "       ...,\n",
       "       [ 2000.,    40.,   365.,  4201.,  5001., 16600.],\n",
       "       [ 1000.,    40.,   365.,  2080.,  3320., 15600.],\n",
       "       [ 2000.,    40.,   365.,  4601.,  4601., 16600.]])"
      ]
     },
     "execution_count": 211,
     "metadata": {},
     "output_type": "execute_result"
    }
   ],
   "source": [
    "lending_co_data_numeric = np.loadtxt(\"Lending-company-Numeric.csv\", delimiter = ',') \n",
    "lending_co_data_numeric"
   ]
  },
  {
   "cell_type": "code",
   "execution_count": 212,
   "metadata": {},
   "outputs": [
    {
     "data": {
      "text/plain": [
       "array([[ 2000,    40,   365,  3121,  4241, 13621],\n",
       "       [ 2000,    40,   365,  3061,  4171, 15041],\n",
       "       [ 1000,    40,   365,  2160,  3280, 15340],\n",
       "       ...,\n",
       "       [ 2000,    40,   365,  4201,  5001, 16600],\n",
       "       [ 1000,    40,   365,  2080,  3320, 15600],\n",
       "       [ 2000,    40,   365,  4601,  4601, 16600]])"
      ]
     },
     "execution_count": 212,
     "metadata": {},
     "output_type": "execute_result"
    }
   ],
   "source": [
    "lending_co_data_numeric.astype(dtype = np.int32)\n",
    "\n",
    "# Creates an integer version of the array. \n",
    "# taking an object with values of certain data type and creating an identical objrct that contain the values of diffrent data types\n",
    "#creat nmew array that store the value oforginal array under diffrent data type"
   ]
  },
  {
   "cell_type": "code",
   "execution_count": 219,
   "metadata": {},
   "outputs": [
    {
     "name": "stderr",
     "output_type": "stream",
     "text": [
      "<ipython-input-219-0689518b2068>:1: DeprecationWarning: `np.str` is a deprecated alias for the builtin `str`. To silence this warning, use `str` by itself. Doing this will not modify any behavior and is safe. If you specifically wanted the numpy scalar type, use `np.str_` here.\n",
      "Deprecated in NumPy 1.20; for more details and guidance: https://numpy.org/devdocs/release/1.20.0-notes.html#deprecations\n",
      "  lending_co_data_numeric = lending_co_data_numeric.astype(dtype = np.str)\n"
     ]
    }
   ],
   "source": [
    "lending_co_data_numeric = lending_co_data_numeric.astype(dtype = np.str)\n",
    "\n",
    "# We need to overwrite the variable in order to work with strings.\n",
    "#dosnt over write the arra in place"
   ]
  },
  {
   "cell_type": "code",
   "execution_count": 214,
   "metadata": {},
   "outputs": [
    {
     "data": {
      "text/plain": [
       "array([['2000.0', '40.0', '365.0', '3121.0', '4241.0', '13621.0'],\n",
       "       ['2000.0', '40.0', '365.0', '3061.0', '4171.0', '15041.0'],\n",
       "       ['1000.0', '40.0', '365.0', '2160.0', '3280.0', '15340.0'],\n",
       "       ...,\n",
       "       ['2000.0', '40.0', '365.0', '4201.0', '5001.0', '16600.0'],\n",
       "       ['1000.0', '40.0', '365.0', '2080.0', '3320.0', '15600.0'],\n",
       "       ['2000.0', '40.0', '365.0', '4601.0', '4601.0', '16600.0']],\n",
       "      dtype='<U32')"
      ]
     },
     "execution_count": 214,
     "metadata": {},
     "output_type": "execute_result"
    }
   ],
   "source": [
    "lending_co_data_numeric"
   ]
  },
  {
   "cell_type": "code",
   "execution_count": 220,
   "metadata": {},
   "outputs": [
    {
     "data": {
      "text/plain": [
       "numpy.ndarray"
      ]
     },
     "execution_count": 220,
     "metadata": {},
     "output_type": "execute_result"
    }
   ],
   "source": [
    "type(lending_co_data_numeric)\n",
    "#astype=assign type\n",
    "#dtype = data type\n",
    "# data set retain all of its functionality\n"
   ]
  },
  {
   "cell_type": "code",
   "execution_count": 221,
   "metadata": {},
   "outputs": [
    {
     "data": {
      "text/plain": [
       "array([[ 2000,    40,   365,  3121,  4241, 13621],\n",
       "       [ 2000,    40,   365,  3061,  4171, 15041],\n",
       "       [ 1000,    40,   365,  2160,  3280, 15340],\n",
       "       ...,\n",
       "       [ 2000,    40,   365,  4201,  5001, 16600],\n",
       "       [ 1000,    40,   365,  2080,  3320, 15600],\n",
       "       [ 2000,    40,   365,  4601,  4601, 16600]])"
      ]
     },
     "execution_count": 221,
     "metadata": {},
     "output_type": "execute_result"
    }
   ],
   "source": [
    "lending_co_data_numeric.astype(dtype = np.int32)"
   ]
  },
  {
   "cell_type": "code",
   "execution_count": 216,
   "metadata": {},
   "outputs": [
    {
     "data": {
      "text/plain": [
       "array([[ 2000,    40,   365,  3121,  4241, 13621],\n",
       "       [ 2000,    40,   365,  3061,  4171, 15041],\n",
       "       [ 1000,    40,   365,  2160,  3280, 15340],\n",
       "       ...,\n",
       "       [ 2000,    40,   365,  4201,  5001, 16600],\n",
       "       [ 1000,    40,   365,  2080,  3320, 15600],\n",
       "       [ 2000,    40,   365,  4601,  4601, 16600]])"
      ]
     },
     "execution_count": 216,
     "metadata": {},
     "output_type": "execute_result"
    }
   ],
   "source": [
    "lending_co_data_numeric = lending_co_data_numeric.astype(dtype = np.float32)\n",
    "lending_co_data_numeric.astype(dtype = np.int32)\n",
    "\n",
    "## We can't directly cast strings to integers. We can go through floats (string -> float -> integer).\n",
    "#not an element recoganized among integers"
   ]
  },
  {
   "cell_type": "code",
   "execution_count": 222,
   "metadata": {},
   "outputs": [
    {
     "name": "stderr",
     "output_type": "stream",
     "text": [
      "<ipython-input-222-8010a3fc31c6>:2: DeprecationWarning: `np.str` is a deprecated alias for the builtin `str`. To silence this warning, use `str` by itself. Doing this will not modify any behavior and is safe. If you specifically wanted the numpy scalar type, use `np.str_` here.\n",
      "Deprecated in NumPy 1.20; for more details and guidance: https://numpy.org/devdocs/release/1.20.0-notes.html#deprecations\n",
      "  lending_co_data_numeric = lending_co_data_numeric.astype(dtype = np.str)\n"
     ]
    },
    {
     "data": {
      "text/plain": [
       "array([['2000.0', '40.0', '365.0', '3121.0', '4241.0', '13621.0'],\n",
       "       ['2000.0', '40.0', '365.0', '3061.0', '4171.0', '15041.0'],\n",
       "       ['1000.0', '40.0', '365.0', '2160.0', '3280.0', '15340.0'],\n",
       "       ...,\n",
       "       ['2000.0', '40.0', '365.0', '4201.0', '5001.0', '16600.0'],\n",
       "       ['1000.0', '40.0', '365.0', '2080.0', '3320.0', '15600.0'],\n",
       "       ['2000.0', '40.0', '365.0', '4601.0', '4601.0', '16600.0']],\n",
       "      dtype='<U32')"
      ]
     },
     "execution_count": 222,
     "metadata": {},
     "output_type": "execute_result"
    }
   ],
   "source": [
    "lending_co_data_numeric = np.loadtxt(\"Lending-company-Numeric.csv\", delimiter = ',')\n",
    "lending_co_data_numeric = lending_co_data_numeric.astype(dtype = np.str)\n",
    "lending_co_data_numeric\n",
    "\n",
    "# To showcase the other way to go from strings to integers, we need to get the strings version of the array once again.\n",
    "#want to have decimal point each number"
   ]
  },
  {
   "cell_type": "code",
   "execution_count": 224,
   "metadata": {},
   "outputs": [
    {
     "data": {
      "text/plain": [
       "array([[ 2000,    40,   365,  3121,  4241, 13621],\n",
       "       [ 2000,    40,   365,  3061,  4171, 15041],\n",
       "       [ 1000,    40,   365,  2160,  3280, 15340],\n",
       "       ...,\n",
       "       [ 2000,    40,   365,  4201,  5001, 16600],\n",
       "       [ 1000,    40,   365,  2080,  3320, 15600],\n",
       "       [ 2000,    40,   365,  4601,  4601, 16600]])"
      ]
     },
     "execution_count": 224,
     "metadata": {},
     "output_type": "execute_result"
    }
   ],
   "source": [
    "lending_co_data_numeric.astype(dtype = np.float32).astype(dtype = np.int32)\n",
    "#lending_co_data_numeric\n",
    "\n",
    "## We can chain methods in NumPy.\n",
    "#doesnt overwrite the content of our initial variable"
   ]
  },
  {
   "cell_type": "code",
   "execution_count": 225,
   "metadata": {},
   "outputs": [
    {
     "data": {
      "text/plain": [
       "array([['2000.0', '40.0', '365.0', '3121.0', '4241.0', '13621.0'],\n",
       "       ['2000.0', '40.0', '365.0', '3061.0', '4171.0', '15041.0'],\n",
       "       ['1000.0', '40.0', '365.0', '2160.0', '3280.0', '15340.0'],\n",
       "       ...,\n",
       "       ['2000.0', '40.0', '365.0', '4201.0', '5001.0', '16600.0'],\n",
       "       ['1000.0', '40.0', '365.0', '2080.0', '3320.0', '15600.0'],\n",
       "       ['2000.0', '40.0', '365.0', '4601.0', '4601.0', '16600.0']],\n",
       "      dtype='<U32')"
      ]
     },
     "execution_count": 225,
     "metadata": {},
     "output_type": "execute_result"
    }
   ],
   "source": [
    "lending_co_data_numeric.astype(dtype = np.float32).astype(dtype = np.int32)\n",
    "lending_co_data_numeric"
   ]
  },
  {
   "cell_type": "markdown",
   "metadata": {},
   "source": [
    "# Stripping Data"
   ]
  },
  {
   "cell_type": "code",
   "execution_count": 226,
   "metadata": {},
   "outputs": [
    {
     "name": "stderr",
     "output_type": "stream",
     "text": [
      "<ipython-input-226-eb1def7e7cb8>:3: DeprecationWarning: `np.str` is a deprecated alias for the builtin `str`. To silence this warning, use `str` by itself. Doing this will not modify any behavior and is safe. If you specifically wanted the numpy scalar type, use `np.str_` here.\n",
      "Deprecated in NumPy 1.20; for more details and guidance: https://numpy.org/devdocs/release/1.20.0-notes.html#deprecations\n",
      "  dtype = np.str,\n"
     ]
    },
    {
     "data": {
      "text/plain": [
       "array([['id_1', 'Product B', 'Location 2'],\n",
       "       ['id_2', 'Product B', 'Location 3'],\n",
       "       ['id_3', 'Product C', 'Location 5'],\n",
       "       ...,\n",
       "       ['id_413', 'Product B', 'Location 135'],\n",
       "       ['id_414', 'Product C', 'Location 200'],\n",
       "       ['id_415', 'Product A', 'Location 8']], dtype='<U12')"
      ]
     },
     "execution_count": 226,
     "metadata": {},
     "output_type": "execute_result"
    }
   ],
   "source": [
    "lending_co_total_price = np.genfromtxt(\"Lending-Company-Total-Price.csv\",\n",
    "                                       delimiter = ',',\n",
    "                                       dtype = np.str,\n",
    "                                       skip_header = 1, \n",
    "                                       usecols = [1,2,4])\n",
    "lending_co_total_price\n",
    "\n",
    "# We don't neeed the entire array. We only want a few columns to showcase how stripping data works.non numeric data"
   ]
  },
  {
   "cell_type": "code",
   "execution_count": 227,
   "metadata": {},
   "outputs": [
    {
     "data": {
      "text/plain": [
       "array([['1', 'B', '2'],\n",
       "       ['2', 'B', '3'],\n",
       "       ['3', 'C', '5'],\n",
       "       ...,\n",
       "       ['413', 'B', '135'],\n",
       "       ['414', 'C', '200'],\n",
       "       ['415', 'A', '8']], dtype='<U12')"
      ]
     },
     "execution_count": 227,
     "metadata": {},
     "output_type": "execute_result"
    }
   ],
   "source": [
    "lending_co_total_price[:,0] = np.chararray.strip(lending_co_total_price[:,0], \"id_\")\n",
    "lending_co_total_price[:,1] = np.chararray.strip(lending_co_total_price[:,1], \"Product \")\n",
    "lending_co_total_price[:,2] = np.chararray.strip(lending_co_total_price[:,2], \"Location \")\n",
    "lending_co_total_price\n",
    "\n",
    "# Remove \"id_\" from the 1st column, as well as \"Product \" from the second and \"Location \" from the third one\n",
    "#removing specific part of string\n",
    "#not stright deleting value of specfic position,taking away small part\n",
    "#get rid of excess data"
   ]
  },
  {
   "cell_type": "code",
   "execution_count": 228,
   "metadata": {},
   "outputs": [
    {
     "data": {
      "text/plain": [
       "chararray(['1', '2', '3', '4', '5', '6', '7', '8', '9', '10', '11', '12',\n",
       "           '13', '14', '15', '16', '17', '18', '19', '20', '21', '22',\n",
       "           '23', '24', '25', '26', '27', '28', '29', '30', '31', '32',\n",
       "           '33', '34', '35', '36', '37', '38', '39', '40', '41', '42',\n",
       "           '43', '44', '45', '46', '47', '48', '49', '50', '51', '52',\n",
       "           '53', '54', '55', '56', '57', '58', '59', '60', '61', '62',\n",
       "           '63', '64', '65', '66', '67', '68', '69', '70', '71', '72',\n",
       "           '73', '74', '75', '76', '77', '78', '79', '80', '81', '82',\n",
       "           '83', '84', '85', '86', '87', '88', '89', '90', '91', '92',\n",
       "           '93', '94', '95', '96', '97', '98', '99', '100', '101', '102',\n",
       "           '103', '104', '105', '106', '107', '108', '109', '110', '111',\n",
       "           '112', '113', '114', '115', '116', '117', '118', '119', '120',\n",
       "           '121', '122', '123', '124', '125', '126', '127', '128', '129',\n",
       "           '130', '131', '132', '133', '134', '135', '136', '137', '138',\n",
       "           '139', '140', '141', '142', '143', '144', '145', '146', '147',\n",
       "           '148', '149', '150', '151', '152', '153', '154', '155', '156',\n",
       "           '157', '158', '159', '160', '161', '162', '163', '164', '165',\n",
       "           '166', '167', '168', '169', '170', '171', '172', '173', '174',\n",
       "           '175', '176', '177', '178', '179', '180', '181', '182', '183',\n",
       "           '184', '185', '186', '187', '188', '189', '190', '191', '192',\n",
       "           '193', '194', '195', '196', '197', '198', '199', '200', '201',\n",
       "           '202', '203', '204', '205', '206', '207', '208', '209', '210',\n",
       "           '211', '212', '213', '214', '215', '216', '217', '218', '219',\n",
       "           '220', '221', '222', '223', '224', '225', '226', '227', '228',\n",
       "           '229', '230', '231', '232', '233', '234', '235', '236', '237',\n",
       "           '238', '239', '240', '241', '242', '243', '244', '245', '246',\n",
       "           '247', '248', '249', '250', '251', '252', '253', '254', '255',\n",
       "           '256', '257', '258', '259', '260', '261', '262', '263', '264',\n",
       "           '265', '266', '267', '268', '269', '270', '271', '272', '273',\n",
       "           '274', '275', '276', '277', '278', '279', '280', '281', '282',\n",
       "           '283', '284', '285', '286', '287', '288', '289', '290', '291',\n",
       "           '292', '293', '294', '295', '296', '297', '298', '299', '300',\n",
       "           '301', '302', '303', '304', '305', '306', '307', '308', '309',\n",
       "           '310', '311', '312', '313', '314', '315', '316', '317', '318',\n",
       "           '319', '320', '321', '322', '323', '324', '325', '326', '327',\n",
       "           '328', '329', '330', '331', '332', '333', '334', '335', '336',\n",
       "           '337', '338', '339', '340', '341', '342', '343', '344', '345',\n",
       "           '346', '347', '348', '349', '350', '351', '352', '353', '354',\n",
       "           '355', '356', '357', '358', '359', '360', '361', '362', '363',\n",
       "           '364', '365', '366', '367', '368', '369', '370', '371', '372',\n",
       "           '373', '374', '375', '376', '377', '378', '379', '380', '381',\n",
       "           '382', '383', '384', '385', '386', '387', '388', '389', '390',\n",
       "           '391', '392', '393', '394', '395', '396', '397', '398', '399',\n",
       "           '400', '401', '402', '403', '404', '405', '406', '407', '408',\n",
       "           '409', '410', '411', '412', '413', '414', '415'], dtype='<U12')"
      ]
     },
     "execution_count": 228,
     "metadata": {},
     "output_type": "execute_result"
    }
   ],
   "source": [
    "np.chararray.strip(lending_co_total_price[:,0], \"id_\")"
   ]
  },
  {
   "cell_type": "code",
   "execution_count": 229,
   "metadata": {},
   "outputs": [
    {
     "data": {
      "text/plain": [
       "array([['1', '2', '2'],\n",
       "       ['2', '2', '3'],\n",
       "       ['3', '3', '5'],\n",
       "       ...,\n",
       "       ['413', '2', '135'],\n",
       "       ['414', '3', '200'],\n",
       "       ['415', '1', '8']], dtype='<U12')"
      ]
     },
     "execution_count": 229,
     "metadata": {},
     "output_type": "execute_result"
    }
   ],
   "source": [
    "lending_co_total_price[:,1] = np.where(lending_co_total_price[:,1] == 'A', 1, lending_co_total_price[:,1]) \n",
    "lending_co_total_price[:,1] = np.where(lending_co_total_price[:,1] == 'B', 2, lending_co_total_price[:,1]) \n",
    "lending_co_total_price[:,1] = np.where(lending_co_total_price[:,1] == 'C', 3, lending_co_total_price[:,1]) \n",
    "lending_co_total_price[:,1] = np.where(lending_co_total_price[:,1] == 'D', 4, lending_co_total_price[:,1]) \n",
    "lending_co_total_price[:,1] = np.where(lending_co_total_price[:,1] == 'E', 5, lending_co_total_price[:,1]) \n",
    "lending_co_total_price[:,1] = np.where(lending_co_total_price[:,1] == 'F', 6, lending_co_total_price[:,1]) \n",
    "\n",
    "lending_co_total_price\n",
    "\n",
    "# We can combine stripping with substituting to transform all the letters in second colmn  to numbers. "
   ]
  },
  {
   "cell_type": "code",
   "execution_count": 230,
   "metadata": {},
   "outputs": [
    {
     "data": {
      "text/plain": [
       "array([[  1,   2,   2],\n",
       "       [  2,   2,   3],\n",
       "       [  3,   3,   5],\n",
       "       ...,\n",
       "       [413,   2, 135],\n",
       "       [414,   3, 200],\n",
       "       [415,   1,   8]])"
      ]
     },
     "execution_count": 230,
     "metadata": {},
     "output_type": "execute_result"
    }
   ],
   "source": [
    "lending_co_total_price = lending_co_total_price.astype(dtype = np.int32)\n",
    "lending_co_total_price\n",
    "\n",
    "# Even though the values look like numbers, they're actually just text, so we need to cast them once again\n",
    "#did completly tranform an array of text into clean array of numeric values"
   ]
  },
  {
   "cell_type": "markdown",
   "metadata": {},
   "source": [
    "# Stacking"
   ]
  },
  {
   "cell_type": "code",
   "execution_count": 231,
   "metadata": {},
   "outputs": [
    {
     "data": {
      "text/plain": [
       "array([[ 2000.,    40.,   365.,  3121.,  4241., 13621.],\n",
       "       [ 2000.,    40.,   365.,  3061.,  4171., 15041.],\n",
       "       [ 1000.,    40.,   365.,  2160.,  3280., 15340.],\n",
       "       ...,\n",
       "       [ 2000.,    40.,   365.,  4201.,  5001., 16600.],\n",
       "       [ 1000.,    40.,   365.,  2080.,  3320., 15600.],\n",
       "       [ 2000.,    40.,   365.,  4601.,  4601., 16600.]])"
      ]
     },
     "execution_count": 231,
     "metadata": {},
     "output_type": "execute_result"
    }
   ],
   "source": [
    "lending_co_data_numeric = np.loadtxt(\"Lending-company-Numeric.csv\", delimiter = ',') \n",
    "lending_co_data_numeric"
   ]
  },
  {
   "cell_type": "code",
   "execution_count": 232,
   "metadata": {},
   "outputs": [
    {
     "data": {
      "text/plain": [
       "array([[ 2000.  ,    40.  ,   365.  ,  3121.  ,  4241.  , 13621.  ],\n",
       "       [ 2000.  ,    40.  ,   365.  ,  3061.  ,  4171.  , 15041.  ],\n",
       "       [ 1000.  ,    40.  ,   365.  ,  2160.  ,  3280.  , 15340.  ],\n",
       "       ...,\n",
       "       [ 2250.25,    40.  ,   365.  ,  4201.  ,  5001.  , 16600.  ],\n",
       "       [ 1000.  ,    40.  ,   365.  ,  2080.  ,  3320.  , 15600.  ],\n",
       "       [ 2000.  ,    40.  ,   365.  ,  4601.  ,  4601.  , 16600.  ]])"
      ]
     },
     "execution_count": 232,
     "metadata": {},
     "output_type": "execute_result"
    }
   ],
   "source": [
    "# Recall\n",
    "\n",
    "lending_co_data_numeric_NAN = np.genfromtxt(\"Lending-company-Numeric-NAN.csv\", delimiter = ';')\n",
    "\n",
    "temporary_fill = np.nanmax(lending_co_data_numeric_NAN).round(2) + 1\n",
    "temporary_mean = np.nanmean(lending_co_data_numeric_NAN, axis = 0).round(2)\n",
    "\n",
    "lending_co_data_numeric_NAN = np.genfromtxt(\"Lending-company-Numeric-NAN.csv\", \n",
    "                                            delimiter = ';', \n",
    "                                            filling_values = temporary_fill)\n",
    "\n",
    "for i in range(lending_co_data_numeric_NAN.shape[1]):\n",
    "    lending_co_data_numeric_NAN[:,i] = np.where(lending_co_data_numeric_NAN[:,i] == temporary_fill,\n",
    "                                                temporary_mean[i],\n",
    "                                                lending_co_data_numeric_NAN[:,i])\n",
    "lending_co_data_numeric_NAN\n",
    "\n",
    "\n",
    "## We create a filler, reimport and fill all the nan-s, then subsitute all the temporary fillers with more appropriate values"
   ]
  },
  {
   "cell_type": "code",
   "execution_count": 233,
   "metadata": {},
   "outputs": [
    {
     "data": {
      "text/plain": [
       "array([[  40.,   40.,   40., ...,   40.,   40.,   40.],\n",
       "       [2000., 2000., 1000., ..., 2000., 1000., 2000.]])"
      ]
     },
     "execution_count": 233,
     "metadata": {},
     "output_type": "execute_result"
    }
   ],
   "source": [
    "np.stack((lending_co_data_numeric[:,1],lending_co_data_numeric[:,0]))\n",
    "\n",
    "# Stacking the first 2 columns. (We can stack them in any order we like)\n",
    "#placing multiple object on top of one another to create a bigger object\n",
    "#just stack arrays of matching shapes to create larger array-a stack\n",
    "#stacking on top of another\n",
    "# get bigger dimension ,stack\n",
    "# h nd v just append only not give higher dimension"
   ]
  },
  {
   "cell_type": "code",
   "execution_count": 234,
   "metadata": {},
   "outputs": [
    {
     "data": {
      "text/plain": [
       "array([[2000., 2000., 1000., ..., 2000., 1000., 2000.],\n",
       "       [  40.,   40.,   40., ...,   40.,   40.,   40.]])"
      ]
     },
     "execution_count": 234,
     "metadata": {},
     "output_type": "execute_result"
    }
   ],
   "source": [
    "np.transpose(lending_co_data_numeric[:,:2])"
   ]
  },
  {
   "cell_type": "code",
   "execution_count": 236,
   "metadata": {},
   "outputs": [
    {
     "data": {
      "text/plain": [
       "array([[2000.,   40.],\n",
       "       [2000.,   40.],\n",
       "       [1000.,   40.],\n",
       "       ...,\n",
       "       [2000.,   40.],\n",
       "       [1000.,   40.],\n",
       "       [2000.,   40.]])"
      ]
     },
     "execution_count": 236,
     "metadata": {},
     "output_type": "execute_result"
    }
   ],
   "source": [
    "np.stack((lending_co_data_numeric[:,0],lending_co_data_numeric[:,1]), axis = 1)"
   ]
  },
  {
   "cell_type": "code",
   "execution_count": 235,
   "metadata": {},
   "outputs": [
    {
     "data": {
      "text/plain": [
       "array([[2000.,   40.,  365.],\n",
       "       [2000.,   40.,  365.],\n",
       "       [1000.,   40.,  365.],\n",
       "       ...,\n",
       "       [2000.,   40.,  365.],\n",
       "       [1000.,   40.,  365.],\n",
       "       [2000.,   40.,  365.]])"
      ]
     },
     "execution_count": 235,
     "metadata": {},
     "output_type": "execute_result"
    }
   ],
   "source": [
    "np.stack((lending_co_data_numeric[:,0],lending_co_data_numeric[:,1], lending_co_data_numeric[:,2]), axis = 1)\n",
    "\n",
    "# We can stack more than 2 arrays. \n",
    "#array must same shape\n",
    "#stackinfg sidwise\n",
    "#determine axis how to stack"
   ]
  },
  {
   "cell_type": "code",
   "execution_count": 237,
   "metadata": {},
   "outputs": [
    {
     "ename": "IndexError",
     "evalue": "index 12 is out of bounds for axis 1 with size 6",
     "output_type": "error",
     "traceback": [
      "\u001b[1;31m---------------------------------------------------------------------------\u001b[0m",
      "\u001b[1;31mIndexError\u001b[0m                                Traceback (most recent call last)",
      "\u001b[1;32m<ipython-input-237-a1d67ffecbb2>\u001b[0m in \u001b[0;36m<module>\u001b[1;34m\u001b[0m\n\u001b[1;32m----> 1\u001b[1;33m \u001b[0mnp\u001b[0m\u001b[1;33m.\u001b[0m\u001b[0mstack\u001b[0m\u001b[1;33m(\u001b[0m\u001b[1;33m(\u001b[0m\u001b[0mlending_co_data_numeric\u001b[0m\u001b[1;33m[\u001b[0m\u001b[1;33m:\u001b[0m\u001b[1;33m,\u001b[0m\u001b[1;36m0\u001b[0m\u001b[1;33m]\u001b[0m\u001b[1;33m,\u001b[0m\u001b[0mlending_co_data_numeric\u001b[0m\u001b[1;33m[\u001b[0m\u001b[1;33m:\u001b[0m\u001b[1;33m,\u001b[0m\u001b[1;36m1\u001b[0m\u001b[1;33m]\u001b[0m\u001b[1;33m,\u001b[0m \u001b[0mlending_co_data_numeric\u001b[0m\u001b[1;33m[\u001b[0m\u001b[1;33m:\u001b[0m\u001b[1;33m,\u001b[0m\u001b[1;36m12\u001b[0m\u001b[1;33m]\u001b[0m\u001b[1;33m)\u001b[0m\u001b[1;33m,\u001b[0m \u001b[0maxis\u001b[0m \u001b[1;33m=\u001b[0m \u001b[1;36m1\u001b[0m\u001b[1;33m)\u001b[0m\u001b[1;33m\u001b[0m\u001b[1;33m\u001b[0m\u001b[0m\n\u001b[0m",
      "\u001b[1;31mIndexError\u001b[0m: index 12 is out of bounds for axis 1 with size 6"
     ]
    }
   ],
   "source": [
    "np.stack((lending_co_data_numeric[:,0],lending_co_data_numeric[:,1], lending_co_data_numeric[:,12]), axis = 1)\n"
   ]
  },
  {
   "cell_type": "code",
   "execution_count": 238,
   "metadata": {},
   "outputs": [
    {
     "data": {
      "text/plain": [
       "(1043, 6)"
      ]
     },
     "execution_count": 238,
     "metadata": {},
     "output_type": "execute_result"
    }
   ],
   "source": [
    "lending_co_data_numeric_NAN.shape"
   ]
  },
  {
   "cell_type": "code",
   "execution_count": 244,
   "metadata": {},
   "outputs": [
    {
     "data": {
      "text/plain": [
       "array([[ 2000.  ,    40.  ,   365.  ,  3121.  ,  4241.  , 13621.  ],\n",
       "       [ 2000.  ,    40.  ,   365.  ,  3061.  ,  4171.  , 15041.  ],\n",
       "       [ 1000.  ,    40.  ,   365.  ,  2160.  ,  3280.  , 15340.  ],\n",
       "       ...,\n",
       "       [ 2250.25,    40.  ,   365.  ,  4201.  ,  5001.  , 16600.  ],\n",
       "       [ 1000.  ,    40.  ,   365.  ,  2080.  ,  3320.  , 15600.  ],\n",
       "       [ 2000.  ,    40.  ,   365.  ,  4601.  ,  4601.  , 16600.  ]])"
      ]
     },
     "execution_count": 244,
     "metadata": {},
     "output_type": "execute_result"
    }
   ],
   "source": [
    "np.vstack((lending_co_data_numeric, lending_co_data_numeric_NAN))\n",
    "#v stack =vertcal stack\n",
    "#the function stack 2-d array vertically\n",
    "#places first array on top of the second one\n",
    "#get longer array\n",
    "# 2 one d array give 2 d array\n",
    "# 2 two d array remain same 2d .nymber of coulmn shoulb same of two stacking function.row not want to equel"
   ]
  },
  {
   "cell_type": "code",
   "execution_count": 245,
   "metadata": {},
   "outputs": [
    {
     "data": {
      "text/plain": [
       "(2086, 6)"
      ]
     },
     "execution_count": 245,
     "metadata": {},
     "output_type": "execute_result"
    }
   ],
   "source": [
    "np.vstack((lending_co_data_numeric, lending_co_data_numeric_NAN)).shape"
   ]
  },
  {
   "cell_type": "code",
   "execution_count": 246,
   "metadata": {},
   "outputs": [
    {
     "data": {
      "text/plain": [
       "array([[ 2000.,    40.,   365., ...,  3121.,  4241., 13621.],\n",
       "       [ 2000.,    40.,   365., ...,  3061.,  4171., 15041.],\n",
       "       [ 1000.,    40.,   365., ...,  2160.,  3280., 15340.],\n",
       "       ...,\n",
       "       [ 2000.,    40.,   365., ...,  4201.,  5001., 16600.],\n",
       "       [ 1000.,    40.,   365., ...,  2080.,  3320., 15600.],\n",
       "       [ 2000.,    40.,   365., ...,  4601.,  4601., 16600.]])"
      ]
     },
     "execution_count": 246,
     "metadata": {},
     "output_type": "execute_result"
    }
   ],
   "source": [
    "np.hstack((lending_co_data_numeric, lending_co_data_numeric_NAN))\n",
    "#get wider array\n",
    "# 2 one d array give again ine d array\n",
    "# number of elemennt not matte\n",
    "# 2 two d array just give 2 d array agin\n",
    "# comain diffret shap number of rows should be same"
   ]
  },
  {
   "cell_type": "code",
   "execution_count": 247,
   "metadata": {},
   "outputs": [
    {
     "data": {
      "text/plain": [
       "(1043, 12)"
      ]
     },
     "execution_count": 247,
     "metadata": {},
     "output_type": "execute_result"
    }
   ],
   "source": [
    "np.hstack((lending_co_data_numeric, lending_co_data_numeric_NAN)).shape"
   ]
  },
  {
   "cell_type": "code",
   "execution_count": 248,
   "metadata": {},
   "outputs": [
    {
     "data": {
      "text/plain": [
       "array([[[ 2000.  ,  2000.  ],\n",
       "        [   40.  ,    40.  ],\n",
       "        [  365.  ,   365.  ],\n",
       "        [ 3121.  ,  3121.  ],\n",
       "        [ 4241.  ,  4241.  ],\n",
       "        [13621.  , 13621.  ]],\n",
       "\n",
       "       [[ 2000.  ,  2000.  ],\n",
       "        [   40.  ,    40.  ],\n",
       "        [  365.  ,   365.  ],\n",
       "        [ 3061.  ,  3061.  ],\n",
       "        [ 4171.  ,  4171.  ],\n",
       "        [15041.  , 15041.  ]],\n",
       "\n",
       "       [[ 1000.  ,  1000.  ],\n",
       "        [   40.  ,    40.  ],\n",
       "        [  365.  ,   365.  ],\n",
       "        [ 2160.  ,  2160.  ],\n",
       "        [ 3280.  ,  3280.  ],\n",
       "        [15340.  , 15340.  ]],\n",
       "\n",
       "       ...,\n",
       "\n",
       "       [[ 2000.  ,  2250.25],\n",
       "        [   40.  ,    40.  ],\n",
       "        [  365.  ,   365.  ],\n",
       "        [ 4201.  ,  4201.  ],\n",
       "        [ 5001.  ,  5001.  ],\n",
       "        [16600.  , 16600.  ]],\n",
       "\n",
       "       [[ 1000.  ,  1000.  ],\n",
       "        [   40.  ,    40.  ],\n",
       "        [  365.  ,   365.  ],\n",
       "        [ 2080.  ,  2080.  ],\n",
       "        [ 3320.  ,  3320.  ],\n",
       "        [15600.  , 15600.  ]],\n",
       "\n",
       "       [[ 2000.  ,  2000.  ],\n",
       "        [   40.  ,    40.  ],\n",
       "        [  365.  ,   365.  ],\n",
       "        [ 4601.  ,  4601.  ],\n",
       "        [ 4601.  ,  4601.  ],\n",
       "        [16600.  , 16600.  ]]])"
      ]
     },
     "execution_count": 248,
     "metadata": {},
     "output_type": "execute_result"
    }
   ],
   "source": [
    "np.dstack((lending_co_data_numeric, lending_co_data_numeric_NAN))\n",
    "#depth stack\n",
    "#stack array in the third dimension\n",
    "#return array of higher dimension"
   ]
  },
  {
   "cell_type": "code",
   "execution_count": 249,
   "metadata": {},
   "outputs": [
    {
     "data": {
      "text/plain": [
       "(1043, 6, 2)"
      ]
     },
     "execution_count": 249,
     "metadata": {},
     "output_type": "execute_result"
    }
   ],
   "source": [
    "np.dstack((lending_co_data_numeric, lending_co_data_numeric_NAN)).shape\n",
    "#one for each row of the initial database\n",
    "#row ,colmn, orginal array"
   ]
  },
  {
   "cell_type": "code",
   "execution_count": 250,
   "metadata": {},
   "outputs": [
    {
     "data": {
      "text/plain": [
       "array([[ 2000.,  2000.],\n",
       "       [   40.,    40.],\n",
       "       [  365.,   365.],\n",
       "       [ 3121.,  3121.],\n",
       "       [ 4241.,  4241.],\n",
       "       [13621., 13621.]])"
      ]
     },
     "execution_count": 250,
     "metadata": {},
     "output_type": "execute_result"
    }
   ],
   "source": [
    "np.dstack((lending_co_data_numeric, lending_co_data_numeric_NAN))[0]\n",
    "#each colmn contain first row\n",
    "#fist index represent the row\n"
   ]
  },
  {
   "cell_type": "code",
   "execution_count": 252,
   "metadata": {},
   "outputs": [
    {
     "data": {
      "text/plain": [
       "array([2000., 2000.])"
      ]
     },
     "execution_count": 252,
     "metadata": {},
     "output_type": "execute_result"
    }
   ],
   "source": [
    "np.dstack((lending_co_data_numeric, lending_co_data_numeric_NAN))[0,0]\n",
    "#second index refer to the colmn\n",
    "\n",
    "# We can stack 2-D arrays as well. "
   ]
  },
  {
   "cell_type": "code",
   "execution_count": 253,
   "metadata": {},
   "outputs": [
    {
     "data": {
      "text/plain": [
       "array([ 2000.,    40.,   365.,  3121.,  4241., 13621.])"
      ]
     },
     "execution_count": 253,
     "metadata": {},
     "output_type": "execute_result"
    }
   ],
   "source": [
    "np.dstack((lending_co_data_numeric, lending_co_data_numeric_NAN))[0,:,0]\n",
    "#slicing all colmn with a row index 0 nd depth index 0\n",
    "#the first row of the orginal data base variable\n",
    "#third index represent which array the value where pulled from"
   ]
  },
  {
   "cell_type": "code",
   "execution_count": 240,
   "metadata": {},
   "outputs": [
    {
     "data": {
      "text/plain": [
       "array([[[ 2000.  ,  2000.  ],\n",
       "        [   40.  ,    40.  ],\n",
       "        [  365.  ,   365.  ],\n",
       "        [ 3121.  ,  3121.  ],\n",
       "        [ 4241.  ,  4241.  ],\n",
       "        [13621.  , 13621.  ]],\n",
       "\n",
       "       [[ 2000.  ,  2000.  ],\n",
       "        [   40.  ,    40.  ],\n",
       "        [  365.  ,   365.  ],\n",
       "        [ 3061.  ,  3061.  ],\n",
       "        [ 4171.  ,  4171.  ],\n",
       "        [15041.  , 15041.  ]],\n",
       "\n",
       "       [[ 1000.  ,  1000.  ],\n",
       "        [   40.  ,    40.  ],\n",
       "        [  365.  ,   365.  ],\n",
       "        [ 2160.  ,  2160.  ],\n",
       "        [ 3280.  ,  3280.  ],\n",
       "        [15340.  , 15340.  ]],\n",
       "\n",
       "       ...,\n",
       "\n",
       "       [[ 2000.  ,  2250.25],\n",
       "        [   40.  ,    40.  ],\n",
       "        [  365.  ,   365.  ],\n",
       "        [ 4201.  ,  4201.  ],\n",
       "        [ 5001.  ,  5001.  ],\n",
       "        [16600.  , 16600.  ]],\n",
       "\n",
       "       [[ 1000.  ,  1000.  ],\n",
       "        [   40.  ,    40.  ],\n",
       "        [  365.  ,   365.  ],\n",
       "        [ 2080.  ,  2080.  ],\n",
       "        [ 3320.  ,  3320.  ],\n",
       "        [15600.  , 15600.  ]],\n",
       "\n",
       "       [[ 2000.  ,  2000.  ],\n",
       "        [   40.  ,    40.  ],\n",
       "        [  365.  ,   365.  ],\n",
       "        [ 4601.  ,  4601.  ],\n",
       "        [ 4601.  ,  4601.  ],\n",
       "        [16600.  , 16600.  ]]])"
      ]
     },
     "execution_count": 240,
     "metadata": {},
     "output_type": "execute_result"
    }
   ],
   "source": [
    "np.stack((lending_co_data_numeric, lending_co_data_numeric_NAN), axis = -1)\n",
    "\n",
    "# We can stack along a given axis (with np.stack())\n",
    "# replicate its op with np stack\n",
    "#the stack function alwys return op thats exactly one d morthan input\n",
    "#since np.dstack work along the third axis ,the two work identically(for 1-d nd 2-d array)"
   ]
  },
  {
   "cell_type": "code",
   "execution_count": 241,
   "metadata": {},
   "outputs": [],
   "source": [
    "array_example_1 = np.array([[[1,2,3,4],[5,6,7,8],[9,10,11,12]],[[21,22,23,24],[25,26,27,28],[29,30,31,32]]])\n",
    "array_example_2 = array_example_1 * 2\n",
    "\n",
    "# We're quickly creating some 3-D arrays to showcase how dstack works for higher dimensions"
   ]
  },
  {
   "cell_type": "code",
   "execution_count": 254,
   "metadata": {},
   "outputs": [
    {
     "data": {
      "text/plain": [
       "array([[[ 1,  2,  3,  4,  2,  4,  6,  8],\n",
       "        [ 5,  6,  7,  8, 10, 12, 14, 16],\n",
       "        [ 9, 10, 11, 12, 18, 20, 22, 24]],\n",
       "\n",
       "       [[21, 22, 23, 24, 42, 44, 46, 48],\n",
       "        [25, 26, 27, 28, 50, 52, 54, 56],\n",
       "        [29, 30, 31, 32, 58, 60, 62, 64]]])"
      ]
     },
     "execution_count": 254,
     "metadata": {},
     "output_type": "execute_result"
    }
   ],
   "source": [
    "np.dstack((array_example_1, array_example_2))"
   ]
  },
  {
   "cell_type": "code",
   "execution_count": 255,
   "metadata": {},
   "outputs": [
    {
     "data": {
      "text/plain": [
       "(2, 3, 8)"
      ]
     },
     "execution_count": 255,
     "metadata": {},
     "output_type": "execute_result"
    }
   ],
   "source": [
    "np.dstack((array_example_1, array_example_2)).shape"
   ]
  },
  {
   "cell_type": "code",
   "execution_count": 256,
   "metadata": {},
   "outputs": [
    {
     "data": {
      "text/plain": [
       "array([[[[ 1,  2,  3,  4],\n",
       "         [ 2,  4,  6,  8]],\n",
       "\n",
       "        [[ 5,  6,  7,  8],\n",
       "         [10, 12, 14, 16]],\n",
       "\n",
       "        [[ 9, 10, 11, 12],\n",
       "         [18, 20, 22, 24]]],\n",
       "\n",
       "\n",
       "       [[[21, 22, 23, 24],\n",
       "         [42, 44, 46, 48]],\n",
       "\n",
       "        [[25, 26, 27, 28],\n",
       "         [50, 52, 54, 56]],\n",
       "\n",
       "        [[29, 30, 31, 32],\n",
       "         [58, 60, 62, 64]]]])"
      ]
     },
     "execution_count": 256,
     "metadata": {},
     "output_type": "execute_result"
    }
   ],
   "source": [
    "np.stack((array_example_1, array_example_2), axis = 2)\n",
    "\n",
    "# We can no longer replicate the output of dstack by simply specifying an axis. "
   ]
  },
  {
   "cell_type": "code",
   "execution_count": 257,
   "metadata": {},
   "outputs": [
    {
     "data": {
      "text/plain": [
       "(2, 3, 2, 4)"
      ]
     },
     "execution_count": 257,
     "metadata": {},
     "output_type": "execute_result"
    }
   ],
   "source": [
    "np.stack((array_example_1, array_example_2), axis = 2).shape\n",
    "#the two function are only ever equivalent for input of upto two dimension"
   ]
  },
  {
   "cell_type": "markdown",
   "metadata": {},
   "source": [
    "# Concatenate"
   ]
  },
  {
   "cell_type": "code",
   "execution_count": 258,
   "metadata": {},
   "outputs": [
    {
     "data": {
      "text/plain": [
       "array([[ 2000.,    40.,   365.,  3121.,  4241., 13621.],\n",
       "       [ 2000.,    40.,   365.,  3061.,  4171., 15041.],\n",
       "       [ 1000.,    40.,   365.,  2160.,  3280., 15340.],\n",
       "       ...,\n",
       "       [ 2000.,    40.,   365.,  4201.,  5001., 16600.],\n",
       "       [ 1000.,    40.,   365.,  2080.,  3320., 15600.],\n",
       "       [ 2000.,    40.,   365.,  4601.,  4601., 16600.]])"
      ]
     },
     "execution_count": 258,
     "metadata": {},
     "output_type": "execute_result"
    }
   ],
   "source": [
    "lending_co_data_numeric = np.loadtxt(\"Lending-company-Numeric.csv\", delimiter = ',') \n",
    "lending_co_data_numeric"
   ]
  },
  {
   "cell_type": "code",
   "execution_count": 259,
   "metadata": {},
   "outputs": [
    {
     "data": {
      "text/plain": [
       "array([ 2000.,    40.,   365.,  3121.,  4241., 13621.,  2000.,    40.,\n",
       "         365.,  3061.,  4171., 15041.])"
      ]
     },
     "execution_count": 259,
     "metadata": {},
     "output_type": "execute_result"
    }
   ],
   "source": [
    "np.concatenate((lending_co_data_numeric[0,:], lending_co_data_numeric[1,:]))\n",
    "\n",
    "# The concatenated array has the same number of dimensions as the inputs\n",
    "#creating new array by merging exsiting smaller array along given axis\n",
    "#inout nd op of concatinate function alwys have the same number of dimension\n",
    "#diffrent from stacking bcz even thought we are the values of both  array.still confined to 1 dimension"
   ]
  },
  {
   "cell_type": "code",
   "execution_count": 260,
   "metadata": {},
   "outputs": [
    {
     "data": {
      "text/plain": [
       "array([[ 2000.  ,    40.  ,   365.  ,  3121.  ,  4241.  , 13621.  ],\n",
       "       [ 2000.  ,    40.  ,   365.  ,  3061.  ,  4171.  , 15041.  ],\n",
       "       [ 1000.  ,    40.  ,   365.  ,  2160.  ,  3280.  , 15340.  ],\n",
       "       ...,\n",
       "       [ 2250.25,    40.  ,   365.  ,  4201.  ,  5001.  , 16600.  ],\n",
       "       [ 1000.  ,    40.  ,   365.  ,  2080.  ,  3320.  , 15600.  ],\n",
       "       [ 2000.  ,    40.  ,   365.  ,  4601.  ,  4601.  , 16600.  ]])"
      ]
     },
     "execution_count": 260,
     "metadata": {},
     "output_type": "execute_result"
    }
   ],
   "source": [
    "#Recall: \n",
    "    \n",
    "lending_co_data_numeric_NAN = np.genfromtxt(\"Lending-company-Numeric-NAN.csv\", delimiter = ';')\n",
    "\n",
    "temporary_fill = np.nanmax(lending_co_data_numeric_NAN).round(2) + 1\n",
    "temporary_mean = np.nanmean(lending_co_data_numeric_NAN, axis = 0).round(2)\n",
    "\n",
    "lending_co_data_numeric_NAN = np.genfromtxt(\"Lending-company-Numeric-NAN.csv\",\n",
    "                                            delimiter = ';', \n",
    "                                            filling_values = temporary_fill)\n",
    "\n",
    "for i in range(lending_co_data_numeric_NAN.shape[1]):        \n",
    "    lending_co_data_numeric_NAN[:,i] = np.where(lending_co_data_numeric_NAN[:,i] == temporary_fill,\n",
    "                                                temporary_mean[i],\n",
    "                                                lending_co_data_numeric_NAN[:,i])\n",
    "    \n",
    "lending_co_data_numeric_NAN"
   ]
  },
  {
   "cell_type": "code",
   "execution_count": 263,
   "metadata": {},
   "outputs": [
    {
     "data": {
      "text/plain": [
       "(1043, 6)"
      ]
     },
     "execution_count": 263,
     "metadata": {},
     "output_type": "execute_result"
    }
   ],
   "source": [
    "lending_co_data_numeric_NAN.shape"
   ]
  },
  {
   "cell_type": "code",
   "execution_count": 271,
   "metadata": {},
   "outputs": [
    {
     "data": {
      "text/plain": [
       "array([[ 2000.  ,    40.  ,   365.  ,  3121.  ,  4241.  , 13621.  ],\n",
       "       [ 2000.  ,    40.  ,   365.  ,  3061.  ,  4171.  , 15041.  ],\n",
       "       [ 1000.  ,    40.  ,   365.  ,  2160.  ,  3280.  , 15340.  ],\n",
       "       ...,\n",
       "       [ 2250.25,    40.  ,   365.  ,  4201.  ,  5001.  , 16600.  ],\n",
       "       [ 1000.  ,    40.  ,   365.  ,  2080.  ,  3320.  , 15600.  ],\n",
       "       [ 2000.  ,    40.  ,   365.  ,  4601.  ,  4601.  , 16600.  ]])"
      ]
     },
     "execution_count": 271,
     "metadata": {},
     "output_type": "execute_result"
    }
   ],
   "source": [
    "np.concatenate((lending_co_data_numeric, lending_co_data_numeric_NAN))\n",
    "#concatenated second data set at the bottom of the first"
   ]
  },
  {
   "cell_type": "code",
   "execution_count": 272,
   "metadata": {},
   "outputs": [
    {
     "data": {
      "text/plain": [
       "(2086, 6)"
      ]
     },
     "execution_count": 272,
     "metadata": {},
     "output_type": "execute_result"
    }
   ],
   "source": [
    "np.concatenate((lending_co_data_numeric, lending_co_data_numeric_NAN)).shape"
   ]
  },
  {
   "cell_type": "code",
   "execution_count": 261,
   "metadata": {},
   "outputs": [
    {
     "data": {
      "text/plain": [
       "array([[ 2000.,    40.,   365., ...,  3121.,  4241., 13621.],\n",
       "       [ 2000.,    40.,   365., ...,  3061.,  4171., 15041.],\n",
       "       [ 1000.,    40.,   365., ...,  2160.,  3280., 15340.],\n",
       "       ...,\n",
       "       [ 2000.,    40.,   365., ...,  4201.,  5001., 16600.],\n",
       "       [ 1000.,    40.,   365., ...,  2080.,  3320., 15600.],\n",
       "       [ 2000.,    40.,   365., ...,  4601.,  4601., 16600.]])"
      ]
     },
     "execution_count": 261,
     "metadata": {},
     "output_type": "execute_result"
    }
   ],
   "source": [
    "np.concatenate((lending_co_data_numeric, lending_co_data_numeric_NAN), axis = 1)\n",
    "#new array have 12 column"
   ]
  },
  {
   "cell_type": "code",
   "execution_count": 262,
   "metadata": {},
   "outputs": [
    {
     "data": {
      "text/plain": [
       "(1043, 12)"
      ]
     },
     "execution_count": 262,
     "metadata": {},
     "output_type": "execute_result"
    }
   ],
   "source": [
    "np.concatenate((lending_co_data_numeric, lending_co_data_numeric_NAN), axis = 1).shape"
   ]
  },
  {
   "cell_type": "code",
   "execution_count": 273,
   "metadata": {},
   "outputs": [
    {
     "ename": "AxisError",
     "evalue": "axis 2 is out of bounds for array of dimension 2",
     "output_type": "error",
     "traceback": [
      "\u001b[1;31m---------------------------------------------------------------------------\u001b[0m",
      "\u001b[1;31mAxisError\u001b[0m                                 Traceback (most recent call last)",
      "\u001b[1;32m<ipython-input-273-9ba596228727>\u001b[0m in \u001b[0;36m<module>\u001b[1;34m\u001b[0m\n\u001b[1;32m----> 1\u001b[1;33m \u001b[0mnp\u001b[0m\u001b[1;33m.\u001b[0m\u001b[0mconcatenate\u001b[0m\u001b[1;33m(\u001b[0m\u001b[1;33m(\u001b[0m\u001b[0mlending_co_data_numeric\u001b[0m\u001b[1;33m,\u001b[0m \u001b[0mlending_co_data_numeric_NAN\u001b[0m\u001b[1;33m)\u001b[0m\u001b[1;33m,\u001b[0m \u001b[0maxis\u001b[0m \u001b[1;33m=\u001b[0m \u001b[1;36m2\u001b[0m\u001b[1;33m)\u001b[0m\u001b[1;33m\u001b[0m\u001b[1;33m\u001b[0m\u001b[0m\n\u001b[0m",
      "\u001b[1;32m<__array_function__ internals>\u001b[0m in \u001b[0;36mconcatenate\u001b[1;34m(*args, **kwargs)\u001b[0m\n",
      "\u001b[1;31mAxisError\u001b[0m: axis 2 is out of bounds for array of dimension 2"
     ]
    }
   ],
   "source": [
    "np.concatenate((lending_co_data_numeric, lending_co_data_numeric_NAN), axis = 2)"
   ]
  },
  {
   "cell_type": "code",
   "execution_count": null,
   "metadata": {},
   "outputs": [],
   "source": [
    "array_example_1 = np.array([[[1,2,3,4],[5,6,7,8],[9,10,11,12]],[[21,22,23,24],[25,26,27,28],[29,30,31,32]]])\n",
    "array_example_2 = array_example_1 * 2\n",
    "\n",
    "# We create 3-D arrays to showcase concatenate vs stacking"
   ]
  },
  {
   "cell_type": "code",
   "execution_count": 264,
   "metadata": {},
   "outputs": [
    {
     "data": {
      "text/plain": [
       "array([[[ 1,  2,  3,  4,  2,  4,  6,  8],\n",
       "        [ 5,  6,  7,  8, 10, 12, 14, 16],\n",
       "        [ 9, 10, 11, 12, 18, 20, 22, 24]],\n",
       "\n",
       "       [[21, 22, 23, 24, 42, 44, 46, 48],\n",
       "        [25, 26, 27, 28, 50, 52, 54, 56],\n",
       "        [29, 30, 31, 32, 58, 60, 62, 64]]])"
      ]
     },
     "execution_count": 264,
     "metadata": {},
     "output_type": "execute_result"
    }
   ],
   "source": [
    "np.concatenate((array_example_1, array_example_2), axis = 2)"
   ]
  },
  {
   "cell_type": "code",
   "execution_count": 274,
   "metadata": {},
   "outputs": [
    {
     "data": {
      "text/plain": [
       "array([[[ 1,  2,  3,  4],\n",
       "        [ 5,  6,  7,  8],\n",
       "        [ 9, 10, 11, 12],\n",
       "        [ 2,  4,  6,  8],\n",
       "        [10, 12, 14, 16],\n",
       "        [18, 20, 22, 24]],\n",
       "\n",
       "       [[21, 22, 23, 24],\n",
       "        [25, 26, 27, 28],\n",
       "        [29, 30, 31, 32],\n",
       "        [42, 44, 46, 48],\n",
       "        [50, 52, 54, 56],\n",
       "        [58, 60, 62, 64]]])"
      ]
     },
     "execution_count": 274,
     "metadata": {},
     "output_type": "execute_result"
    }
   ],
   "source": [
    "np.concatenate((array_example_1, array_example_2), axis = 1)"
   ]
  },
  {
   "cell_type": "code",
   "execution_count": 275,
   "metadata": {},
   "outputs": [
    {
     "data": {
      "text/plain": [
       "array([[[ 1,  2,  3,  4],\n",
       "        [ 5,  6,  7,  8],\n",
       "        [ 9, 10, 11, 12]],\n",
       "\n",
       "       [[21, 22, 23, 24],\n",
       "        [25, 26, 27, 28],\n",
       "        [29, 30, 31, 32]],\n",
       "\n",
       "       [[ 2,  4,  6,  8],\n",
       "        [10, 12, 14, 16],\n",
       "        [18, 20, 22, 24]],\n",
       "\n",
       "       [[42, 44, 46, 48],\n",
       "        [50, 52, 54, 56],\n",
       "        [58, 60, 62, 64]]])"
      ]
     },
     "execution_count": 275,
     "metadata": {},
     "output_type": "execute_result"
    }
   ],
   "source": [
    "np.vstack((array_example_1, array_example_2))"
   ]
  },
  {
   "cell_type": "code",
   "execution_count": 276,
   "metadata": {},
   "outputs": [
    {
     "data": {
      "text/plain": [
       "array([[[ 1,  2,  3,  4],\n",
       "        [ 5,  6,  7,  8],\n",
       "        [ 9, 10, 11, 12],\n",
       "        [ 2,  4,  6,  8],\n",
       "        [10, 12, 14, 16],\n",
       "        [18, 20, 22, 24]],\n",
       "\n",
       "       [[21, 22, 23, 24],\n",
       "        [25, 26, 27, 28],\n",
       "        [29, 30, 31, 32],\n",
       "        [42, 44, 46, 48],\n",
       "        [50, 52, 54, 56],\n",
       "        [58, 60, 62, 64]]])"
      ]
     },
     "execution_count": 276,
     "metadata": {},
     "output_type": "execute_result"
    }
   ],
   "source": [
    "np.hstack((array_example_1, array_example_2))"
   ]
  },
  {
   "cell_type": "code",
   "execution_count": 265,
   "metadata": {},
   "outputs": [
    {
     "data": {
      "text/plain": [
       "array([[[ 1,  2,  3,  4,  2,  4,  6,  8],\n",
       "        [ 5,  6,  7,  8, 10, 12, 14, 16],\n",
       "        [ 9, 10, 11, 12, 18, 20, 22, 24]],\n",
       "\n",
       "       [[21, 22, 23, 24, 42, 44, 46, 48],\n",
       "        [25, 26, 27, 28, 50, 52, 54, 56],\n",
       "        [29, 30, 31, 32, 58, 60, 62, 64]]])"
      ]
     },
     "execution_count": 265,
     "metadata": {},
     "output_type": "execute_result"
    }
   ],
   "source": [
    "np.dstack((array_example_1, array_example_2))\n",
    "#np.concatenate can reolicate the op 3 stacking function\n",
    "#no.concatenate work exact like stack depending on th ip nd axis argument\n",
    "# h stack= concatenate,axis =o\n",
    "# v stack= concatenate,axis =1\n",
    "# d stack= concatenate,axis =2\n",
    "# cocatinating input of diffrent shap\n",
    "# if two array have one d they dont need to hold the same number of element"
   ]
  },
  {
   "cell_type": "code",
   "execution_count": 277,
   "metadata": {},
   "outputs": [
    {
     "data": {
      "text/plain": [
       "array([2000.,   40.,  365., ..., 2000., 1000., 2000.])"
      ]
     },
     "execution_count": 277,
     "metadata": {},
     "output_type": "execute_result"
    }
   ],
   "source": [
    "np.concatenate((lending_co_data_numeric[0,:], lending_co_data_numeric[:,0]))\n",
    "#conctinating in 1 d array does not require the input to have the sam shap"
   ]
  },
  {
   "cell_type": "code",
   "execution_count": 279,
   "metadata": {},
   "outputs": [
    {
     "ename": "ValueError",
     "evalue": "all the input arrays must have same number of dimensions, but the array at index 0 has 2 dimension(s) and the array at index 1 has 1 dimension(s)",
     "output_type": "error",
     "traceback": [
      "\u001b[1;31m---------------------------------------------------------------------------\u001b[0m",
      "\u001b[1;31mValueError\u001b[0m                                Traceback (most recent call last)",
      "\u001b[1;32m<ipython-input-279-a2e58fdccc38>\u001b[0m in \u001b[0;36m<module>\u001b[1;34m\u001b[0m\n\u001b[1;32m----> 1\u001b[1;33m \u001b[0mnp\u001b[0m\u001b[1;33m.\u001b[0m\u001b[0mconcatenate\u001b[0m\u001b[1;33m(\u001b[0m\u001b[1;33m(\u001b[0m\u001b[0mlending_co_data_numeric\u001b[0m \u001b[1;33m,\u001b[0m \u001b[0mlending_co_data_numeric\u001b[0m\u001b[1;33m[\u001b[0m\u001b[1;33m:\u001b[0m\u001b[1;33m,\u001b[0m\u001b[1;36m0\u001b[0m\u001b[1;33m]\u001b[0m\u001b[1;33m)\u001b[0m\u001b[1;33m)\u001b[0m\u001b[1;33m\u001b[0m\u001b[1;33m\u001b[0m\u001b[0m\n\u001b[0m",
      "\u001b[1;32m<__array_function__ internals>\u001b[0m in \u001b[0;36mconcatenate\u001b[1;34m(*args, **kwargs)\u001b[0m\n",
      "\u001b[1;31mValueError\u001b[0m: all the input arrays must have same number of dimensions, but the array at index 0 has 2 dimension(s) and the array at index 1 has 1 dimension(s)"
     ]
    }
   ],
   "source": [
    "np.concatenate((lending_co_data_numeric , lending_co_data_numeric[:,0]))\n",
    "# if we have the array same dimension but diffrent shape can still concatinate the. but only if their dimesions match for the axis we are concatinating along"
   ]
  },
  {
   "cell_type": "code",
   "execution_count": 280,
   "metadata": {},
   "outputs": [
    {
     "ename": "ValueError",
     "evalue": "all the input array dimensions for the concatenation axis must match exactly, but along dimension 1, the array at index 0 has size 6 and the array at index 1 has size 1",
     "output_type": "error",
     "traceback": [
      "\u001b[1;31m---------------------------------------------------------------------------\u001b[0m",
      "\u001b[1;31mValueError\u001b[0m                                Traceback (most recent call last)",
      "\u001b[1;32m<ipython-input-280-d0d51dd95689>\u001b[0m in \u001b[0;36m<module>\u001b[1;34m\u001b[0m\n\u001b[1;32m----> 1\u001b[1;33m \u001b[0mnp\u001b[0m\u001b[1;33m.\u001b[0m\u001b[0mconcatenate\u001b[0m\u001b[1;33m(\u001b[0m\u001b[1;33m(\u001b[0m\u001b[0mlending_co_data_numeric\u001b[0m \u001b[1;33m,\u001b[0m \u001b[0mlending_co_data_numeric\u001b[0m\u001b[1;33m[\u001b[0m\u001b[1;33m:\u001b[0m\u001b[1;33m,\u001b[0m\u001b[1;33m:\u001b[0m\u001b[1;36m1\u001b[0m\u001b[1;33m]\u001b[0m\u001b[1;33m)\u001b[0m\u001b[1;33m)\u001b[0m\u001b[1;33m\u001b[0m\u001b[1;33m\u001b[0m\u001b[0m\n\u001b[0m",
      "\u001b[1;32m<__array_function__ internals>\u001b[0m in \u001b[0;36mconcatenate\u001b[1;34m(*args, **kwargs)\u001b[0m\n",
      "\u001b[1;31mValueError\u001b[0m: all the input array dimensions for the concatenation axis must match exactly, but along dimension 1, the array at index 0 has size 6 and the array at index 1 has size 1"
     ]
    }
   ],
   "source": [
    "np.concatenate((lending_co_data_numeric , lending_co_data_numeric[:,:1]))"
   ]
  },
  {
   "cell_type": "code",
   "execution_count": 278,
   "metadata": {},
   "outputs": [
    {
     "data": {
      "text/plain": [
       "array([[ 2000.,    40.,   365., ...,  4241., 13621.,  2000.],\n",
       "       [ 2000.,    40.,   365., ...,  4171., 15041.,  2000.],\n",
       "       [ 1000.,    40.,   365., ...,  3280., 15340.,  1000.],\n",
       "       ...,\n",
       "       [ 2000.,    40.,   365., ...,  5001., 16600.,  2000.],\n",
       "       [ 1000.,    40.,   365., ...,  3320., 15600.,  1000.],\n",
       "       [ 2000.,    40.,   365., ...,  4601., 16600.,  2000.]])"
      ]
     },
     "execution_count": 278,
     "metadata": {},
     "output_type": "execute_result"
    }
   ],
   "source": [
    "np.concatenate((lending_co_data_numeric, lending_co_data_numeric[:,:1]), axis = 1)\n",
    "#can switch the axis we are cocatinating along"
   ]
  },
  {
   "cell_type": "markdown",
   "metadata": {},
   "source": [
    "# Unique"
   ]
  },
  {
   "cell_type": "code",
   "execution_count": 267,
   "metadata": {},
   "outputs": [
    {
     "data": {
      "text/plain": [
       "array([[ 2000.,    40.,   365.,  3121.,  4241., 13621.],\n",
       "       [ 2000.,    40.,   365.,  3061.,  4171., 15041.],\n",
       "       [ 1000.,    40.,   365.,  2160.,  3280., 15340.],\n",
       "       ...,\n",
       "       [ 2000.,    40.,   365.,  4201.,  5001., 16600.],\n",
       "       [ 1000.,    40.,   365.,  2080.,  3320., 15600.],\n",
       "       [ 2000.,    40.,   365.,  4601.,  4601., 16600.]])"
      ]
     },
     "execution_count": 267,
     "metadata": {},
     "output_type": "execute_result"
    }
   ],
   "source": [
    "lending_co_data_numeric = np.loadtxt(\"Lending-company-Numeric.csv\", delimiter = ',') \n",
    "lending_co_data_numeric"
   ]
  },
  {
   "cell_type": "code",
   "execution_count": 282,
   "metadata": {},
   "outputs": [
    {
     "data": {
      "text/plain": [
       "array([-2870., -2550., -2450., ..., 52751., 54625., 64001.])"
      ]
     },
     "execution_count": 282,
     "metadata": {},
     "output_type": "execute_result"
    }
   ],
   "source": [
    "np.unique(lending_co_data_numeric)\n",
    "# increasing order"
   ]
  },
  {
   "cell_type": "code",
   "execution_count": 283,
   "metadata": {},
   "outputs": [
    {
     "data": {
      "text/plain": [
       "array([ 35.,  40.,  50., 125., 165.])"
      ]
     },
     "execution_count": 283,
     "metadata": {},
     "output_type": "execute_result"
    }
   ],
   "source": [
    "np.unique(lending_co_data_numeric[:,1])"
   ]
  },
  {
   "cell_type": "code",
   "execution_count": 284,
   "metadata": {},
   "outputs": [
    {
     "data": {
      "text/plain": [
       "(array([ 35.,  40.,  50., 125., 165.]),\n",
       " array([  4, 567, 451,  19,   2], dtype=int64))"
      ]
     },
     "execution_count": 284,
     "metadata": {},
     "output_type": "execute_result"
    }
   ],
   "source": [
    "np.unique(lending_co_data_numeric[:,1], return_counts = True)\n",
    "#Meanigful analysis of statistical analysis\n",
    "# more realestic approach than relaying on mean"
   ]
  },
  {
   "cell_type": "code",
   "execution_count": 268,
   "metadata": {},
   "outputs": [
    {
     "data": {
      "text/plain": [
       "(array([ 35.,  40.,  50., 125., 165.]),\n",
       " array([327,   0,   4,  19,  27], dtype=int64),\n",
       " array([  4, 567, 451,  19,   2], dtype=int64))"
      ]
     },
     "execution_count": 268,
     "metadata": {},
     "output_type": "execute_result"
    }
   ],
   "source": [
    "np.unique(lending_co_data_numeric[:,1], return_counts = True, return_index = True)\n",
    " # take array as input and create another array contain all unique value of first one\n",
    "\n",
    "# Unique -> returns the unique values within the array in increasing order\n",
    "# return_counts -> returns how many times each unique value appears in the array , the array with zero the index array\n",
    "# return_index -> returns the index of the first encounter with each unique value"
   ]
  },
  {
   "cell_type": "code",
   "execution_count": 269,
   "metadata": {},
   "outputs": [
    {
     "data": {
      "text/plain": [
       "array(['A1', 'A2', 'A3', 'AA1', 'B1', 'B2', 'B3', 'a1', 'a2', 'a3'],\n",
       "      dtype='<U3')"
      ]
     },
     "execution_count": 269,
     "metadata": {},
     "output_type": "execute_result"
    }
   ],
   "source": [
    "array_example = np.array([\"a1\", \"a3\",\"A1\",\"A3\",\"A3\",\"AA1\",\"B1\",\"A2\",\"B1\",\"A2\",\"B2\",\"B2\", \"B3\",\"a2\",\"a3\",\"B3\",\"B3\",\"a3\" ])\n",
    "np.unique(array_example)\n",
    "\n",
    "# If the values of the array are text, the unique function sorts them in \"alphabetical\" order by their ASCII codes. \n",
    "# A<a,A<B,a<B,3<A"
   ]
  },
  {
   "cell_type": "markdown",
   "metadata": {},
   "source": [
    "# Practical example"
   ]
  },
  {
   "cell_type": "code",
   "execution_count": 285,
   "metadata": {},
   "outputs": [],
   "source": [
    "import numpy as np"
   ]
  },
  {
   "cell_type": "code",
   "execution_count": 286,
   "metadata": {},
   "outputs": [],
   "source": [
    "np.set_printoptions(suppress = True, linewidth = 100, precision = 2)"
   ]
  },
  {
   "cell_type": "code",
   "execution_count": 287,
   "metadata": {},
   "outputs": [
    {
     "data": {
      "text/plain": [
       "array([[48010226.  ,         nan,    35000.  , ...,         nan,         nan,     9452.96],\n",
       "       [57693261.  ,         nan,    30000.  , ...,         nan,         nan,     4679.7 ],\n",
       "       [59432726.  ,         nan,    15000.  , ...,         nan,         nan,     1969.83],\n",
       "       ...,\n",
       "       [50415990.  ,         nan,    10000.  , ...,         nan,         nan,     2185.64],\n",
       "       [46154151.  ,         nan,         nan, ...,         nan,         nan,     3199.4 ],\n",
       "       [66055249.  ,         nan,    10000.  , ...,         nan,         nan,      301.9 ]])"
      ]
     },
     "execution_count": 287,
     "metadata": {},
     "output_type": "execute_result"
    }
   ],
   "source": [
    "raw_data_np = np.genfromtxt(\"loan-data.csv\", delimiter = ';', skip_header = 1, autostrip = True)\n",
    "raw_data_np"
   ]
  },
  {
   "cell_type": "markdown",
   "metadata": {},
   "source": [
    "# Checking for Incomplete Data"
   ]
  },
  {
   "cell_type": "code",
   "execution_count": 288,
   "metadata": {},
   "outputs": [
    {
     "data": {
      "text/plain": [
       "88005"
      ]
     },
     "execution_count": 288,
     "metadata": {},
     "output_type": "execute_result"
    }
   ],
   "source": [
    "np.isnan(raw_data_np).sum()"
   ]
  },
  {
   "cell_type": "code",
   "execution_count": 289,
   "metadata": {},
   "outputs": [
    {
     "name": "stderr",
     "output_type": "stream",
     "text": [
      "<ipython-input-289-eeff3b704aa1>:2: RuntimeWarning: Mean of empty slice\n",
      "  temporary_mean = np.nanmean(raw_data_np, axis = 0)\n"
     ]
    }
   ],
   "source": [
    "temporary_fill = np.nanmax(raw_data_np) + 1\n",
    "temporary_mean = np.nanmean(raw_data_np, axis = 0)"
   ]
  },
  {
   "cell_type": "code",
   "execution_count": 290,
   "metadata": {},
   "outputs": [
    {
     "data": {
      "text/plain": [
       "array([54015809.19,         nan,    15273.46,         nan,    15311.04,         nan,       16.62,\n",
       "            440.92,         nan,         nan,         nan,         nan,         nan,     3143.85])"
      ]
     },
     "execution_count": 290,
     "metadata": {},
     "output_type": "execute_result"
    }
   ],
   "source": [
    "temporary_mean"
   ]
  },
  {
   "cell_type": "code",
   "execution_count": 291,
   "metadata": {},
   "outputs": [
    {
     "name": "stderr",
     "output_type": "stream",
     "text": [
      "<ipython-input-291-f918bd68decf>:1: RuntimeWarning: All-NaN slice encountered\n",
      "  temporary_stats = np.array([np.nanmin(raw_data_np, axis = 0),\n",
      "<ipython-input-291-f918bd68decf>:3: RuntimeWarning: All-NaN slice encountered\n",
      "  np.nanmax(raw_data_np, axis = 0)])\n"
     ]
    }
   ],
   "source": [
    "temporary_stats = np.array([np.nanmin(raw_data_np, axis = 0),\n",
    "                           temporary_mean,\n",
    "                           np.nanmax(raw_data_np, axis = 0)])"
   ]
  },
  {
   "cell_type": "code",
   "execution_count": 292,
   "metadata": {},
   "outputs": [
    {
     "data": {
      "text/plain": [
       "array([[  373332.  ,         nan,     1000.  ,         nan,     1000.  ,         nan,        6.  ,\n",
       "              31.42,         nan,         nan,         nan,         nan,         nan,        0.  ],\n",
       "       [54015809.19,         nan,    15273.46,         nan,    15311.04,         nan,       16.62,\n",
       "             440.92,         nan,         nan,         nan,         nan,         nan,     3143.85],\n",
       "       [68616519.  ,         nan,    35000.  ,         nan,    35000.  ,         nan,       28.99,\n",
       "            1372.97,         nan,         nan,         nan,         nan,         nan,    41913.62]])"
      ]
     },
     "execution_count": 292,
     "metadata": {},
     "output_type": "execute_result"
    }
   ],
   "source": [
    "temporary_stats"
   ]
  },
  {
   "cell_type": "markdown",
   "metadata": {},
   "source": [
    "# Splitting the Dataset"
   ]
  },
  {
   "cell_type": "code",
   "execution_count": 295,
   "metadata": {},
   "outputs": [
    {
     "data": {
      "text/plain": [
       "array([ 1,  3,  5,  8,  9, 10, 11, 12], dtype=int64)"
      ]
     },
     "execution_count": 295,
     "metadata": {},
     "output_type": "execute_result"
    }
   ],
   "source": [
    "columns_strings = np.argwhere(np.isnan(temporary_mean)).squeeze()\n",
    "columns_strings"
   ]
  },
  {
   "cell_type": "code",
   "execution_count": 296,
   "metadata": {},
   "outputs": [
    {
     "data": {
      "text/plain": [
       "array([ 0,  2,  4,  6,  7, 13], dtype=int64)"
      ]
     },
     "execution_count": 296,
     "metadata": {},
     "output_type": "execute_result"
    }
   ],
   "source": [
    "columns_numeric = np.argwhere(np.isnan(temporary_mean) == False).squeeze()\n",
    "columns_numeric"
   ]
  },
  {
   "cell_type": "markdown",
   "metadata": {},
   "source": [
    "# Re-importing the Dataset"
   ]
  },
  {
   "cell_type": "code",
   "execution_count": 297,
   "metadata": {},
   "outputs": [
    {
     "name": "stderr",
     "output_type": "stream",
     "text": [
      "<ipython-input-297-e7554c1de410>:6: DeprecationWarning: `np.str` is a deprecated alias for the builtin `str`. To silence this warning, use `str` by itself. Doing this will not modify any behavior and is safe. If you specifically wanted the numpy scalar type, use `np.str_` here.\n",
      "Deprecated in NumPy 1.20; for more details and guidance: https://numpy.org/devdocs/release/1.20.0-notes.html#deprecations\n",
      "  dtype = np.str)\n"
     ]
    },
    {
     "data": {
      "text/plain": [
       "array([['May-15', 'Current', '36 months', ..., 'Verified',\n",
       "        'https://www.lendingclub.com/browse/loanDetail.action?loan_id=48010226', 'CA'],\n",
       "       ['', 'Current', '36 months', ..., 'Source Verified',\n",
       "        'https://www.lendingclub.com/browse/loanDetail.action?loan_id=57693261', 'NY'],\n",
       "       ['Sep-15', 'Current', '36 months', ..., 'Verified',\n",
       "        'https://www.lendingclub.com/browse/loanDetail.action?loan_id=59432726', 'PA'],\n",
       "       ...,\n",
       "       ['Jun-15', 'Current', '36 months', ..., 'Source Verified',\n",
       "        'https://www.lendingclub.com/browse/loanDetail.action?loan_id=50415990', 'CA'],\n",
       "       ['Apr-15', 'Current', '36 months', ..., 'Source Verified',\n",
       "        'https://www.lendingclub.com/browse/loanDetail.action?loan_id=46154151', 'OH'],\n",
       "       ['Dec-15', 'Current', '36 months', ..., '',\n",
       "        'https://www.lendingclub.com/browse/loanDetail.action?loan_id=66055249', 'IL']],\n",
       "      dtype='<U69')"
      ]
     },
     "execution_count": 297,
     "metadata": {},
     "output_type": "execute_result"
    }
   ],
   "source": [
    "loan_data_strings = np.genfromtxt(\"loan-data.csv\",\n",
    "                                  delimiter = ';',\n",
    "                                  skip_header = 1,\n",
    "                                  autostrip = True, \n",
    "                                  usecols = columns_strings,\n",
    "                                  dtype = np.str)\n",
    "loan_data_strings"
   ]
  },
  {
   "cell_type": "code",
   "execution_count": 298,
   "metadata": {},
   "outputs": [
    {
     "data": {
      "text/plain": [
       "array([[48010226.  ,    35000.  ,    35000.  ,       13.33,     1184.86,     9452.96],\n",
       "       [57693261.  ,    30000.  ,    30000.  , 68616520.  ,      938.57,     4679.7 ],\n",
       "       [59432726.  ,    15000.  ,    15000.  , 68616520.  ,      494.86,     1969.83],\n",
       "       ...,\n",
       "       [50415990.  ,    10000.  ,    10000.  , 68616520.  , 68616520.  ,     2185.64],\n",
       "       [46154151.  , 68616520.  ,    10000.  ,       16.55,      354.3 ,     3199.4 ],\n",
       "       [66055249.  ,    10000.  ,    10000.  , 68616520.  ,      309.97,      301.9 ]])"
      ]
     },
     "execution_count": 298,
     "metadata": {},
     "output_type": "execute_result"
    }
   ],
   "source": [
    "loan_data_numeric = np.genfromtxt(\"loan-data.csv\",\n",
    "                                  delimiter = ';',\n",
    "                                  autostrip = True,\n",
    "                                  skip_header = 1,\n",
    "                                  usecols = columns_numeric,\n",
    "                                  filling_values = temporary_fill)\n",
    "loan_data_numeric"
   ]
  },
  {
   "cell_type": "markdown",
   "metadata": {},
   "source": [
    "# The Names of the Columns"
   ]
  },
  {
   "cell_type": "code",
   "execution_count": 299,
   "metadata": {},
   "outputs": [
    {
     "name": "stderr",
     "output_type": "stream",
     "text": [
      "<ipython-input-299-3a91cc009f5e>:5: DeprecationWarning: `np.str` is a deprecated alias for the builtin `str`. To silence this warning, use `str` by itself. Doing this will not modify any behavior and is safe. If you specifically wanted the numpy scalar type, use `np.str_` here.\n",
      "Deprecated in NumPy 1.20; for more details and guidance: https://numpy.org/devdocs/release/1.20.0-notes.html#deprecations\n",
      "  dtype = np.str)\n"
     ]
    },
    {
     "data": {
      "text/plain": [
       "array(['id', 'issue_d', 'loan_amnt', 'loan_status', 'funded_amnt', 'term', 'int_rate',\n",
       "       'installment', 'grade', 'sub_grade', 'verification_status', 'url', 'addr_state',\n",
       "       'total_pymnt'], dtype='<U19')"
      ]
     },
     "execution_count": 299,
     "metadata": {},
     "output_type": "execute_result"
    }
   ],
   "source": [
    "header_full = np.genfromtxt(\"loan-data.csv\",\n",
    "                            delimiter = ';',\n",
    "                            autostrip = True,\n",
    "                            skip_footer = raw_data_np.shape[0],\n",
    "                            dtype = np.str)\n",
    "header_full"
   ]
  },
  {
   "cell_type": "code",
   "execution_count": 300,
   "metadata": {},
   "outputs": [],
   "source": [
    "header_strings, header_numeric = header_full[columns_strings], header_full[columns_numeric]"
   ]
  },
  {
   "cell_type": "code",
   "execution_count": 301,
   "metadata": {},
   "outputs": [
    {
     "data": {
      "text/plain": [
       "array(['issue_d', 'loan_status', 'term', 'grade', 'sub_grade', 'verification_status', 'url',\n",
       "       'addr_state'], dtype='<U19')"
      ]
     },
     "execution_count": 301,
     "metadata": {},
     "output_type": "execute_result"
    }
   ],
   "source": [
    "header_strings"
   ]
  },
  {
   "cell_type": "code",
   "execution_count": 302,
   "metadata": {},
   "outputs": [
    {
     "data": {
      "text/plain": [
       "array(['id', 'loan_amnt', 'funded_amnt', 'int_rate', 'installment', 'total_pymnt'], dtype='<U19')"
      ]
     },
     "execution_count": 302,
     "metadata": {},
     "output_type": "execute_result"
    }
   ],
   "source": [
    "header_numeric"
   ]
  },
  {
   "cell_type": "markdown",
   "metadata": {},
   "source": [
    "# Creating Checkpoints:"
   ]
  },
  {
   "cell_type": "code",
   "execution_count": 303,
   "metadata": {},
   "outputs": [],
   "source": [
    "def checkpoint(file_name, checkpoint_header, checkpoint_data):\n",
    "    np.savez(file_name, header = checkpoint_header, data = checkpoint_data)\n",
    "    checkpoint_variable = np.load(file_name + \".npz\")\n",
    "    return(checkpoint_variable)"
   ]
  },
  {
   "cell_type": "code",
   "execution_count": 304,
   "metadata": {},
   "outputs": [],
   "source": [
    "checkpoint_test = checkpoint(\"checkpoint-test\", header_strings, loan_data_strings)"
   ]
  },
  {
   "cell_type": "code",
   "execution_count": 305,
   "metadata": {},
   "outputs": [
    {
     "data": {
      "text/plain": [
       "array([['May-15', 'Current', '36 months', ..., 'Verified',\n",
       "        'https://www.lendingclub.com/browse/loanDetail.action?loan_id=48010226', 'CA'],\n",
       "       ['', 'Current', '36 months', ..., 'Source Verified',\n",
       "        'https://www.lendingclub.com/browse/loanDetail.action?loan_id=57693261', 'NY'],\n",
       "       ['Sep-15', 'Current', '36 months', ..., 'Verified',\n",
       "        'https://www.lendingclub.com/browse/loanDetail.action?loan_id=59432726', 'PA'],\n",
       "       ...,\n",
       "       ['Jun-15', 'Current', '36 months', ..., 'Source Verified',\n",
       "        'https://www.lendingclub.com/browse/loanDetail.action?loan_id=50415990', 'CA'],\n",
       "       ['Apr-15', 'Current', '36 months', ..., 'Source Verified',\n",
       "        'https://www.lendingclub.com/browse/loanDetail.action?loan_id=46154151', 'OH'],\n",
       "       ['Dec-15', 'Current', '36 months', ..., '',\n",
       "        'https://www.lendingclub.com/browse/loanDetail.action?loan_id=66055249', 'IL']],\n",
       "      dtype='<U69')"
      ]
     },
     "execution_count": 305,
     "metadata": {},
     "output_type": "execute_result"
    }
   ],
   "source": [
    "checkpoint_test['data']"
   ]
  },
  {
   "cell_type": "code",
   "execution_count": 306,
   "metadata": {},
   "outputs": [
    {
     "data": {
      "text/plain": [
       "True"
      ]
     },
     "execution_count": 306,
     "metadata": {},
     "output_type": "execute_result"
    }
   ],
   "source": [
    "np.array_equal(checkpoint_test['data'], loan_data_strings)"
   ]
  },
  {
   "cell_type": "markdown",
   "metadata": {},
   "source": [
    "# Manipulating String Columns"
   ]
  },
  {
   "cell_type": "code",
   "execution_count": 307,
   "metadata": {},
   "outputs": [
    {
     "data": {
      "text/plain": [
       "array(['issue_d', 'loan_status', 'term', 'grade', 'sub_grade', 'verification_status', 'url',\n",
       "       'addr_state'], dtype='<U19')"
      ]
     },
     "execution_count": 307,
     "metadata": {},
     "output_type": "execute_result"
    }
   ],
   "source": [
    "header_strings"
   ]
  },
  {
   "cell_type": "code",
   "execution_count": 308,
   "metadata": {},
   "outputs": [],
   "source": [
    "header_strings[0] = \"issue_date\""
   ]
  },
  {
   "cell_type": "code",
   "execution_count": 309,
   "metadata": {},
   "outputs": [
    {
     "data": {
      "text/plain": [
       "array([['May-15', 'Current', '36 months', ..., 'Verified',\n",
       "        'https://www.lendingclub.com/browse/loanDetail.action?loan_id=48010226', 'CA'],\n",
       "       ['', 'Current', '36 months', ..., 'Source Verified',\n",
       "        'https://www.lendingclub.com/browse/loanDetail.action?loan_id=57693261', 'NY'],\n",
       "       ['Sep-15', 'Current', '36 months', ..., 'Verified',\n",
       "        'https://www.lendingclub.com/browse/loanDetail.action?loan_id=59432726', 'PA'],\n",
       "       ...,\n",
       "       ['Jun-15', 'Current', '36 months', ..., 'Source Verified',\n",
       "        'https://www.lendingclub.com/browse/loanDetail.action?loan_id=50415990', 'CA'],\n",
       "       ['Apr-15', 'Current', '36 months', ..., 'Source Verified',\n",
       "        'https://www.lendingclub.com/browse/loanDetail.action?loan_id=46154151', 'OH'],\n",
       "       ['Dec-15', 'Current', '36 months', ..., '',\n",
       "        'https://www.lendingclub.com/browse/loanDetail.action?loan_id=66055249', 'IL']],\n",
       "      dtype='<U69')"
      ]
     },
     "execution_count": 309,
     "metadata": {},
     "output_type": "execute_result"
    }
   ],
   "source": [
    "loan_data_strings"
   ]
  },
  {
   "cell_type": "markdown",
   "metadata": {},
   "source": [
    "# Issue Date"
   ]
  },
  {
   "cell_type": "code",
   "execution_count": 311,
   "metadata": {},
   "outputs": [
    {
     "data": {
      "text/plain": [
       "array(['', 'Apr-15', 'Aug-15', 'Dec-15', 'Feb-15', 'Jan-15', 'Jul-15', 'Jun-15', 'Mar-15',\n",
       "       'May-15', 'Nov-15', 'Oct-15', 'Sep-15'], dtype='<U69')"
      ]
     },
     "execution_count": 311,
     "metadata": {},
     "output_type": "execute_result"
    }
   ],
   "source": [
    "np.unique(loan_data_strings[:,0])"
   ]
  },
  {
   "cell_type": "code",
   "execution_count": 312,
   "metadata": {},
   "outputs": [],
   "source": [
    "loan_data_strings[:,0] = np.chararray.strip(loan_data_strings[:,0], \"-15\")"
   ]
  },
  {
   "cell_type": "code",
   "execution_count": 313,
   "metadata": {},
   "outputs": [
    {
     "data": {
      "text/plain": [
       "array(['', 'Apr', 'Aug', 'Dec', 'Feb', 'Jan', 'Jul', 'Jun', 'Mar', 'May', 'Nov', 'Oct', 'Sep'],\n",
       "      dtype='<U69')"
      ]
     },
     "execution_count": 313,
     "metadata": {},
     "output_type": "execute_result"
    }
   ],
   "source": [
    "np.unique(loan_data_strings[:,0])"
   ]
  },
  {
   "cell_type": "code",
   "execution_count": 314,
   "metadata": {},
   "outputs": [],
   "source": [
    "months = np.array(['', 'Jan', 'Feb', 'Mar', 'Apr', 'May', 'Jun', 'Jul', 'Aug', 'Sep', 'Oct', 'Nov', 'Dec'])"
   ]
  },
  {
   "cell_type": "code",
   "execution_count": 315,
   "metadata": {},
   "outputs": [],
   "source": [
    "for i in range(13):\n",
    "        loan_data_strings[:,0] = np.where(loan_data_strings[:,0] == months[i],\n",
    "                                          i,\n",
    "                                          loan_data_strings[:,0])"
   ]
  },
  {
   "cell_type": "code",
   "execution_count": 316,
   "metadata": {},
   "outputs": [
    {
     "data": {
      "text/plain": [
       "array(['0', '1', '10', '11', '12', '2', '3', '4', '5', '6', '7', '8', '9'], dtype='<U69')"
      ]
     },
     "execution_count": 316,
     "metadata": {},
     "output_type": "execute_result"
    }
   ],
   "source": [
    "np.unique(loan_data_strings[:,0])"
   ]
  },
  {
   "cell_type": "markdown",
   "metadata": {},
   "source": [
    "# Loan Status"
   ]
  },
  {
   "cell_type": "code",
   "execution_count": 317,
   "metadata": {},
   "outputs": [
    {
     "data": {
      "text/plain": [
       "array(['issue_date', 'loan_status', 'term', 'grade', 'sub_grade', 'verification_status', 'url',\n",
       "       'addr_state'], dtype='<U19')"
      ]
     },
     "execution_count": 317,
     "metadata": {},
     "output_type": "execute_result"
    }
   ],
   "source": [
    "header_strings"
   ]
  },
  {
   "cell_type": "code",
   "execution_count": 318,
   "metadata": {},
   "outputs": [
    {
     "data": {
      "text/plain": [
       "array(['', 'Charged Off', 'Current', 'Default', 'Fully Paid', 'In Grace Period', 'Issued',\n",
       "       'Late (16-30 days)', 'Late (31-120 days)'], dtype='<U69')"
      ]
     },
     "execution_count": 318,
     "metadata": {},
     "output_type": "execute_result"
    }
   ],
   "source": [
    "np.unique(loan_data_strings[:,1])"
   ]
  },
  {
   "cell_type": "code",
   "execution_count": 319,
   "metadata": {},
   "outputs": [
    {
     "data": {
      "text/plain": [
       "9"
      ]
     },
     "execution_count": 319,
     "metadata": {},
     "output_type": "execute_result"
    }
   ],
   "source": [
    "np.unique(loan_data_strings[:,1]).size"
   ]
  },
  {
   "cell_type": "code",
   "execution_count": 320,
   "metadata": {},
   "outputs": [],
   "source": [
    "status_bad = np.array(['','Charged Off','Default','Late (31-120 days)'])"
   ]
  },
  {
   "cell_type": "code",
   "execution_count": 321,
   "metadata": {},
   "outputs": [],
   "source": [
    "loan_data_strings[:,1] = np.where(np.isin(loan_data_strings[:,1], status_bad),0,1)"
   ]
  },
  {
   "cell_type": "code",
   "execution_count": 322,
   "metadata": {},
   "outputs": [
    {
     "data": {
      "text/plain": [
       "array(['0', '1'], dtype='<U69')"
      ]
     },
     "execution_count": 322,
     "metadata": {},
     "output_type": "execute_result"
    }
   ],
   "source": [
    "np.unique(loan_data_strings[:,1])"
   ]
  },
  {
   "cell_type": "markdown",
   "metadata": {},
   "source": [
    "# Term"
   ]
  },
  {
   "cell_type": "code",
   "execution_count": 323,
   "metadata": {},
   "outputs": [
    {
     "data": {
      "text/plain": [
       "array(['issue_date', 'loan_status', 'term', 'grade', 'sub_grade', 'verification_status', 'url',\n",
       "       'addr_state'], dtype='<U19')"
      ]
     },
     "execution_count": 323,
     "metadata": {},
     "output_type": "execute_result"
    }
   ],
   "source": [
    "header_strings"
   ]
  },
  {
   "cell_type": "code",
   "execution_count": 324,
   "metadata": {},
   "outputs": [
    {
     "data": {
      "text/plain": [
       "array(['', '36 months', '60 months'], dtype='<U69')"
      ]
     },
     "execution_count": 324,
     "metadata": {},
     "output_type": "execute_result"
    }
   ],
   "source": [
    "np.unique(loan_data_strings[:,2])"
   ]
  },
  {
   "cell_type": "code",
   "execution_count": 325,
   "metadata": {},
   "outputs": [
    {
     "data": {
      "text/plain": [
       "array(['36', '36', '36', ..., '36', '36', '36'], dtype='<U69')"
      ]
     },
     "execution_count": 325,
     "metadata": {},
     "output_type": "execute_result"
    }
   ],
   "source": [
    "loan_data_strings[:,2] = np.chararray.strip(loan_data_strings[:,2], \" months\")\n",
    "loan_data_strings[:,2]"
   ]
  },
  {
   "cell_type": "code",
   "execution_count": 327,
   "metadata": {},
   "outputs": [],
   "source": [
    "header_strings[2] = \"term_months\""
   ]
  },
  {
   "cell_type": "code",
   "execution_count": 328,
   "metadata": {},
   "outputs": [
    {
     "data": {
      "text/plain": [
       "array(['36', '36', '36', ..., '36', '36', '36'], dtype='<U69')"
      ]
     },
     "execution_count": 328,
     "metadata": {},
     "output_type": "execute_result"
    }
   ],
   "source": [
    "loan_data_strings[:,2] = np.where(loan_data_strings[:,2] == '', \n",
    "                                  '60', \n",
    "                                  loan_data_strings[:,2])\n",
    "loan_data_strings[:,2]"
   ]
  },
  {
   "cell_type": "code",
   "execution_count": 329,
   "metadata": {},
   "outputs": [
    {
     "data": {
      "text/plain": [
       "array(['36', '60'], dtype='<U69')"
      ]
     },
     "execution_count": 329,
     "metadata": {},
     "output_type": "execute_result"
    }
   ],
   "source": [
    "np.unique(loan_data_strings[:,2])"
   ]
  },
  {
   "cell_type": "markdown",
   "metadata": {},
   "source": [
    "# Grade and Subgrade"
   ]
  },
  {
   "cell_type": "code",
   "execution_count": 330,
   "metadata": {},
   "outputs": [
    {
     "data": {
      "text/plain": [
       "array(['issue_date', 'loan_status', 'term_months', 'grade', 'sub_grade', 'verification_status',\n",
       "       'url', 'addr_state'], dtype='<U19')"
      ]
     },
     "execution_count": 330,
     "metadata": {},
     "output_type": "execute_result"
    }
   ],
   "source": [
    "header_strings"
   ]
  },
  {
   "cell_type": "code",
   "execution_count": 331,
   "metadata": {},
   "outputs": [
    {
     "data": {
      "text/plain": [
       "array(['', 'A', 'B', 'C', 'D', 'E', 'F', 'G'], dtype='<U69')"
      ]
     },
     "execution_count": 331,
     "metadata": {},
     "output_type": "execute_result"
    }
   ],
   "source": [
    "np.unique(loan_data_strings[:,3])"
   ]
  },
  {
   "cell_type": "code",
   "execution_count": 332,
   "metadata": {},
   "outputs": [
    {
     "data": {
      "text/plain": [
       "array(['', 'A1', 'A2', 'A3', 'A4', 'A5', 'B1', 'B2', 'B3', 'B4', 'B5', 'C1', 'C2', 'C3', 'C4',\n",
       "       'C5', 'D1', 'D2', 'D3', 'D4', 'D5', 'E1', 'E2', 'E3', 'E4', 'E5', 'F1', 'F2', 'F3', 'F4',\n",
       "       'F5', 'G1', 'G2', 'G3', 'G4', 'G5'], dtype='<U69')"
      ]
     },
     "execution_count": 332,
     "metadata": {},
     "output_type": "execute_result"
    }
   ],
   "source": [
    "np.unique(loan_data_strings[:,4])"
   ]
  },
  {
   "cell_type": "markdown",
   "metadata": {},
   "source": [
    "# Filling Sub Grade"
   ]
  },
  {
   "cell_type": "code",
   "execution_count": 333,
   "metadata": {},
   "outputs": [],
   "source": [
    "for i in np.unique(loan_data_strings[:,3])[1:]:\n",
    "    loan_data_strings[:,4] = np.where((loan_data_strings[:,4] == '') & (loan_data_strings[:,3] == i),\n",
    "                                      i + '5',\n",
    "                                      loan_data_strings[:,4])"
   ]
  },
  {
   "cell_type": "code",
   "execution_count": 334,
   "metadata": {},
   "outputs": [
    {
     "data": {
      "text/plain": [
       "(array(['', 'A1', 'A2', 'A3', 'A4', 'A5', 'B1', 'B2', 'B3', 'B4', 'B5', 'C1', 'C2', 'C3', 'C4',\n",
       "        'C5', 'D1', 'D2', 'D3', 'D4', 'D5', 'E1', 'E2', 'E3', 'E4', 'E5', 'F1', 'F2', 'F3', 'F4',\n",
       "        'F5', 'G1', 'G2', 'G3', 'G4', 'G5'], dtype='<U69'),\n",
       " array([  9, 285, 278, 239, 323, 592, 509, 517, 530, 553, 633, 629, 567, 586, 564, 577, 391, 267,\n",
       "        250, 255, 288, 235, 162, 171, 139, 160,  94,  52,  34,  43,  24,  19,  10,   3,   7,   5],\n",
       "       dtype=int64))"
      ]
     },
     "execution_count": 334,
     "metadata": {},
     "output_type": "execute_result"
    }
   ],
   "source": [
    "np.unique(loan_data_strings[:,4], return_counts = True)"
   ]
  },
  {
   "cell_type": "code",
   "execution_count": 335,
   "metadata": {},
   "outputs": [],
   "source": [
    "loan_data_strings[:,4] = np.where(loan_data_strings[:,4] == '',\n",
    "                                  'H1',\n",
    "                                  loan_data_strings[:,4])"
   ]
  },
  {
   "cell_type": "code",
   "execution_count": 336,
   "metadata": {},
   "outputs": [
    {
     "data": {
      "text/plain": [
       "array(['A1', 'A2', 'A3', 'A4', 'A5', 'B1', 'B2', 'B3', 'B4', 'B5', 'C1', 'C2', 'C3', 'C4', 'C5',\n",
       "       'D1', 'D2', 'D3', 'D4', 'D5', 'E1', 'E2', 'E3', 'E4', 'E5', 'F1', 'F2', 'F3', 'F4', 'F5',\n",
       "       'G1', 'G2', 'G3', 'G4', 'G5', 'H1'], dtype='<U69')"
      ]
     },
     "execution_count": 336,
     "metadata": {},
     "output_type": "execute_result"
    }
   ],
   "source": [
    "np.unique(loan_data_strings[:,4])"
   ]
  },
  {
   "cell_type": "markdown",
   "metadata": {},
   "source": [
    "# Removing Grade"
   ]
  },
  {
   "cell_type": "code",
   "execution_count": 337,
   "metadata": {},
   "outputs": [],
   "source": [
    "loan_data_strings = np.delete(loan_data_strings, 3, axis = 1)"
   ]
  },
  {
   "cell_type": "code",
   "execution_count": 338,
   "metadata": {},
   "outputs": [
    {
     "data": {
      "text/plain": [
       "array(['C3', 'A5', 'B5', ..., 'A5', 'D2', 'A4'], dtype='<U69')"
      ]
     },
     "execution_count": 338,
     "metadata": {},
     "output_type": "execute_result"
    }
   ],
   "source": [
    "loan_data_strings[:,3]"
   ]
  },
  {
   "cell_type": "code",
   "execution_count": 339,
   "metadata": {},
   "outputs": [],
   "source": [
    "header_strings = np.delete(header_strings, 3)"
   ]
  },
  {
   "cell_type": "code",
   "execution_count": 340,
   "metadata": {},
   "outputs": [
    {
     "data": {
      "text/plain": [
       "'sub_grade'"
      ]
     },
     "execution_count": 340,
     "metadata": {},
     "output_type": "execute_result"
    }
   ],
   "source": [
    "header_strings[3]"
   ]
  },
  {
   "cell_type": "markdown",
   "metadata": {},
   "source": [
    "# Converting Sub Grade"
   ]
  },
  {
   "cell_type": "code",
   "execution_count": 341,
   "metadata": {},
   "outputs": [
    {
     "data": {
      "text/plain": [
       "array(['A1', 'A2', 'A3', 'A4', 'A5', 'B1', 'B2', 'B3', 'B4', 'B5', 'C1', 'C2', 'C3', 'C4', 'C5',\n",
       "       'D1', 'D2', 'D3', 'D4', 'D5', 'E1', 'E2', 'E3', 'E4', 'E5', 'F1', 'F2', 'F3', 'F4', 'F5',\n",
       "       'G1', 'G2', 'G3', 'G4', 'G5', 'H1'], dtype='<U69')"
      ]
     },
     "execution_count": 341,
     "metadata": {},
     "output_type": "execute_result"
    }
   ],
   "source": [
    "np.unique(loan_data_strings[:,3])"
   ]
  },
  {
   "cell_type": "code",
   "execution_count": 342,
   "metadata": {},
   "outputs": [],
   "source": [
    "keys = list(np.unique(loan_data_strings[:,3]))                         \n",
    "values = list(range(1, np.unique(loan_data_strings[:,3]).shape[0] + 1)) \n",
    "dict_sub_grade = dict(zip(keys, values))"
   ]
  },
  {
   "cell_type": "code",
   "execution_count": 343,
   "metadata": {},
   "outputs": [
    {
     "data": {
      "text/plain": [
       "{'A1': 1,\n",
       " 'A2': 2,\n",
       " 'A3': 3,\n",
       " 'A4': 4,\n",
       " 'A5': 5,\n",
       " 'B1': 6,\n",
       " 'B2': 7,\n",
       " 'B3': 8,\n",
       " 'B4': 9,\n",
       " 'B5': 10,\n",
       " 'C1': 11,\n",
       " 'C2': 12,\n",
       " 'C3': 13,\n",
       " 'C4': 14,\n",
       " 'C5': 15,\n",
       " 'D1': 16,\n",
       " 'D2': 17,\n",
       " 'D3': 18,\n",
       " 'D4': 19,\n",
       " 'D5': 20,\n",
       " 'E1': 21,\n",
       " 'E2': 22,\n",
       " 'E3': 23,\n",
       " 'E4': 24,\n",
       " 'E5': 25,\n",
       " 'F1': 26,\n",
       " 'F2': 27,\n",
       " 'F3': 28,\n",
       " 'F4': 29,\n",
       " 'F5': 30,\n",
       " 'G1': 31,\n",
       " 'G2': 32,\n",
       " 'G3': 33,\n",
       " 'G4': 34,\n",
       " 'G5': 35,\n",
       " 'H1': 36}"
      ]
     },
     "execution_count": 343,
     "metadata": {},
     "output_type": "execute_result"
    }
   ],
   "source": [
    "dict_sub_grade"
   ]
  },
  {
   "cell_type": "code",
   "execution_count": 344,
   "metadata": {},
   "outputs": [],
   "source": [
    "for i in np.unique(loan_data_strings[:,3]):\n",
    "        loan_data_strings[:,3] = np.where(loan_data_strings[:,3] == i, \n",
    "                                          dict_sub_grade[i],\n",
    "                                          loan_data_strings[:,3])"
   ]
  },
  {
   "cell_type": "code",
   "execution_count": 345,
   "metadata": {},
   "outputs": [
    {
     "data": {
      "text/plain": [
       "array(['1', '10', '11', '12', '13', '14', '15', '16', '17', '18', '19', '2', '20', '21', '22',\n",
       "       '23', '24', '25', '26', '27', '28', '29', '3', '30', '31', '32', '33', '34', '35', '36',\n",
       "       '4', '5', '6', '7', '8', '9'], dtype='<U69')"
      ]
     },
     "execution_count": 345,
     "metadata": {},
     "output_type": "execute_result"
    }
   ],
   "source": [
    "np.unique(loan_data_strings[:,3])"
   ]
  },
  {
   "cell_type": "markdown",
   "metadata": {},
   "source": [
    "# Verification Status"
   ]
  },
  {
   "cell_type": "code",
   "execution_count": 346,
   "metadata": {},
   "outputs": [
    {
     "data": {
      "text/plain": [
       "array(['issue_date', 'loan_status', 'term_months', 'sub_grade', 'verification_status', 'url',\n",
       "       'addr_state'], dtype='<U19')"
      ]
     },
     "execution_count": 346,
     "metadata": {},
     "output_type": "execute_result"
    }
   ],
   "source": [
    "header_strings"
   ]
  },
  {
   "cell_type": "code",
   "execution_count": 347,
   "metadata": {},
   "outputs": [
    {
     "data": {
      "text/plain": [
       "array(['', 'Not Verified', 'Source Verified', 'Verified'], dtype='<U69')"
      ]
     },
     "execution_count": 347,
     "metadata": {},
     "output_type": "execute_result"
    }
   ],
   "source": [
    "np.unique(loan_data_strings[:,4])"
   ]
  },
  {
   "cell_type": "code",
   "execution_count": 348,
   "metadata": {},
   "outputs": [
    {
     "data": {
      "text/plain": [
       "array(['', 'Not Verified', 'Source Verified', 'Verified'], dtype='<U69')"
      ]
     },
     "execution_count": 348,
     "metadata": {},
     "output_type": "execute_result"
    }
   ],
   "source": [
    "np.unique(loan_data_strings[:,4])"
   ]
  },
  {
   "cell_type": "markdown",
   "metadata": {},
   "source": [
    "# URL"
   ]
  },
  {
   "cell_type": "code",
   "execution_count": 349,
   "metadata": {},
   "outputs": [
    {
     "data": {
      "text/plain": [
       "array(['https://www.lendingclub.com/browse/loanDetail.action?loan_id=48010226',\n",
       "       'https://www.lendingclub.com/browse/loanDetail.action?loan_id=57693261',\n",
       "       'https://www.lendingclub.com/browse/loanDetail.action?loan_id=59432726', ...,\n",
       "       'https://www.lendingclub.com/browse/loanDetail.action?loan_id=50415990',\n",
       "       'https://www.lendingclub.com/browse/loanDetail.action?loan_id=46154151',\n",
       "       'https://www.lendingclub.com/browse/loanDetail.action?loan_id=66055249'], dtype='<U69')"
      ]
     },
     "execution_count": 349,
     "metadata": {},
     "output_type": "execute_result"
    }
   ],
   "source": [
    "loan_data_strings[:,5]"
   ]
  },
  {
   "cell_type": "code",
   "execution_count": 350,
   "metadata": {},
   "outputs": [
    {
     "data": {
      "text/plain": [
       "chararray(['48010226', '57693261', '59432726', ..., '50415990', '46154151', '66055249'],\n",
       "          dtype='<U69')"
      ]
     },
     "execution_count": 350,
     "metadata": {},
     "output_type": "execute_result"
    }
   ],
   "source": [
    "np.chararray.strip(loan_data_strings[:,5], \"https://www.lendingclub.com/browse/loanDetail.action?loan_id=\")"
   ]
  },
  {
   "cell_type": "code",
   "execution_count": 351,
   "metadata": {},
   "outputs": [],
   "source": [
    "loan_data_strings[:,5] = np.chararray.strip(loan_data_strings[:,5], \"https://www.lendingclub.com/browse/loanDetail.action?loan_id=\")"
   ]
  },
  {
   "cell_type": "code",
   "execution_count": 352,
   "metadata": {},
   "outputs": [
    {
     "data": {
      "text/plain": [
       "array(['id', 'issue_d', 'loan_amnt', 'loan_status', 'funded_amnt', 'term', 'int_rate',\n",
       "       'installment', 'grade', 'sub_grade', 'verification_status', 'url', 'addr_state',\n",
       "       'total_pymnt'], dtype='<U19')"
      ]
     },
     "execution_count": 352,
     "metadata": {},
     "output_type": "execute_result"
    }
   ],
   "source": [
    "header_full"
   ]
  },
  {
   "cell_type": "code",
   "execution_count": 353,
   "metadata": {},
   "outputs": [
    {
     "data": {
      "text/plain": [
       "array([48010226, 57693261, 59432726, ..., 50415990, 46154151, 66055249])"
      ]
     },
     "execution_count": 353,
     "metadata": {},
     "output_type": "execute_result"
    }
   ],
   "source": [
    "loan_data_numeric[:,0].astype(dtype = np.int32)"
   ]
  },
  {
   "cell_type": "code",
   "execution_count": 354,
   "metadata": {},
   "outputs": [
    {
     "data": {
      "text/plain": [
       "array([48010226, 57693261, 59432726, ..., 50415990, 46154151, 66055249])"
      ]
     },
     "execution_count": 354,
     "metadata": {},
     "output_type": "execute_result"
    }
   ],
   "source": [
    "loan_data_strings[:,5].astype(dtype = np.int32)"
   ]
  },
  {
   "cell_type": "code",
   "execution_count": 355,
   "metadata": {},
   "outputs": [
    {
     "data": {
      "text/plain": [
       "True"
      ]
     },
     "execution_count": 355,
     "metadata": {},
     "output_type": "execute_result"
    }
   ],
   "source": [
    "np.array_equal(loan_data_numeric[:,0].astype(dtype = np.int32), loan_data_strings[:,5].astype(dtype = np.int32))"
   ]
  },
  {
   "cell_type": "code",
   "execution_count": 356,
   "metadata": {},
   "outputs": [],
   "source": [
    "loan_data_strings = np.delete(loan_data_strings, 5, axis = 1)\n",
    "header_strings = np.delete(header_strings, 5)"
   ]
  },
  {
   "cell_type": "code",
   "execution_count": 357,
   "metadata": {},
   "outputs": [
    {
     "data": {
      "text/plain": [
       "array(['CA', 'NY', 'PA', ..., 'CA', 'OH', 'IL'], dtype='<U69')"
      ]
     },
     "execution_count": 357,
     "metadata": {},
     "output_type": "execute_result"
    }
   ],
   "source": [
    "loan_data_strings[:,5]"
   ]
  },
  {
   "cell_type": "code",
   "execution_count": 358,
   "metadata": {},
   "outputs": [
    {
     "data": {
      "text/plain": [
       "array(['issue_date', 'loan_status', 'term_months', 'sub_grade', 'verification_status',\n",
       "       'addr_state'], dtype='<U19')"
      ]
     },
     "execution_count": 358,
     "metadata": {},
     "output_type": "execute_result"
    }
   ],
   "source": [
    "header_strings"
   ]
  },
  {
   "cell_type": "code",
   "execution_count": 359,
   "metadata": {},
   "outputs": [
    {
     "data": {
      "text/plain": [
       "array([48010226., 57693261., 59432726., ..., 50415990., 46154151., 66055249.])"
      ]
     },
     "execution_count": 359,
     "metadata": {},
     "output_type": "execute_result"
    }
   ],
   "source": [
    "loan_data_numeric[:,0]"
   ]
  },
  {
   "cell_type": "code",
   "execution_count": 360,
   "metadata": {},
   "outputs": [
    {
     "data": {
      "text/plain": [
       "array(['id', 'loan_amnt', 'funded_amnt', 'int_rate', 'installment', 'total_pymnt'], dtype='<U19')"
      ]
     },
     "execution_count": 360,
     "metadata": {},
     "output_type": "execute_result"
    }
   ],
   "source": [
    "header_numeric"
   ]
  },
  {
   "cell_type": "code",
   "execution_count": null,
   "metadata": {},
   "outputs": [],
   "source": []
  }
 ],
 "metadata": {
  "kernelspec": {
   "display_name": "Python 3",
   "language": "python",
   "name": "python3"
  },
  "language_info": {
   "codemirror_mode": {
    "name": "ipython",
    "version": 3
   },
   "file_extension": ".py",
   "mimetype": "text/x-python",
   "name": "python",
   "nbconvert_exporter": "python",
   "pygments_lexer": "ipython3",
   "version": "3.8.8"
  }
 },
 "nbformat": 4,
 "nbformat_minor": 2
}
